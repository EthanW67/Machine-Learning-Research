{
  "nbformat": 4,
  "nbformat_minor": 0,
  "metadata": {
    "colab": {
      "provenance": [],
      "gpuType": "T4",
      "authorship_tag": "ABX9TyMp6WR3/5YTgvUEF1HPx9Qz",
      "include_colab_link": true
    },
    "kernelspec": {
      "name": "python3",
      "display_name": "Python 3"
    },
    "language_info": {
      "name": "python"
    },
    "accelerator": "GPU"
  },
  "cells": [
    {
      "cell_type": "markdown",
      "metadata": {
        "id": "view-in-github",
        "colab_type": "text"
      },
      "source": [
        "<a href=\"https://colab.research.google.com/github/EthanW67/Machine-Learning-Research/blob/main/Machine-Learning-Research/00_pytorch_fundamentals_video.ipynb\" target=\"_parent\"><img src=\"https://colab.research.google.com/assets/colab-badge.svg\" alt=\"Open In Colab\"/></a>"
      ]
    },
    {
      "cell_type": "markdown",
      "source": [
        "Research NoteBook: https://www.learnpytorch.io/00_pytorch_fundamentals/"
      ],
      "metadata": {
        "id": "KBQwLrTK0CEs"
      }
    },
    {
      "cell_type": "code",
      "execution_count": null,
      "metadata": {
        "colab": {
          "base_uri": "https://localhost:8080/"
        },
        "id": "-mr0ug4Dxo3N",
        "outputId": "92334261-0d68-4a68-e014-dcab77ceef43"
      },
      "outputs": [
        {
          "output_type": "stream",
          "name": "stdout",
          "text": [
            "2.3.0+cu121\n"
          ]
        }
      ],
      "source": [
        "import torch\n",
        "import pandas as pd\n",
        "import numpy as np\n",
        "print(torch.__version__)"
      ]
    },
    {
      "cell_type": "markdown",
      "source": [
        "Creating Tensors --> torch.tensors()\n"
      ],
      "metadata": {
        "id": "pu1map6604j6"
      }
    },
    {
      "cell_type": "code",
      "source": [
        "# SCALAR TENSOR\n",
        "# Scalar tensor have zero dimensions\n",
        "scaler = torch.tensor(7)\n",
        "scaler"
      ],
      "metadata": {
        "colab": {
          "base_uri": "https://localhost:8080/"
        },
        "id": "jFG_gYYOz-AC",
        "outputId": "3ed1b6ef-056c-4f7e-9187-8b308620a8a8"
      },
      "execution_count": null,
      "outputs": [
        {
          "output_type": "execute_result",
          "data": {
            "text/plain": [
              "tensor(7)"
            ]
          },
          "metadata": {},
          "execution_count": 2
        }
      ]
    },
    {
      "cell_type": "code",
      "source": [
        "# Getting tensor back as a python int\n",
        "scaler.item()"
      ],
      "metadata": {
        "colab": {
          "base_uri": "https://localhost:8080/"
        },
        "id": "MLagG04w1SlS",
        "outputId": "b0182b6e-1bb3-4448-8689-58b2885c412e"
      },
      "execution_count": null,
      "outputs": [
        {
          "output_type": "execute_result",
          "data": {
            "text/plain": [
              "7"
            ]
          },
          "metadata": {},
          "execution_count": 3
        }
      ]
    },
    {
      "cell_type": "code",
      "source": [
        "# Vector Tensor\n",
        "vector = torch.tensor([7,7])\n",
        "vector"
      ],
      "metadata": {
        "colab": {
          "base_uri": "https://localhost:8080/"
        },
        "id": "PYMPzk5U1z20",
        "outputId": "56ac5b59-6068-4841-db4d-4bbcf0ced7a2"
      },
      "execution_count": null,
      "outputs": [
        {
          "output_type": "execute_result",
          "data": {
            "text/plain": [
              "tensor([7, 7])"
            ]
          },
          "metadata": {},
          "execution_count": 4
        }
      ]
    },
    {
      "cell_type": "code",
      "source": [
        "# Matrix\n",
        "Matrix = torch.tensor([[7,8],\n",
        "                     [9, 10]])\n",
        "Matrix"
      ],
      "metadata": {
        "colab": {
          "base_uri": "https://localhost:8080/"
        },
        "id": "YhYt1ctg2GeA",
        "outputId": "ba91f485-2310-4b98-eb8f-d0932cf45e8b"
      },
      "execution_count": null,
      "outputs": [
        {
          "output_type": "execute_result",
          "data": {
            "text/plain": [
              "tensor([[ 7,  8],\n",
              "        [ 9, 10]])"
            ]
          },
          "metadata": {},
          "execution_count": 5
        }
      ]
    },
    {
      "cell_type": "code",
      "source": [
        "Matrix[1]"
      ],
      "metadata": {
        "colab": {
          "base_uri": "https://localhost:8080/"
        },
        "id": "AFhjzmMq2pA2",
        "outputId": "5a714d67-9b5e-42fd-eaed-617461be8377"
      },
      "execution_count": null,
      "outputs": [
        {
          "output_type": "execute_result",
          "data": {
            "text/plain": [
              "tensor([ 9, 10])"
            ]
          },
          "metadata": {},
          "execution_count": 6
        }
      ]
    },
    {
      "cell_type": "code",
      "source": [
        "# Tensor\n",
        "TENSOR = torch.tensor([[[1,2,3],\n",
        "                       [4,5,6],\n",
        "                       [7,8,9]]\n",
        "                       ])\n",
        "TENSOR"
      ],
      "metadata": {
        "colab": {
          "base_uri": "https://localhost:8080/"
        },
        "id": "CvLc8dr229kA",
        "outputId": "df4c79d9-4179-4623-ce16-6ec2bd433a73"
      },
      "execution_count": null,
      "outputs": [
        {
          "output_type": "execute_result",
          "data": {
            "text/plain": [
              "tensor([[[1, 2, 3],\n",
              "         [4, 5, 6],\n",
              "         [7, 8, 9]]])"
            ]
          },
          "metadata": {},
          "execution_count": 7
        }
      ]
    },
    {
      "cell_type": "code",
      "source": [
        "TENSOR = torch.tensor([[[1,2,3,4],\n",
        "                       [4,5,6,3],\n",
        "                       [7,8,9,3],\n",
        "                      [10,11,12,14]]\n",
        "                       ])\n",
        "TENSOR"
      ],
      "metadata": {
        "colab": {
          "base_uri": "https://localhost:8080/"
        },
        "id": "2VKW8wtK3e-b",
        "outputId": "1a0cb0f1-14ba-46f1-be14-7e18bc60c7c0"
      },
      "execution_count": null,
      "outputs": [
        {
          "output_type": "execute_result",
          "data": {
            "text/plain": [
              "tensor([[[ 1,  2,  3,  4],\n",
              "         [ 4,  5,  6,  3],\n",
              "         [ 7,  8,  9,  3],\n",
              "         [10, 11, 12, 14]]])"
            ]
          },
          "metadata": {},
          "execution_count": 8
        }
      ]
    },
    {
      "cell_type": "code",
      "source": [
        "TENSOR.shape"
      ],
      "metadata": {
        "colab": {
          "base_uri": "https://localhost:8080/"
        },
        "id": "je76ecIx3xrj",
        "outputId": "ca4dff60-8e35-4c0a-a658-1ea3e8a760bc"
      },
      "execution_count": null,
      "outputs": [
        {
          "output_type": "execute_result",
          "data": {
            "text/plain": [
              "torch.Size([1, 4, 4])"
            ]
          },
          "metadata": {},
          "execution_count": 9
        }
      ]
    },
    {
      "cell_type": "markdown",
      "source": [
        "Command mm - converts comments into headers"
      ],
      "metadata": {
        "id": "irBqNcID5AQV"
      }
    },
    {
      "cell_type": "markdown",
      "source": [
        "Create Random Tensors\n"
      ],
      "metadata": {
        "id": "6yIrtObb5erL"
      }
    },
    {
      "cell_type": "code",
      "source": [
        "# Random Tensors\n",
        "random_tensor = torch.rand(3,4)\n",
        "random_tensor"
      ],
      "metadata": {
        "colab": {
          "base_uri": "https://localhost:8080/"
        },
        "id": "SfgBLaZo5AAc",
        "outputId": "bbbeed47-563f-4d6a-ec87-ae67a1508c34"
      },
      "execution_count": null,
      "outputs": [
        {
          "output_type": "execute_result",
          "data": {
            "text/plain": [
              "tensor([[0.2606, 0.1638, 0.8413, 0.6409],\n",
              "        [0.0694, 0.9281, 0.3715, 0.7214],\n",
              "        [0.0532, 0.5379, 0.9110, 0.4426]])"
            ]
          },
          "metadata": {},
          "execution_count": 10
        }
      ]
    },
    {
      "cell_type": "code",
      "source": [
        "# Create a random tensor with similar shape to an image tensor\n",
        "\n",
        "random_image_size_tensor = torch.rand(size = (224, 224, 3)) # height, weight, color (rbg)\n"
      ],
      "metadata": {
        "id": "6phNGxw157t-"
      },
      "execution_count": null,
      "outputs": []
    },
    {
      "cell_type": "markdown",
      "source": [
        "Tensor of Zeros and Ones"
      ],
      "metadata": {
        "id": "GtIWexHy64mI"
      }
    },
    {
      "cell_type": "code",
      "source": [
        "# Create a tensor of all zeros\n",
        "zero = torch.zeros(size=(3,4))\n",
        "zero"
      ],
      "metadata": {
        "colab": {
          "base_uri": "https://localhost:8080/"
        },
        "id": "WT7rWZPe64UR",
        "outputId": "3720cea8-bea0-4422-ba21-1626ec94da1e"
      },
      "execution_count": null,
      "outputs": [
        {
          "output_type": "execute_result",
          "data": {
            "text/plain": [
              "tensor([[0., 0., 0., 0.],\n",
              "        [0., 0., 0., 0.],\n",
              "        [0., 0., 0., 0.]])"
            ]
          },
          "metadata": {},
          "execution_count": 12
        }
      ]
    },
    {
      "cell_type": "code",
      "source": [
        "ones = torch.ones(size= (3,4))\n",
        "ones"
      ],
      "metadata": {
        "colab": {
          "base_uri": "https://localhost:8080/"
        },
        "id": "xYpDCp-m7jr9",
        "outputId": "a282308e-114e-4cc0-c23c-a7ecef11a80a"
      },
      "execution_count": null,
      "outputs": [
        {
          "output_type": "execute_result",
          "data": {
            "text/plain": [
              "tensor([[1., 1., 1., 1.],\n",
              "        [1., 1., 1., 1.],\n",
              "        [1., 1., 1., 1.]])"
            ]
          },
          "metadata": {},
          "execution_count": 13
        }
      ]
    },
    {
      "cell_type": "markdown",
      "source": [
        "# Creating a range of tensors and tensor-like\n",
        "\n",
        "range = torch.arange\n",
        "\n",
        "like = torch.zeros_like"
      ],
      "metadata": {
        "id": "-3ChrfU_73hf"
      }
    },
    {
      "cell_type": "code",
      "source": [
        "# Use torch.arange()\n",
        "one_to_ten = torch.arange(1,11)\n",
        "one_to_ten"
      ],
      "metadata": {
        "colab": {
          "base_uri": "https://localhost:8080/"
        },
        "id": "mc6wRzIg8EJL",
        "outputId": "f311dcfd-64d2-46c3-e968-19030cc1f7ee"
      },
      "execution_count": null,
      "outputs": [
        {
          "output_type": "execute_result",
          "data": {
            "text/plain": [
              "tensor([ 1,  2,  3,  4,  5,  6,  7,  8,  9, 10])"
            ]
          },
          "metadata": {},
          "execution_count": 14
        }
      ]
    },
    {
      "cell_type": "code",
      "source": [
        "torch.arange(start= 1, end= 100, step=5)"
      ],
      "metadata": {
        "colab": {
          "base_uri": "https://localhost:8080/"
        },
        "id": "Hv3QeUfx8cX8",
        "outputId": "e61b7332-7d82-4ee9-b592-616c18c52db1"
      },
      "execution_count": null,
      "outputs": [
        {
          "output_type": "execute_result",
          "data": {
            "text/plain": [
              "tensor([ 1,  6, 11, 16, 21, 26, 31, 36, 41, 46, 51, 56, 61, 66, 71, 76, 81, 86,\n",
              "        91, 96])"
            ]
          },
          "metadata": {},
          "execution_count": 15
        }
      ]
    },
    {
      "cell_type": "code",
      "source": [
        "# Creating tensor like\n",
        "# Uses the format of a tensor and replaces all the elements in it with zero\n",
        "ten_zeros = torch.zeros_like(input= one_to_ten)\n",
        "ten_zeros\n"
      ],
      "metadata": {
        "colab": {
          "base_uri": "https://localhost:8080/"
        },
        "id": "R6-GalkH8suZ",
        "outputId": "a12b8bd1-15d1-4163-f92d-d7799bc1db6b"
      },
      "execution_count": null,
      "outputs": [
        {
          "output_type": "execute_result",
          "data": {
            "text/plain": [
              "tensor([0, 0, 0, 0, 0, 0, 0, 0, 0, 0])"
            ]
          },
          "metadata": {},
          "execution_count": 16
        }
      ]
    },
    {
      "cell_type": "markdown",
      "source": [
        "# Tensor datatypes\n",
        "3 big errors\n",
        "\n",
        "  Tensors not right datetype\n",
        "\n",
        "  Tensors not right shape\n",
        "  \n",
        "  Tensors not on the right device"
      ],
      "metadata": {
        "id": "hfZhZyj_9d2n"
      }
    },
    {
      "cell_type": "code",
      "source": [
        "# Float 32 tensor\n",
        "float_32_tensor = torch.tensor ([3.0, 6.0, 9.0],\n",
        "                                dtype = None, # what datetype is the tensor (float32, float16)\n",
        "                                device = None, # What device is yoru tensor on\n",
        "                                requires_grad= False) # whether or not to track gradients\n",
        "float_32_tensor"
      ],
      "metadata": {
        "colab": {
          "base_uri": "https://localhost:8080/"
        },
        "id": "4KJg2_tU9l4u",
        "outputId": "faafe0e0-d0e0-49af-b823-f10e70c57edc"
      },
      "execution_count": null,
      "outputs": [
        {
          "output_type": "execute_result",
          "data": {
            "text/plain": [
              "tensor([3., 6., 9.])"
            ]
          },
          "metadata": {},
          "execution_count": 17
        }
      ]
    },
    {
      "cell_type": "code",
      "source": [
        "# Convert to Float 32 tensor\n",
        "float_16_tensor = float_32_tensor.type(torch.float16)\n",
        "float_16_tensor"
      ],
      "metadata": {
        "colab": {
          "base_uri": "https://localhost:8080/"
        },
        "id": "LtZjybsg3y5L",
        "outputId": "0275487d-4b03-42fd-f416-4c5120e66c71"
      },
      "execution_count": null,
      "outputs": [
        {
          "output_type": "execute_result",
          "data": {
            "text/plain": [
              "tensor([3., 6., 9.], dtype=torch.float16)"
            ]
          },
          "metadata": {},
          "execution_count": 18
        }
      ]
    },
    {
      "cell_type": "code",
      "source": [
        "float_16_tensor * float_32_tensor"
      ],
      "metadata": {
        "colab": {
          "base_uri": "https://localhost:8080/"
        },
        "id": "X651-qJO6yCO",
        "outputId": "07e96b9a-8b2f-409e-d262-de5bdf4d2ba0"
      },
      "execution_count": null,
      "outputs": [
        {
          "output_type": "execute_result",
          "data": {
            "text/plain": [
              "tensor([ 9., 36., 81.])"
            ]
          },
          "metadata": {},
          "execution_count": 19
        }
      ]
    },
    {
      "cell_type": "markdown",
      "source": [
        "### Getting Information from Tensors (Tensors Attributies)\n",
        "\n",
        "1. Incorrect Datatype: tensor.dtype\n",
        "2. Incorrect Shape: tensor.shape or tensor.size()\n",
        "3. Incorrect Device: tensor.device\n"
      ],
      "metadata": {
        "id": "2BfmtzZt7ABc"
      }
    },
    {
      "cell_type": "code",
      "source": [
        "# Create a tensor\n",
        "random_tensor = torch.rand(3,4)\n",
        "random_tensor"
      ],
      "metadata": {
        "colab": {
          "base_uri": "https://localhost:8080/"
        },
        "id": "a6febHpa7c4t",
        "outputId": "51503fd3-272f-4b45-e9bf-4e60f4b493c3"
      },
      "execution_count": null,
      "outputs": [
        {
          "output_type": "execute_result",
          "data": {
            "text/plain": [
              "tensor([[0.3605, 0.8526, 0.2882, 0.7799],\n",
              "        [0.0412, 0.4679, 0.7893, 0.7472],\n",
              "        [0.0538, 0.6768, 0.6466, 0.2493]])"
            ]
          },
          "metadata": {},
          "execution_count": 20
        }
      ]
    },
    {
      "cell_type": "markdown",
      "source": [],
      "metadata": {
        "id": "mRyS2rl68XDV"
      }
    },
    {
      "cell_type": "code",
      "source": [
        "# Details about the Tensor\n",
        "print(random_tensor)\n",
        "print(f\"Datatype: {random_tensor.dtype}\")\n",
        "print(f\"Shape: {random_tensor.shape}\")\n",
        "print(f\"Device: {random_tensor.device}\")"
      ],
      "metadata": {
        "colab": {
          "base_uri": "https://localhost:8080/"
        },
        "id": "fwDBJYy27rZb",
        "outputId": "294731f4-8c92-4b0e-9283-5510e7cdd6c8"
      },
      "execution_count": null,
      "outputs": [
        {
          "output_type": "stream",
          "name": "stdout",
          "text": [
            "tensor([[0.3605, 0.8526, 0.2882, 0.7799],\n",
            "        [0.0412, 0.4679, 0.7893, 0.7472],\n",
            "        [0.0538, 0.6768, 0.6466, 0.2493]])\n",
            "Datatype: torch.float32\n",
            "Shape: torch.Size([3, 4])\n",
            "Device: cpu\n"
          ]
        }
      ]
    },
    {
      "cell_type": "code",
      "source": [
        "# Float 16 Tensor Information\n",
        "float_16_tensor = random_tensor.type(torch.float16)\n",
        "\n",
        "print(float_16_tensor)\n",
        "print(f\"Datatype: {float_16_tensor.dtype}\")\n",
        "print(f\"Shape: {float_16_tensor.shape}\")\n",
        "print(f\"Device: {float_16_tensor.device}\")"
      ],
      "metadata": {
        "colab": {
          "base_uri": "https://localhost:8080/"
        },
        "id": "3DLr0BoP8Bou",
        "outputId": "c8e0d0e9-6eaf-4a0c-dec4-da61ee377b4b"
      },
      "execution_count": null,
      "outputs": [
        {
          "output_type": "stream",
          "name": "stdout",
          "text": [
            "tensor([[0.3606, 0.8525, 0.2883, 0.7798],\n",
            "        [0.0412, 0.4678, 0.7896, 0.7471],\n",
            "        [0.0538, 0.6768, 0.6465, 0.2493]], dtype=torch.float16)\n",
            "Datatype: torch.float16\n",
            "Shape: torch.Size([3, 4])\n",
            "Device: cpu\n"
          ]
        }
      ]
    },
    {
      "cell_type": "markdown",
      "source": [
        "### Tensor Operations\n",
        "Addition\n",
        "\n",
        "Subtraction\n",
        "\n",
        "Multiplication\n",
        "\n",
        "Division\n",
        "\n",
        "Matrix Multiplication\n"
      ],
      "metadata": {
        "id": "6kdHdz7X9MIs"
      }
    },
    {
      "cell_type": "code",
      "source": [
        "# Create Tensor\n",
        "tensor = torch.tensor([1,2,3])\n",
        "tensor"
      ],
      "metadata": {
        "colab": {
          "base_uri": "https://localhost:8080/"
        },
        "id": "_QPrqIiX9fUd",
        "outputId": "62f5d2f9-ede1-49ea-b031-e695de0515ff"
      },
      "execution_count": null,
      "outputs": [
        {
          "output_type": "execute_result",
          "data": {
            "text/plain": [
              "tensor([1, 2, 3])"
            ]
          },
          "metadata": {},
          "execution_count": 23
        }
      ]
    },
    {
      "cell_type": "code",
      "source": [
        "# Add Tensor\n",
        "tensor_1 = tensor + 10\n",
        "torch.add(tensor, 4)"
      ],
      "metadata": {
        "colab": {
          "base_uri": "https://localhost:8080/"
        },
        "id": "RsEAJ2YZ9mPl",
        "outputId": "65ac85c6-a1e0-40ab-974a-d69339eb04e2"
      },
      "execution_count": null,
      "outputs": [
        {
          "output_type": "execute_result",
          "data": {
            "text/plain": [
              "tensor([5, 6, 7])"
            ]
          },
          "metadata": {},
          "execution_count": 24
        }
      ]
    },
    {
      "cell_type": "code",
      "source": [
        "# Multiply\n",
        "tensor_1 * 10\n",
        "torch.mul(tensor,15)"
      ],
      "metadata": {
        "colab": {
          "base_uri": "https://localhost:8080/"
        },
        "id": "rnVFNWWe997E",
        "outputId": "6a550608-6a45-401f-dc60-2e5f191e7034"
      },
      "execution_count": null,
      "outputs": [
        {
          "output_type": "execute_result",
          "data": {
            "text/plain": [
              "tensor([15, 30, 45])"
            ]
          },
          "metadata": {},
          "execution_count": 25
        }
      ]
    },
    {
      "cell_type": "code",
      "source": [
        "# Subtract\n",
        "torch.sub(tensor,10)\n",
        "tensor - 11"
      ],
      "metadata": {
        "colab": {
          "base_uri": "https://localhost:8080/"
        },
        "id": "L2HWHI5r-W21",
        "outputId": "8b7b651f-37b8-46c1-a9b8-36cc5bdf643c"
      },
      "execution_count": null,
      "outputs": [
        {
          "output_type": "execute_result",
          "data": {
            "text/plain": [
              "tensor([-10,  -9,  -8])"
            ]
          },
          "metadata": {},
          "execution_count": 26
        }
      ]
    },
    {
      "cell_type": "markdown",
      "source": [
        "### Matrix Multiplication\n",
        "Two ways of multiplication\n",
        "1. Regular\n",
        "2. Matrix multiplication (dot product):\n",
        "torch.matmul()\n",
        "\n",
        "Two Rules:\n",
        "1. Inner Dimensions Must Match For Shape\n",
        "* (3,2) @ (3,2) won't work\n",
        "* (3,2) @ (2,3) works\n",
        "2. The resulting Matrix has the Shape of the Outer Elements\n",
        "* (3,2) @ (2,3) --> (3,3)\n",
        "\n"
      ],
      "metadata": {
        "id": "KFfcsH7p-86J"
      }
    },
    {
      "cell_type": "code",
      "source": [
        "# Element Wise Mult\n",
        "print(tensor, \"*\", tensor)\n",
        "print(tensor * tensor)"
      ],
      "metadata": {
        "colab": {
          "base_uri": "https://localhost:8080/"
        },
        "id": "5xJGiY4C_LG8",
        "outputId": "b7d2a2ec-7216-43ed-b384-9f86b7efa487"
      },
      "execution_count": null,
      "outputs": [
        {
          "output_type": "stream",
          "name": "stdout",
          "text": [
            "tensor([1, 2, 3]) * tensor([1, 2, 3])\n",
            "tensor([1, 4, 9])\n"
          ]
        }
      ]
    },
    {
      "cell_type": "code",
      "source": [
        "# Matrix Muliplcation\n",
        "%%time\n",
        "torch.matmul(tensor, tensor)"
      ],
      "metadata": {
        "colab": {
          "base_uri": "https://localhost:8080/"
        },
        "id": "paBoJeG0_pZn",
        "outputId": "f37333b1-959f-4347-f5f6-f77f238a7ba4"
      },
      "execution_count": null,
      "outputs": [
        {
          "output_type": "stream",
          "name": "stdout",
          "text": [
            "CPU times: user 971 µs, sys: 798 µs, total: 1.77 ms\n",
            "Wall time: 8.61 ms\n"
          ]
        },
        {
          "output_type": "execute_result",
          "data": {
            "text/plain": [
              "tensor(14)"
            ]
          },
          "metadata": {},
          "execution_count": 28
        }
      ]
    },
    {
      "cell_type": "code",
      "source": [
        "%%time\n",
        "value = 0\n",
        "for i in range(len(tensor)):\n",
        "  value += (tensor[i] * tensor[i])\n",
        "print(value)"
      ],
      "metadata": {
        "colab": {
          "base_uri": "https://localhost:8080/"
        },
        "id": "Wx6ySqRbAOCw",
        "outputId": "c2a807f0-ef55-423e-8fd9-375f6473ae91"
      },
      "execution_count": null,
      "outputs": [
        {
          "output_type": "stream",
          "name": "stdout",
          "text": [
            "tensor(14)\n",
            "CPU times: user 1.65 ms, sys: 0 ns, total: 1.65 ms\n",
            "Wall time: 1.72 ms\n"
          ]
        }
      ]
    },
    {
      "cell_type": "markdown",
      "source": [
        "Shape Errors\n",
        "1. Transpose: Switches the axes or dimensions of a given tensor"
      ],
      "metadata": {
        "id": "fpqDovINAyVy"
      }
    },
    {
      "cell_type": "code",
      "source": [
        "# Shape for Matrix Muliplicaiton\n",
        "tensor_A = torch.tensor([[1,2],\n",
        "                         [3,4],\n",
        "                         [5,6]])\n",
        "tensor_B = torch.tensor([[7,10],\n",
        "                         [8,11],\n",
        "                         [9,12]])\n",
        "torch.mm(tensor_A, tensor_B)\n"
      ],
      "metadata": {
        "colab": {
          "base_uri": "https://localhost:8080/",
          "height": 182
        },
        "id": "EejD4EWZIsuY",
        "outputId": "93e01562-0c26-4de7-f95a-20dfad61bffc"
      },
      "execution_count": null,
      "outputs": [
        {
          "output_type": "error",
          "ename": "RuntimeError",
          "evalue": "mat1 and mat2 shapes cannot be multiplied (3x2 and 3x2)",
          "traceback": [
            "\u001b[0;31m---------------------------------------------------------------------------\u001b[0m",
            "\u001b[0;31mRuntimeError\u001b[0m                              Traceback (most recent call last)",
            "\u001b[0;32m<ipython-input-30-d5872f14955c>\u001b[0m in \u001b[0;36m<cell line: 8>\u001b[0;34m()\u001b[0m\n\u001b[1;32m      6\u001b[0m                          \u001b[0;34m[\u001b[0m\u001b[0;36m8\u001b[0m\u001b[0;34m,\u001b[0m\u001b[0;36m11\u001b[0m\u001b[0;34m]\u001b[0m\u001b[0;34m,\u001b[0m\u001b[0;34m\u001b[0m\u001b[0;34m\u001b[0m\u001b[0m\n\u001b[1;32m      7\u001b[0m                          [9,12]])\n\u001b[0;32m----> 8\u001b[0;31m \u001b[0mtorch\u001b[0m\u001b[0;34m.\u001b[0m\u001b[0mmm\u001b[0m\u001b[0;34m(\u001b[0m\u001b[0mtensor_A\u001b[0m\u001b[0;34m,\u001b[0m \u001b[0mtensor_B\u001b[0m\u001b[0;34m)\u001b[0m\u001b[0;34m\u001b[0m\u001b[0;34m\u001b[0m\u001b[0m\n\u001b[0m",
            "\u001b[0;31mRuntimeError\u001b[0m: mat1 and mat2 shapes cannot be multiplied (3x2 and 3x2)"
          ]
        }
      ]
    },
    {
      "cell_type": "code",
      "source": [
        "tensor_A.shape, tensor_B.shape"
      ],
      "metadata": {
        "colab": {
          "base_uri": "https://localhost:8080/"
        },
        "id": "tzEhAwe-KA0O",
        "outputId": "35dd28b8-844e-402a-d7ee-96d255c342a6"
      },
      "execution_count": null,
      "outputs": [
        {
          "output_type": "execute_result",
          "data": {
            "text/plain": [
              "(torch.Size([3, 2]), torch.Size([3, 2]))"
            ]
          },
          "metadata": {},
          "execution_count": 32
        }
      ]
    },
    {
      "cell_type": "markdown",
      "source": [
        "Transpose --> tensor.T"
      ],
      "metadata": {
        "id": "3pCdG7t7KdFA"
      }
    },
    {
      "cell_type": "code",
      "source": [
        "tensor_B"
      ],
      "metadata": {
        "colab": {
          "base_uri": "https://localhost:8080/"
        },
        "id": "0P0sSkszKK67",
        "outputId": "2e728361-4f6c-4794-ed25-658b6f3baa29"
      },
      "execution_count": null,
      "outputs": [
        {
          "output_type": "execute_result",
          "data": {
            "text/plain": [
              "tensor([[ 7, 10],\n",
              "        [ 8, 11],\n",
              "        [ 9, 12]])"
            ]
          },
          "metadata": {},
          "execution_count": 33
        }
      ]
    },
    {
      "cell_type": "code",
      "source": [
        "tensor_B.T"
      ],
      "metadata": {
        "colab": {
          "base_uri": "https://localhost:8080/"
        },
        "id": "1aykZtUYKYe6",
        "outputId": "acbe0e5f-701d-4d0c-84f3-ca66c5ac6801"
      },
      "execution_count": null,
      "outputs": [
        {
          "output_type": "execute_result",
          "data": {
            "text/plain": [
              "tensor([[ 7,  8,  9],\n",
              "        [10, 11, 12]])"
            ]
          },
          "metadata": {},
          "execution_count": 34
        }
      ]
    },
    {
      "cell_type": "code",
      "source": [
        "tensor_B.T.shape"
      ],
      "metadata": {
        "colab": {
          "base_uri": "https://localhost:8080/"
        },
        "id": "46eUlRclKp53",
        "outputId": "ccf10c43-814e-4bdb-a653-fd281909b92c"
      },
      "execution_count": null,
      "outputs": [
        {
          "output_type": "execute_result",
          "data": {
            "text/plain": [
              "torch.Size([2, 3])"
            ]
          },
          "metadata": {},
          "execution_count": 35
        }
      ]
    },
    {
      "cell_type": "code",
      "source": [
        "torch.mm(tensor_A, tensor_B.T)"
      ],
      "metadata": {
        "colab": {
          "base_uri": "https://localhost:8080/"
        },
        "id": "L9RJkBUjKrWs",
        "outputId": "b9ea4f15-9b5a-4e2f-ab1e-4590d7a09ca4"
      },
      "execution_count": null,
      "outputs": [
        {
          "output_type": "execute_result",
          "data": {
            "text/plain": [
              "tensor([[ 27,  30,  33],\n",
              "        [ 61,  68,  75],\n",
              "        [ 95, 106, 117]])"
            ]
          },
          "metadata": {},
          "execution_count": 36
        }
      ]
    },
    {
      "cell_type": "markdown",
      "source": [
        "### Tensor Aggregation (min, max, mean, sum,\n",
        "\n",
        "*   Mean --> Need to be float15 or float 32 type\n",
        "*   List item\n",
        "\n",
        "etc)"
      ],
      "metadata": {
        "id": "YR30TOeSLuXM"
      }
    },
    {
      "cell_type": "code",
      "source": [
        "# Create a tensor\n",
        "tensor = torch.arange(0,100, 10)\n",
        "tensor"
      ],
      "metadata": {
        "colab": {
          "base_uri": "https://localhost:8080/"
        },
        "id": "GqXf8jh3Lz3w",
        "outputId": "c629293e-5be5-4a75-c461-93eb071d1550"
      },
      "execution_count": null,
      "outputs": [
        {
          "output_type": "execute_result",
          "data": {
            "text/plain": [
              "tensor([ 0, 10, 20, 30, 40, 50, 60, 70, 80, 90])"
            ]
          },
          "metadata": {},
          "execution_count": 37
        }
      ]
    },
    {
      "cell_type": "code",
      "source": [
        "torch.min(tensor), tensor.min()"
      ],
      "metadata": {
        "colab": {
          "base_uri": "https://localhost:8080/"
        },
        "id": "SN_MPz0XL8ru",
        "outputId": "76846013-82c4-4c05-baed-d2db5413baf2"
      },
      "execution_count": null,
      "outputs": [
        {
          "output_type": "execute_result",
          "data": {
            "text/plain": [
              "(tensor(0), tensor(0))"
            ]
          },
          "metadata": {},
          "execution_count": 38
        }
      ]
    },
    {
      "cell_type": "code",
      "source": [
        "torch.max(tensor), tensor.max()"
      ],
      "metadata": {
        "colab": {
          "base_uri": "https://localhost:8080/"
        },
        "id": "3_XV1khNMCBr",
        "outputId": "c248945f-3e24-48fc-e38e-8c1b37298bc4"
      },
      "execution_count": null,
      "outputs": [
        {
          "output_type": "execute_result",
          "data": {
            "text/plain": [
              "(tensor(90), tensor(90))"
            ]
          },
          "metadata": {},
          "execution_count": 39
        }
      ]
    },
    {
      "cell_type": "code",
      "source": [
        "torch.mean(tensor.type(torch.float32))"
      ],
      "metadata": {
        "colab": {
          "base_uri": "https://localhost:8080/"
        },
        "id": "9nFBxJ6-MD87",
        "outputId": "75b98121-31f8-4970-8c85-8d2c0dbc7bae"
      },
      "execution_count": null,
      "outputs": [
        {
          "output_type": "execute_result",
          "data": {
            "text/plain": [
              "tensor(45.)"
            ]
          },
          "metadata": {},
          "execution_count": 40
        }
      ]
    },
    {
      "cell_type": "code",
      "source": [
        "torch.sum(tensor), tensor.sum()"
      ],
      "metadata": {
        "colab": {
          "base_uri": "https://localhost:8080/"
        },
        "id": "IHvYt6V6NBv_",
        "outputId": "a33bedad-7194-4db6-b552-ce6b3993ca72"
      },
      "execution_count": null,
      "outputs": [
        {
          "output_type": "execute_result",
          "data": {
            "text/plain": [
              "(tensor(450), tensor(450))"
            ]
          },
          "metadata": {},
          "execution_count": 41
        }
      ]
    },
    {
      "cell_type": "markdown",
      "source": [
        "### Finding the Positiona Min and Max\n",
        "1. torch.argmin()\n",
        "2. torch.argmax()"
      ],
      "metadata": {
        "id": "Abq2yBQzNqQg"
      }
    },
    {
      "cell_type": "code",
      "source": [
        "# Returns the index where the min value is --> 0\n",
        "torch.argmin(tensor)"
      ],
      "metadata": {
        "colab": {
          "base_uri": "https://localhost:8080/"
        },
        "id": "tiFNioQYNyFV",
        "outputId": "e342cbca-b2c4-4ae6-fc6c-8fb45f233e16"
      },
      "execution_count": null,
      "outputs": [
        {
          "output_type": "execute_result",
          "data": {
            "text/plain": [
              "tensor(0)"
            ]
          },
          "metadata": {},
          "execution_count": 42
        }
      ]
    },
    {
      "cell_type": "code",
      "source": [
        "tensor_1 = torch.rand(1,4)\n",
        "tensor_1"
      ],
      "metadata": {
        "colab": {
          "base_uri": "https://localhost:8080/"
        },
        "id": "H1UXHHRaOPfU",
        "outputId": "70cc5883-84f7-467d-9408-f3a84c439e18"
      },
      "execution_count": null,
      "outputs": [
        {
          "output_type": "execute_result",
          "data": {
            "text/plain": [
              "tensor([[0.6991, 0.3755, 0.8811, 0.7067]])"
            ]
          },
          "metadata": {},
          "execution_count": 43
        }
      ]
    },
    {
      "cell_type": "code",
      "source": [
        "tensor_1.argmin()"
      ],
      "metadata": {
        "colab": {
          "base_uri": "https://localhost:8080/"
        },
        "id": "VUtA_15OOdTY",
        "outputId": "b5c38581-00d0-4957-c98c-c8af153552c5"
      },
      "execution_count": null,
      "outputs": [
        {
          "output_type": "execute_result",
          "data": {
            "text/plain": [
              "tensor(1)"
            ]
          },
          "metadata": {},
          "execution_count": 44
        }
      ]
    },
    {
      "cell_type": "code",
      "source": [
        "# Returns the index where the max value is\n",
        "tensor.argmax()"
      ],
      "metadata": {
        "colab": {
          "base_uri": "https://localhost:8080/"
        },
        "id": "Gp-4SY3FOAik",
        "outputId": "a1b87751-91f1-4e64-9f9d-33068c088568"
      },
      "execution_count": null,
      "outputs": [
        {
          "output_type": "execute_result",
          "data": {
            "text/plain": [
              "tensor(9)"
            ]
          },
          "metadata": {},
          "execution_count": 45
        }
      ]
    },
    {
      "cell_type": "markdown",
      "source": [
        "### Reshaping, Stacking, Squeezing, and Unsqueezing Tensors\n",
        "* Reshaping\n",
        "* View\n",
        "* Stacking\n",
        "* Squeeze\n",
        "* Unsqueeze"
      ],
      "metadata": {
        "id": "_ajWJbEsO4nk"
      }
    },
    {
      "cell_type": "code",
      "source": [
        "#Create Tensor\n",
        "import torch\n",
        "x = torch.arange(1., 10.)\n",
        "x, x.shape"
      ],
      "metadata": {
        "colab": {
          "base_uri": "https://localhost:8080/"
        },
        "id": "dXtIDuqtj3BA",
        "outputId": "7ec1d6ae-5caa-4170-f6c8-97ddfd784471"
      },
      "execution_count": null,
      "outputs": [
        {
          "output_type": "execute_result",
          "data": {
            "text/plain": [
              "(tensor([1., 2., 3., 4., 5., 6., 7., 8., 9.]), torch.Size([9]))"
            ]
          },
          "metadata": {},
          "execution_count": 46
        }
      ]
    },
    {
      "cell_type": "markdown",
      "source": [
        "Reshaping"
      ],
      "metadata": {
        "id": "2VuTxd_Lk8uP"
      }
    },
    {
      "cell_type": "code",
      "source": [
        "# Adding Extra dimensions\n",
        "# Element amount must Match i.e. We have 9 elements so we have to have either 9 tensors or\n",
        "# 1 tensor with 9 elements\n",
        "# Reshape must be compatible with the original size\n",
        "x_reshaped = x.reshape((1,9))\n",
        "x_reshaped, x_reshaped.shape\n",
        "# i.e 10 elements you can have (2,5) since 2 * 5 = 10"
      ],
      "metadata": {
        "colab": {
          "base_uri": "https://localhost:8080/"
        },
        "id": "E8cVGeRikTF5",
        "outputId": "0d68581d-5d46-4c4b-9391-b0e51e705e13"
      },
      "execution_count": null,
      "outputs": [
        {
          "output_type": "execute_result",
          "data": {
            "text/plain": [
              "(tensor([[1., 2., 3., 4., 5., 6., 7., 8., 9.]]), torch.Size([1, 9]))"
            ]
          },
          "metadata": {},
          "execution_count": 47
        }
      ]
    },
    {
      "cell_type": "markdown",
      "source": [
        "View\n",
        "* Changing z changes x (since they have the same memory"
      ],
      "metadata": {
        "id": "athuyssTlXV0"
      }
    },
    {
      "cell_type": "code",
      "source": [
        "# Changing the view\n",
        "#They share the same memory\n",
        "z = x.view(1,9)\n",
        "z, z.shape"
      ],
      "metadata": {
        "colab": {
          "base_uri": "https://localhost:8080/"
        },
        "id": "jwVVHnqOk7B3",
        "outputId": "c659ee4c-971b-434e-deb0-865840a4a45d"
      },
      "execution_count": null,
      "outputs": [
        {
          "output_type": "execute_result",
          "data": {
            "text/plain": [
              "(tensor([[1., 2., 3., 4., 5., 6., 7., 8., 9.]]), torch.Size([1, 9]))"
            ]
          },
          "metadata": {},
          "execution_count": 48
        }
      ]
    },
    {
      "cell_type": "code",
      "source": [
        "z[:,0] = 5\n",
        "z, x"
      ],
      "metadata": {
        "colab": {
          "base_uri": "https://localhost:8080/"
        },
        "id": "-QLyh21Zlx8p",
        "outputId": "4e45bd8e-12ba-4823-fc95-27f6bbe1005e"
      },
      "execution_count": null,
      "outputs": [
        {
          "output_type": "execute_result",
          "data": {
            "text/plain": [
              "(tensor([[5., 2., 3., 4., 5., 6., 7., 8., 9.]]),\n",
              " tensor([5., 2., 3., 4., 5., 6., 7., 8., 9.]))"
            ]
          },
          "metadata": {},
          "execution_count": 49
        }
      ]
    },
    {
      "cell_type": "markdown",
      "source": [
        "Stacking\n",
        "* Good for combining tensors of the same size and dim"
      ],
      "metadata": {
        "id": "O4MdDc4ml-r7"
      }
    },
    {
      "cell_type": "code",
      "source": [
        "# Stack Tensors on top of each other\n",
        "x_stacked = torch.stack((x,x,x,x), dim = 0)\n",
        "x_stacked"
      ],
      "metadata": {
        "colab": {
          "base_uri": "https://localhost:8080/"
        },
        "id": "UD52bVsTmADk",
        "outputId": "ee8b0b6c-f399-4d8f-e5e5-a3f7a174f2da"
      },
      "execution_count": null,
      "outputs": [
        {
          "output_type": "execute_result",
          "data": {
            "text/plain": [
              "tensor([[5., 2., 3., 4., 5., 6., 7., 8., 9.],\n",
              "        [5., 2., 3., 4., 5., 6., 7., 8., 9.],\n",
              "        [5., 2., 3., 4., 5., 6., 7., 8., 9.],\n",
              "        [5., 2., 3., 4., 5., 6., 7., 8., 9.]])"
            ]
          },
          "metadata": {},
          "execution_count": 50
        }
      ]
    },
    {
      "cell_type": "code",
      "source": [
        "x_stack = torch.rand(3)\n",
        "y_stack = torch.rand(3)\n",
        "z_stack = torch.rand(3)\n",
        "xyz_stack = torch.stack((x_stack, y_stack, z_stack))\n",
        "xyz_stack"
      ],
      "metadata": {
        "colab": {
          "base_uri": "https://localhost:8080/"
        },
        "id": "OqdGOOJDmwkp",
        "outputId": "9e8df05e-0025-4199-a3f0-0a53dc532436"
      },
      "execution_count": null,
      "outputs": [
        {
          "output_type": "execute_result",
          "data": {
            "text/plain": [
              "tensor([[0.8816, 0.5392, 0.9759],\n",
              "        [0.5082, 0.9873, 0.5193],\n",
              "        [0.7633, 0.6014, 0.8619]])"
            ]
          },
          "metadata": {},
          "execution_count": 51
        }
      ]
    },
    {
      "cell_type": "markdown",
      "source": [
        "Squeeze and Unsqueeze\n",
        "* Squeeze: Removes all single dimensions form a target tensor. i.e. [1,1,9] would be [9]\n",
        "* Unsqueeze: Add a single dimension to a target tensor at a specific dim (dim0, dim1, dim2, dim(n))"
      ],
      "metadata": {
        "id": "HMiG58XKntrZ"
      }
    },
    {
      "cell_type": "code",
      "source": [
        "x_reshaped.shape"
      ],
      "metadata": {
        "colab": {
          "base_uri": "https://localhost:8080/"
        },
        "id": "-gOilAZjntbc",
        "outputId": "79c0d7b6-f8af-46af-d507-1b20003d3a4d"
      },
      "execution_count": null,
      "outputs": [
        {
          "output_type": "execute_result",
          "data": {
            "text/plain": [
              "torch.Size([1, 9])"
            ]
          },
          "metadata": {},
          "execution_count": 52
        }
      ]
    },
    {
      "cell_type": "code",
      "source": [
        "x_reshaped"
      ],
      "metadata": {
        "colab": {
          "base_uri": "https://localhost:8080/"
        },
        "id": "3M5T-8sqoZ2J",
        "outputId": "b5d80901-f689-49a5-a4a2-865ce9e76064"
      },
      "execution_count": null,
      "outputs": [
        {
          "output_type": "execute_result",
          "data": {
            "text/plain": [
              "tensor([[5., 2., 3., 4., 5., 6., 7., 8., 9.]])"
            ]
          },
          "metadata": {},
          "execution_count": 53
        }
      ]
    },
    {
      "cell_type": "code",
      "source": [
        "x_reshaped"
      ],
      "metadata": {
        "colab": {
          "base_uri": "https://localhost:8080/"
        },
        "id": "JZnHywyPoj-O",
        "outputId": "11ebba6f-7605-4f6d-ec0d-42e1aaf80a91"
      },
      "execution_count": null,
      "outputs": [
        {
          "output_type": "execute_result",
          "data": {
            "text/plain": [
              "tensor([[5., 2., 3., 4., 5., 6., 7., 8., 9.]])"
            ]
          },
          "metadata": {},
          "execution_count": 55
        }
      ]
    },
    {
      "cell_type": "code",
      "source": [
        "x_reshaped.squeeze().shape"
      ],
      "metadata": {
        "colab": {
          "base_uri": "https://localhost:8080/"
        },
        "id": "7k9DbzkVo5w8",
        "outputId": "4f214447-fecb-4713-a898-5f5219769cad"
      },
      "execution_count": null,
      "outputs": [
        {
          "output_type": "execute_result",
          "data": {
            "text/plain": [
              "torch.Size([9])"
            ]
          },
          "metadata": {},
          "execution_count": 57
        }
      ]
    },
    {
      "cell_type": "markdown",
      "source": [
        "Permute"
      ],
      "metadata": {
        "id": "45pV82mmpQ67"
      }
    },
    {
      "cell_type": "code",
      "source": [
        "# torch.permute: rearranges the dimensions of a target tensor in a specific order\n",
        "x_original = torch.rand(size = (224,224,3)) # height, weight, colour_channel\n",
        "\n",
        "# Permute the original tensor to rearrange the axis order\n",
        "x_permuted = x_original.permute(2,1,0) # shifted the dim from 0 to 2, 1 to 1, 2 to 0\n",
        "print(x_original.shape)\n",
        "print(x_permuted.shape)"
      ],
      "metadata": {
        "colab": {
          "base_uri": "https://localhost:8080/"
        },
        "id": "bW4eFwV-qBUj",
        "outputId": "26e81da8-3b76-411d-ec18-d1fb90667bcf"
      },
      "execution_count": null,
      "outputs": [
        {
          "output_type": "stream",
          "name": "stdout",
          "text": [
            "torch.Size([224, 224, 3])\n",
            "torch.Size([3, 224, 224])\n"
          ]
        }
      ]
    },
    {
      "cell_type": "markdown",
      "source": [
        "## Indexing: Selecting data from Tensors\n",
        "\n",
        "Indexing with Pytrch is similar to indexing with NumPy"
      ],
      "metadata": {
        "id": "2Vf9_L64svdt"
      }
    },
    {
      "cell_type": "code",
      "source": [
        "# Create a tensor\n",
        "import torch\n",
        "x = torch.arange(1,10).reshape(1,3,3)\n",
        "x, x.shape"
      ],
      "metadata": {
        "colab": {
          "base_uri": "https://localhost:8080/"
        },
        "id": "vfVruMkxs_qV",
        "outputId": "d15bd759-7dc1-4c6f-c9d1-0bb4a616ea0d"
      },
      "execution_count": null,
      "outputs": [
        {
          "output_type": "execute_result",
          "data": {
            "text/plain": [
              "(tensor([[[1, 2, 3],\n",
              "          [4, 5, 6],\n",
              "          [7, 8, 9]]]),\n",
              " torch.Size([1, 3, 3]))"
            ]
          },
          "metadata": {},
          "execution_count": 59
        }
      ]
    },
    {
      "cell_type": "code",
      "source": [
        "# Index on dim = 0\n",
        "x[0]"
      ],
      "metadata": {
        "colab": {
          "base_uri": "https://localhost:8080/"
        },
        "id": "dqdAy7_ftNNt",
        "outputId": "5f0f75c3-0452-487a-f325-ee01e3bfbd47"
      },
      "execution_count": null,
      "outputs": [
        {
          "output_type": "execute_result",
          "data": {
            "text/plain": [
              "tensor([[1, 2, 3],\n",
              "        [4, 5, 6],\n",
              "        [7, 8, 9]])"
            ]
          },
          "metadata": {},
          "execution_count": 60
        }
      ]
    },
    {
      "cell_type": "code",
      "source": [
        "# Index on dim = 1 (Middle Bracket)\n",
        "x[0, 0]"
      ],
      "metadata": {
        "colab": {
          "base_uri": "https://localhost:8080/"
        },
        "id": "iowbOje6tfGc",
        "outputId": "0e51faa1-1022-4327-cf24-f238b2cbf0b0"
      },
      "execution_count": null,
      "outputs": [
        {
          "output_type": "execute_result",
          "data": {
            "text/plain": [
              "tensor([1, 2, 3])"
            ]
          },
          "metadata": {},
          "execution_count": 61
        }
      ]
    },
    {
      "cell_type": "code",
      "source": [
        "# Index on dim = 2\n",
        "x[0,0,2]"
      ],
      "metadata": {
        "colab": {
          "base_uri": "https://localhost:8080/"
        },
        "id": "JSclrEETtpoB",
        "outputId": "3c2fedb4-7391-4dbf-8f0c-afb3397e1610"
      },
      "execution_count": null,
      "outputs": [
        {
          "output_type": "execute_result",
          "data": {
            "text/plain": [
              "tensor(3)"
            ]
          },
          "metadata": {},
          "execution_count": 62
        }
      ]
    },
    {
      "cell_type": "code",
      "source": [
        "# : is used to get \"all\" of a target dimension\n",
        "x[:,1,:]"
      ],
      "metadata": {
        "colab": {
          "base_uri": "https://localhost:8080/"
        },
        "id": "xzp4lL05uFWr",
        "outputId": "586b8a7e-1e33-4a0d-d352-9b86d6f94c38"
      },
      "execution_count": null,
      "outputs": [
        {
          "output_type": "execute_result",
          "data": {
            "text/plain": [
              "tensor([[4, 5, 6]])"
            ]
          },
          "metadata": {},
          "execution_count": 63
        }
      ]
    },
    {
      "cell_type": "code",
      "source": [
        "x[0, 0, :]"
      ],
      "metadata": {
        "colab": {
          "base_uri": "https://localhost:8080/"
        },
        "id": "NnIzVA-QuJdL",
        "outputId": "38527401-3ec0-4d9f-e70c-81fedd049d8c"
      },
      "execution_count": null,
      "outputs": [
        {
          "output_type": "execute_result",
          "data": {
            "text/plain": [
              "tensor([1, 2, 3])"
            ]
          },
          "metadata": {},
          "execution_count": 64
        }
      ]
    },
    {
      "cell_type": "code",
      "source": [
        "# Index to find 9\n",
        "x[0,2,2]"
      ],
      "metadata": {
        "colab": {
          "base_uri": "https://localhost:8080/"
        },
        "id": "ivbpAJcEu24R",
        "outputId": "97cc25e9-8908-4291-ebb5-5e5752bdd555"
      },
      "execution_count": null,
      "outputs": [
        {
          "output_type": "execute_result",
          "data": {
            "text/plain": [
              "tensor(9)"
            ]
          },
          "metadata": {},
          "execution_count": 65
        }
      ]
    },
    {
      "cell_type": "code",
      "source": [
        "# Index to find (3,6,9)\n",
        "x[:,:,2]"
      ],
      "metadata": {
        "colab": {
          "base_uri": "https://localhost:8080/"
        },
        "id": "Hy0BkYgovAeC",
        "outputId": "f5588c81-83f1-4caf-c815-a9e832e4cd66"
      },
      "execution_count": null,
      "outputs": [
        {
          "output_type": "execute_result",
          "data": {
            "text/plain": [
              "tensor([[3, 6, 9]])"
            ]
          },
          "metadata": {},
          "execution_count": 66
        }
      ]
    },
    {
      "cell_type": "markdown",
      "source": [
        "## PyTorch Tensors & Numpy\n",
        "* NumPy --> PyTorch: torch.from_numpy(ndarray)\n",
        "*When converting Num to Torch: Torch datatype becomes 64 instead of 32\n",
        "* PyTorch --> NumPy: torch.Tensor.numpy()\n",
        "* Don't share memory i.e they will not effecte each other when the values change"
      ],
      "metadata": {
        "id": "ptzDbV0wvSr4"
      }
    },
    {
      "cell_type": "code",
      "source": [
        "# NumPy to Tensor\n",
        "import torch\n",
        "import numpy as np\n",
        "\n",
        "array = np.arange(1.0, 8.0)\n",
        "tensor = torch.from_numpy(array)\n",
        "array, tensor"
      ],
      "metadata": {
        "colab": {
          "base_uri": "https://localhost:8080/"
        },
        "id": "lJR8oXKHvmp_",
        "outputId": "201cfcff-dd10-4b1f-9b82-09b74c2c7cac"
      },
      "execution_count": null,
      "outputs": [
        {
          "output_type": "execute_result",
          "data": {
            "text/plain": [
              "(array([1., 2., 3., 4., 5., 6., 7.]),\n",
              " tensor([1., 2., 3., 4., 5., 6., 7.], dtype=torch.float64))"
            ]
          },
          "metadata": {},
          "execution_count": 67
        }
      ]
    },
    {
      "cell_type": "code",
      "source": [
        "# Changing the Value of the array\n",
        "array = array + 1\n",
        "array, tensor"
      ],
      "metadata": {
        "colab": {
          "base_uri": "https://localhost:8080/"
        },
        "id": "n6zMdZ1fwpk9",
        "outputId": "1c0139e1-b085-47ff-99d8-0c9343b940d7"
      },
      "execution_count": null,
      "outputs": [
        {
          "output_type": "execute_result",
          "data": {
            "text/plain": [
              "(array([2., 3., 4., 5., 6., 7., 8.]),\n",
              " tensor([1., 2., 3., 4., 5., 6., 7.], dtype=torch.float64))"
            ]
          },
          "metadata": {},
          "execution_count": 68
        }
      ]
    },
    {
      "cell_type": "code",
      "source": [
        "# Tensor to NumPy\n",
        "tensor = torch.ones(7)\n",
        "numpy_tensor = tensor.numpy()\n",
        "tensor, numpy_tensor\n"
      ],
      "metadata": {
        "colab": {
          "base_uri": "https://localhost:8080/"
        },
        "id": "ZjiBK1P8w8Ry",
        "outputId": "96a062dd-bf8b-4438-b7db-7c9bb4c022c0"
      },
      "execution_count": null,
      "outputs": [
        {
          "output_type": "execute_result",
          "data": {
            "text/plain": [
              "(tensor([1., 1., 1., 1., 1., 1., 1.]),\n",
              " array([1., 1., 1., 1., 1., 1., 1.], dtype=float32))"
            ]
          },
          "metadata": {},
          "execution_count": 69
        }
      ]
    },
    {
      "cell_type": "code",
      "source": [
        "# Changing the value of Tensor\n",
        "tensor = tensor + 1\n",
        "tensor, numpy_tensor"
      ],
      "metadata": {
        "colab": {
          "base_uri": "https://localhost:8080/"
        },
        "id": "TpUOvbh6xOSO",
        "outputId": "11047e7c-9e2c-4989-9a94-8ea8c05035a9"
      },
      "execution_count": null,
      "outputs": [
        {
          "output_type": "execute_result",
          "data": {
            "text/plain": [
              "(tensor([2., 2., 2., 2., 2., 2., 2.]),\n",
              " array([1., 1., 1., 1., 1., 1., 1.], dtype=float32))"
            ]
          },
          "metadata": {},
          "execution_count": 70
        }
      ]
    },
    {
      "cell_type": "markdown",
      "source": [
        "## Pytorch Reproducibility (taking the random out of random)\n",
        "* Start with random num --> tensor opertations --> update random number to try and make better representatiosn of the data --> repeat\n",
        "* Reduce randomness in nn and pytorch is the comcept of (random seed)\n",
        "* Random Seed --> flavours the randomness\n"
      ],
      "metadata": {
        "id": "Rx1Oxb-uxfnL"
      }
    },
    {
      "cell_type": "code",
      "source": [
        "import torch\n",
        "# Create two random tensors\n",
        "random_tensor_A = torch.rand(3, 4)\n",
        "random_tensor_B = torch.rand(3, 4)\n",
        "print(random_tensor_A)\n",
        "print(random_tensor_B)\n",
        "print(random_tensor_A == random_tensor_B)"
      ],
      "metadata": {
        "colab": {
          "base_uri": "https://localhost:8080/"
        },
        "id": "CUDuLG_zxrhC",
        "outputId": "0f3257f3-205a-40a2-84ee-d45073c2bb7f"
      },
      "execution_count": null,
      "outputs": [
        {
          "output_type": "stream",
          "name": "stdout",
          "text": [
            "tensor([[0.1315, 0.9611, 0.1717, 0.6607],\n",
            "        [0.6831, 0.4565, 0.0057, 0.8351],\n",
            "        [0.4439, 0.3203, 0.3787, 0.9988]])\n",
            "tensor([[0.4600, 0.5744, 0.6325, 0.3269],\n",
            "        [0.8434, 0.3948, 0.4875, 0.9135],\n",
            "        [0.8485, 0.6798, 0.4600, 0.1254]])\n",
            "tensor([[False, False, False, False],\n",
            "        [False, False, False, False],\n",
            "        [False, False, False, False]])\n"
          ]
        }
      ]
    },
    {
      "cell_type": "code",
      "source": [
        "# Random but Reproducible Tensors\n",
        "import torch\n",
        "# Set the Random Seed\n",
        "RANDOM_SEED = 42\n",
        "torch.manual_seed(RANDOM_SEED)\n",
        "random_tensor_C = torch.rand(3, 4)\n",
        "\n",
        "# Works for only one blop of code so use random seed for every tensor\n",
        "torch.manual_seed(RANDOM_SEED)\n",
        "random_tensor_D = torch.rand(3, 4)\n",
        "\n",
        "print(random_tensor_C)\n",
        "print(random_tensor_D)\n",
        "print(random_tensor_C == random_tensor_D)"
      ],
      "metadata": {
        "colab": {
          "base_uri": "https://localhost:8080/"
        },
        "id": "WBCOCQdHyy1X",
        "outputId": "db8fbf0c-2dee-4315-e5a1-3988bf146b0b"
      },
      "execution_count": null,
      "outputs": [
        {
          "output_type": "stream",
          "name": "stdout",
          "text": [
            "tensor([[0.8823, 0.9150, 0.3829, 0.9593],\n",
            "        [0.3904, 0.6009, 0.2566, 0.7936],\n",
            "        [0.9408, 0.1332, 0.9346, 0.5936]])\n",
            "tensor([[0.8823, 0.9150, 0.3829, 0.9593],\n",
            "        [0.3904, 0.6009, 0.2566, 0.7936],\n",
            "        [0.9408, 0.1332, 0.9346, 0.5936]])\n",
            "tensor([[True, True, True, True],\n",
            "        [True, True, True, True],\n",
            "        [True, True, True, True]])\n"
          ]
        }
      ]
    },
    {
      "cell_type": "markdown",
      "source": [
        "## Running Tensors & PyTorch onjects on the GPUs\n",
        "* Runtime --> Change Runtime Type --> Select GPU --> Rerun everything\n"
      ],
      "metadata": {
        "id": "hJvnZrzb0Avj"
      }
    },
    {
      "cell_type": "code",
      "source": [
        "# Check for GPU acces with Pytorch\n",
        "import torch\n",
        "torch.cuda.is_available()\n"
      ],
      "metadata": {
        "colab": {
          "base_uri": "https://localhost:8080/"
        },
        "id": "fuQX39Su1Dn3",
        "outputId": "24edf98a-2da2-4d0b-8e46-eba5097e81b4"
      },
      "execution_count": null,
      "outputs": [
        {
          "output_type": "execute_result",
          "data": {
            "text/plain": [
              "True"
            ]
          },
          "metadata": {},
          "execution_count": 73
        }
      ]
    },
    {
      "cell_type": "code",
      "source": [
        "# Setup device agnostic code\n",
        "device = \"cuda\" if torch.cuda.is_available() else \"cpu\"\n",
        "device\n",
        "# Allows you to use Cuda if available or cpu instead if not available"
      ],
      "metadata": {
        "colab": {
          "base_uri": "https://localhost:8080/",
          "height": 36
        },
        "id": "tDXOi9qM1f31",
        "outputId": "e1b69028-47c9-4792-fb35-beaaa3076784"
      },
      "execution_count": null,
      "outputs": [
        {
          "output_type": "execute_result",
          "data": {
            "text/plain": [
              "'cuda'"
            ],
            "application/vnd.google.colaboratory.intrinsic+json": {
              "type": "string"
            }
          },
          "metadata": {},
          "execution_count": 74
        }
      ]
    },
    {
      "cell_type": "code",
      "source": [
        "# Count number of devices\n",
        "torch.cuda.device_count()"
      ],
      "metadata": {
        "colab": {
          "base_uri": "https://localhost:8080/"
        },
        "id": "nYwAXQaH2Qll",
        "outputId": "691f04b4-f077-4000-9dd9-aaf641f5cf6b"
      },
      "execution_count": null,
      "outputs": [
        {
          "output_type": "execute_result",
          "data": {
            "text/plain": [
              "1"
            ]
          },
          "metadata": {},
          "execution_count": 75
        }
      ]
    },
    {
      "cell_type": "markdown",
      "source": [
        "## Putting Tensors and Models on the GPU"
      ],
      "metadata": {
        "id": "Lca0Xads2f3J"
      }
    },
    {
      "cell_type": "code",
      "source": [
        "# Create a tensor\n",
        "tensor = torch.tensor([1,2,3])\n",
        "# Tensor is default on CPU\n",
        "print(tensor, tensor.device)"
      ],
      "metadata": {
        "colab": {
          "base_uri": "https://localhost:8080/"
        },
        "id": "9H7-xQIn2nBu",
        "outputId": "1595b017-6f43-4698-a043-ec08d62602e2"
      },
      "execution_count": null,
      "outputs": [
        {
          "output_type": "stream",
          "name": "stdout",
          "text": [
            "tensor([1, 2, 3]) cpu\n"
          ]
        }
      ]
    },
    {
      "cell_type": "code",
      "source": [
        "# Move Tensor to GPU if available\n",
        "tensor_on_gpu = tensor.to(device)\n",
        "tensor_on_gpu"
      ],
      "metadata": {
        "colab": {
          "base_uri": "https://localhost:8080/"
        },
        "id": "gu1ATN3r22mS",
        "outputId": "f21eb58e-bd7c-45fe-a6fc-a69291a5e2eb"
      },
      "execution_count": null,
      "outputs": [
        {
          "output_type": "execute_result",
          "data": {
            "text/plain": [
              "tensor([1, 2, 3], device='cuda:0')"
            ]
          },
          "metadata": {},
          "execution_count": 77
        }
      ]
    },
    {
      "cell_type": "markdown",
      "source": [
        "## Move Tensors back to CPU\n",
        "* NumPy cannot be used if on GPU\n"
      ],
      "metadata": {
        "id": "TaHQrvDX3F6T"
      }
    },
    {
      "cell_type": "code",
      "source": [
        "# Tensor on GPU cannot transform to NumPy\n",
        "tensor_on_gpu.numpy()"
      ],
      "metadata": {
        "colab": {
          "base_uri": "https://localhost:8080/",
          "height": 182
        },
        "id": "b-SsHjAv3QhH",
        "outputId": "6ba9d0aa-1a3f-4319-ef3f-e81b875b945b"
      },
      "execution_count": null,
      "outputs": [
        {
          "output_type": "error",
          "ename": "TypeError",
          "evalue": "can't convert cuda:0 device type tensor to numpy. Use Tensor.cpu() to copy the tensor to host memory first.",
          "traceback": [
            "\u001b[0;31m---------------------------------------------------------------------------\u001b[0m",
            "\u001b[0;31mTypeError\u001b[0m                                 Traceback (most recent call last)",
            "\u001b[0;32m<ipython-input-78-123458b7134e>\u001b[0m in \u001b[0;36m<cell line: 2>\u001b[0;34m()\u001b[0m\n\u001b[1;32m      1\u001b[0m \u001b[0;31m# Tensor on GPU cannot transform to NumPy\u001b[0m\u001b[0;34m\u001b[0m\u001b[0;34m\u001b[0m\u001b[0m\n\u001b[0;32m----> 2\u001b[0;31m \u001b[0mtensor_on_gpu\u001b[0m\u001b[0;34m.\u001b[0m\u001b[0mnumpy\u001b[0m\u001b[0;34m(\u001b[0m\u001b[0;34m)\u001b[0m\u001b[0;34m\u001b[0m\u001b[0;34m\u001b[0m\u001b[0m\n\u001b[0m",
            "\u001b[0;31mTypeError\u001b[0m: can't convert cuda:0 device type tensor to numpy. Use Tensor.cpu() to copy the tensor to host memory first."
          ]
        }
      ]
    },
    {
      "cell_type": "code",
      "source": [
        "# GPU Tensor --> Numpy : first set it to CPU\n",
        "tensor_back_on_cpu = tensor_on_gpu.cpu().numpy()\n",
        "tensor_back_on_cpu"
      ],
      "metadata": {
        "colab": {
          "base_uri": "https://localhost:8080/"
        },
        "id": "6eo_uKKm3a5u",
        "outputId": "942fb754-5a5a-4d51-ab61-b13b8e95d9f9"
      },
      "execution_count": null,
      "outputs": [
        {
          "output_type": "execute_result",
          "data": {
            "text/plain": [
              "array([1, 2, 3])"
            ]
          },
          "metadata": {},
          "execution_count": 79
        }
      ]
    },
    {
      "cell_type": "code",
      "source": [
        "tensor_on_gpu"
      ],
      "metadata": {
        "colab": {
          "base_uri": "https://localhost:8080/"
        },
        "id": "nEwoCUId3qOq",
        "outputId": "3bc9fe34-915e-44ea-ca4c-0777fd433f75"
      },
      "execution_count": null,
      "outputs": [
        {
          "output_type": "execute_result",
          "data": {
            "text/plain": [
              "tensor([1, 2, 3], device='cuda:0')"
            ]
          },
          "metadata": {},
          "execution_count": 80
        }
      ]
    },
    {
      "cell_type": "markdown",
      "source": [
        "https://www.learnpytorch.io/00_pytorch_fundamentals/#exercises"
      ],
      "metadata": {
        "id": "hnd7RLn74Mmq"
      }
    }
  ]
}