{
  "cells": [
    {
      "cell_type": "markdown",
      "metadata": {
        "id": "view-in-github",
        "colab_type": "text"
      },
      "source": [
        "<a href=\"https://colab.research.google.com/github/EthanW67/Machine-Learning-Research/blob/main/Machine-Learning-Research/01_pytorch_workflow_video.ipynb\" target=\"_parent\"><img src=\"https://colab.research.google.com/assets/colab-badge.svg\" alt=\"Open In Colab\"/></a>"
      ]
    },
    {
      "cell_type": "markdown",
      "metadata": {
        "id": "ttJ6C7bAGDHV"
      },
      "source": [
        "# Python Workflow"
      ]
    },
    {
      "cell_type": "code",
      "execution_count": null,
      "metadata": {
        "colab": {
          "base_uri": "https://localhost:8080/",
          "height": 36
        },
        "id": "CIp9SV6vG6M_",
        "outputId": "9ff8a67b-301f-4674-c150-91fd714b8b63"
      },
      "outputs": [
        {
          "data": {
            "application/vnd.google.colaboratory.intrinsic+json": {
              "type": "string"
            },
            "text/plain": [
              "'2.3.0+cu121'"
            ]
          },
          "execution_count": 1,
          "metadata": {},
          "output_type": "execute_result"
        }
      ],
      "source": [
        "import torch\n",
        "from torch import nn\n",
        "import matplotlib.pyplot as plt\n",
        "\n",
        "torch.__version__"
      ]
    },
    {
      "cell_type": "markdown",
      "metadata": {
        "id": "UtYsLWmoII0I"
      },
      "source": [
        "## Data (Preparing and Loading)\n",
        "1. Get data into a numberical representation\n",
        "2. Build a model to learn patterns in that numerical representation."
      ]
    },
    {
      "cell_type": "code",
      "execution_count": null,
      "metadata": {
        "colab": {
          "base_uri": "https://localhost:8080/"
        },
        "id": "MbJfm6OYIZ9F",
        "outputId": "8cb1834e-8cab-413d-c617-e16593bf6d9d"
      },
      "outputs": [
        {
          "data": {
            "text/plain": [
              "(tensor([[0.0000],\n",
              "         [0.0200],\n",
              "         [0.0400],\n",
              "         [0.0600],\n",
              "         [0.0800],\n",
              "         [0.1000],\n",
              "         [0.1200],\n",
              "         [0.1400],\n",
              "         [0.1600],\n",
              "         [0.1800]]),\n",
              " tensor([[0.3000],\n",
              "         [0.3140],\n",
              "         [0.3280],\n",
              "         [0.3420],\n",
              "         [0.3560],\n",
              "         [0.3700],\n",
              "         [0.3840],\n",
              "         [0.3980],\n",
              "         [0.4120],\n",
              "         [0.4260]]))"
            ]
          },
          "execution_count": 2,
          "metadata": {},
          "output_type": "execute_result"
        }
      ],
      "source": [
        "# Linear regression formula to make a straight line with known parameters\n",
        "\n",
        "# Create known parameters\n",
        "# y = ax + b\n",
        "weight = 0.7 # b\n",
        "bias = 0.3 # a\n",
        "\n",
        "# Create\n",
        "start = 0\n",
        "end = 1\n",
        "step = 0.02\n",
        "X = torch.arange(start, end, step).unsqueeze(dim = 1)\n",
        "y = weight * X + bias\n",
        "X[:10], y[:10]"
      ]
    },
    {
      "cell_type": "code",
      "execution_count": null,
      "metadata": {
        "colab": {
          "base_uri": "https://localhost:8080/"
        },
        "id": "HUhDq4dXKQYL",
        "outputId": "7ff1bd71-d334-474f-b315-8f728c34b75d"
      },
      "outputs": [
        {
          "data": {
            "text/plain": [
              "(50, 50)"
            ]
          },
          "execution_count": 3,
          "metadata": {},
          "output_type": "execute_result"
        }
      ],
      "source": [
        "len(X), len(y)"
      ]
    },
    {
      "cell_type": "markdown",
      "metadata": {
        "id": "77aTq65iK_lA"
      },
      "source": [
        "### Splitting data into training and test sets (one of the most important concepts)\n",
        "Create a training and testing set with our data"
      ]
    },
    {
      "cell_type": "code",
      "execution_count": null,
      "metadata": {
        "colab": {
          "base_uri": "https://localhost:8080/"
        },
        "id": "BK0EnvFkLnkS",
        "outputId": "e803bc3d-df13-4ff3-8232-bf66b4d699ea"
      },
      "outputs": [
        {
          "data": {
            "text/plain": [
              "(40, 40, 10, 10)"
            ]
          },
          "execution_count": 4,
          "metadata": {},
          "output_type": "execute_result"
        }
      ],
      "source": [
        "# Create a training/testing split\n",
        "train_split = int(0.8 * len(X))\n",
        "X_train, y_train = X[:train_split], y[:train_split]\n",
        "X_test, y_test = X[train_split:], y[train_split:]\n",
        "len(X_train), len(y_train), len(X_test), len(y_test)"
      ]
    },
    {
      "cell_type": "code",
      "execution_count": null,
      "metadata": {
        "colab": {
          "base_uri": "https://localhost:8080/"
        },
        "id": "ZC97VbdgMBS9",
        "outputId": "120553d0-6618-4880-b5fe-f864f1b6fd89"
      },
      "outputs": [
        {
          "data": {
            "text/plain": [
              "10"
            ]
          },
          "execution_count": 5,
          "metadata": {},
          "output_type": "execute_result"
        }
      ],
      "source": [
        "test_split = int(len(X)) - train_split\n",
        "test_split"
      ]
    },
    {
      "cell_type": "code",
      "execution_count": null,
      "metadata": {
        "id": "DEWIO3VVND-v"
      },
      "outputs": [],
      "source": [
        "# Visualize the data\n",
        "def plot_predictions(train_data=X_train, train_labels=y_train,\n",
        "                     test_data= X_test, test_labels= y_test,\n",
        "                     predictions=None):\n",
        "  \"\"\"\n",
        "  Plots training data, test data and compares predictions\n",
        "  \"\"\"\n",
        "\n",
        "  plt.figure(figsize = (10,7))\n",
        "\n",
        "  # Plot training data in blue\n",
        "  plt.scatter(train_data, train_labels, c=\"b\", s=4, label = \"Training Data\")\n",
        "\n",
        "  # Plot testing data in green\n",
        "  plt.scatter(test_data, test_labels, c=\"g\", s=4, label = \"Testing Data\")\n",
        "\n",
        "  # Are there predictions>\n",
        "  if predictions is not None:\n",
        "    # Plot the predictions if they exist\n",
        "    plt.scatter(test_data, predictions, c=\"r\", s=4, label = \"Predictions\")\n",
        "\n",
        "  # Show the legend\n",
        "  plt.legend(prop = {\"size\": 14})"
      ]
    },
    {
      "cell_type": "code",
      "execution_count": null,
      "metadata": {
        "colab": {
          "base_uri": "https://localhost:8080/",
          "height": 541
        },
        "id": "ISScbgEiPb08",
        "outputId": "cf30a546-852c-4f64-95b2-8bf698ab411d"
      },
      "outputs": [
        {
          "data": {
            "image/png": "[encoded data removed]",
            "text/plain": [
              "<Figure size 1000x700 with 1 Axes>"
            ]
          },
          "metadata": {},
          "output_type": "display_data"
        }
      ],
      "source": [
        "plot_predictions();"
      ]
    },
    {
      "cell_type": "markdown",
      "metadata": {
        "id": "hOzv6sp_Pt_i"
      },
      "source": [
        "## Building Model\n",
        "Linear Regression Model\n",
        "* Start with randome values (weight and bias)\n",
        "* Looks at training data and adjusts the random values to better represent the ideal values we used to create the data\n",
        "\n",
        "Uses two algorithms:\n",
        "* Gradient Descent\n",
        "* Backpropagation"
      ]
    },
    {
      "cell_type": "code",
      "execution_count": null,
      "metadata": {
        "id": "XKyWqfOaQPbJ"
      },
      "outputs": [],
      "source": [
        "# Linear Regression Model Class\n",
        "from torch import nn\n",
        "class LinearRegressionModel(nn.Module): # Almost everything in PyTorch inherhits from nn.Module\n",
        "  def __init__(self):\n",
        "    super().__init__()\n",
        "    self.weight = nn.Parameter(torch.randn(1, requires_grad= True, dtype=torch.float))\n",
        "\n",
        "    self.bias = nn.Parameter(torch.randn(1, requires_grad=True, dtype=torch.float))\n",
        "\n",
        "  # Forward method to define the computation in the model\n",
        "  def forward(self, x: torch.Tensor) -> torch.Tensor: #x is the input data\n",
        "    return self.weight * x + self.bias # Linear Regression Formula"
      ]
    },
    {
      "cell_type": "markdown",
      "metadata": {
        "id": "4uqs2-j6pOUD"
      },
      "source": [
        "### PyTorch Model Building Essential\n",
        "* torch.nn - contains all of the building blocks for compuational graphs (a neural network can be considered a computational graph)\n",
        "* torch.nn.Paramter - What Parameters should the model try and learn. Often a PyTorch Layer from torch.nn will set these for use.\n",
        "* torch.nn.Module - Base class for all neural network modules, if subclass you should overwrite forward()\n",
        "* torch.optim - where the optimizers in PyTorch live, they help with gradient descent\n",
        "* def forward() - All nn.Module subclasses require you to override forward(). This method defines what happens in the forward computation"
      ]
    },
    {
      "cell_type": "markdown",
      "metadata": {
        "id": "uwua3X_uqXpL"
      },
      "source": [
        "### Checking Contents of the PyTorch Model\n",
        "* .parameters() - used to check the parameters or what's inside the model\n"
      ]
    },
    {
      "cell_type": "code",
      "execution_count": null,
      "metadata": {
        "colab": {
          "base_uri": "https://localhost:8080/"
        },
        "id": "pTgv0b73rtmz",
        "outputId": "303c4064-598d-410c-c39e-d7004648636f"
      },
      "outputs": [
        {
          "data": {
            "text/plain": [
              "[Parameter containing:\n",
              " tensor([0.3367], requires_grad=True),\n",
              " Parameter containing:\n",
              " tensor([0.1288], requires_grad=True)]"
            ]
          },
          "execution_count": 9,
          "metadata": {},
          "output_type": "execute_result"
        }
      ],
      "source": [
        "# Create a random seed\n",
        "torch.manual_seed(42)\n",
        "\n",
        "# Create an instance of the model (this is a subclass of nn.Module)\n",
        "model_0 = LinearRegressionModel()\n",
        "\n",
        "# Check Parameters\n",
        "list(model_0.parameters())"
      ]
    },
    {
      "cell_type": "code",
      "execution_count": null,
      "metadata": {
        "colab": {
          "base_uri": "https://localhost:8080/"
        },
        "id": "hXukNlTFs3o7",
        "outputId": "64ea462e-9c82-496e-e21b-cfddd60f1eb6"
      },
      "outputs": [
        {
          "data": {
            "text/plain": [
              "OrderedDict([('weight', tensor([0.3367])), ('bias', tensor([0.1288]))])"
            ]
          },
          "execution_count": 10,
          "metadata": {},
          "output_type": "execute_result"
        }
      ],
      "source": [
        "# List named Parameters\n",
        "model_0.state_dict()"
      ]
    },
    {
      "cell_type": "code",
      "execution_count": null,
      "metadata": {
        "colab": {
          "base_uri": "https://localhost:8080/"
        },
        "id": "lZOCzY65s__0",
        "outputId": "3b330829-ac9c-4964-ffcc-03af650afeb4"
      },
      "outputs": [
        {
          "data": {
            "text/plain": [
              "(0.7, 0.3)"
            ]
          },
          "execution_count": 11,
          "metadata": {},
          "output_type": "execute_result"
        }
      ],
      "source": [
        "weight, bias"
      ]
    },
    {
      "cell_type": "markdown",
      "metadata": {
        "id": "m2_n_cavOSsd"
      },
      "source": [
        "### Making Predictions using torch.inferencemode()\n",
        "* Testing Predictive Power (How well it prediccts y_test based on x_test)\n",
        "* Pass data through our model and it'll run it through the forwaard() model"
      ]
    },
    {
      "cell_type": "code",
      "execution_count": null,
      "metadata": {
        "colab": {
          "base_uri": "https://localhost:8080/"
        },
        "id": "YjC0gvMZP5K4",
        "outputId": "800716bb-b0e9-46c0-949c-3bd2405fc749"
      },
      "outputs": [
        {
          "data": {
            "text/plain": [
              "tensor([[0.8000],\n",
              "        [0.8200],\n",
              "        [0.8400],\n",
              "        [0.8600],\n",
              "        [0.8800],\n",
              "        [0.9000],\n",
              "        [0.9200],\n",
              "        [0.9400],\n",
              "        [0.9600],\n",
              "        [0.9800]])"
            ]
          },
          "execution_count": 12,
          "metadata": {},
          "output_type": "execute_result"
        }
      ],
      "source": [
        "X_test"
      ]
    },
    {
      "cell_type": "code",
      "execution_count": null,
      "metadata": {
        "colab": {
          "base_uri": "https://localhost:8080/"
        },
        "id": "vn5-JltPOvgp",
        "outputId": "b5d5fb0e-6d05-4887-a77d-2c687942158e"
      },
      "outputs": [
        {
          "data": {
            "text/plain": [
              "tensor([[0.3982],\n",
              "        [0.4049],\n",
              "        [0.4116],\n",
              "        [0.4184],\n",
              "        [0.4251],\n",
              "        [0.4318],\n",
              "        [0.4386],\n",
              "        [0.4453],\n",
              "        [0.4520],\n",
              "        [0.4588]])"
            ]
          },
          "execution_count": 13,
          "metadata": {},
          "output_type": "execute_result"
        }
      ],
      "source": [
        "import torch\n",
        "# Used to disable some stuff and this saves memory and such\n",
        "# Make prediction with Model\n",
        "with torch.inference_mode():\n",
        "  y_preds = model_0(X_test)\n",
        "y_preds\n"
      ]
    },
    {
      "cell_type": "code",
      "execution_count": null,
      "metadata": {
        "id": "1d-ZVTxcRxw8"
      },
      "outputs": [],
      "source": [
        "# Alternative Way of Writing it\n",
        "#y_preds = model_0(X_test)\n",
        "#y_preds"
      ]
    },
    {
      "cell_type": "code",
      "execution_count": null,
      "metadata": {
        "colab": {
          "base_uri": "https://localhost:8080/"
        },
        "id": "z8EjX-m9RTrt",
        "outputId": "7ccb82a3-8906-452b-b83f-c16f465a6fee"
      },
      "outputs": [
        {
          "data": {
            "text/plain": [
              "tensor([[0.8600],\n",
              "        [0.8740],\n",
              "        [0.8880],\n",
              "        [0.9020],\n",
              "        [0.9160],\n",
              "        [0.9300],\n",
              "        [0.9440],\n",
              "        [0.9580],\n",
              "        [0.9720],\n",
              "        [0.9860]])"
            ]
          },
          "execution_count": 15,
          "metadata": {},
          "output_type": "execute_result"
        }
      ],
      "source": [
        "y_test"
      ]
    },
    {
      "cell_type": "code",
      "execution_count": null,
      "metadata": {
        "colab": {
          "base_uri": "https://localhost:8080/",
          "height": 541
        },
        "id": "uA4_JrEFRWLp",
        "outputId": "79ba496c-d166-4c41-e568-5cd7c2b581d8"
      },
      "outputs": [
        {
          "data": {
            "image/png": "[encoded data removed]",
            "text/plain": [
              "<Figure size 1000x700 with 1 Axes>"
            ]
          },
          "metadata": {},
          "output_type": "display_data"
        }
      ],
      "source": [
        "plot_predictions(predictions = y_preds)"
      ]
    },
    {
      "cell_type": "markdown",
      "metadata": {
        "id": "QTnOJFZNSepG"
      },
      "source": [
        "## Train Model\n",
        "* Training - Moves the data from some unknown parameters to some known parameters\n",
        "* From a poor representation of the data to a better represeentation of the def\n",
        "\n",
        "* Loss Function - One way to measure how poor or wrong your model predictions are to the ideal\n",
        "* The lower the better\n",
        "* Also called Cost Function or Criterion\n",
        "\n",
        "Things we need to train:\n",
        "* Lost Function\n",
        "* Optimizer - Takes into account the loss of a model and adjusts the model's parame ters (weights and bias) to improve the loss function\n",
        " * Params: The model paramter you'd like to optimize. i.e **params = model_0.parameters()**\n",
        " * lr (learning rate): Hyperparameter that defines how big/small the optimizer changs the parameters with each step. (Small **lr**: small changes, Large **lr**: large changes)\n",
        "\n",
        "\n",
        "In PyTorch we need:\n",
        "* Training Loop\n",
        "* Testing Loop\n",
        "\n"
      ]
    },
    {
      "cell_type": "code",
      "execution_count": null,
      "metadata": {
        "colab": {
          "base_uri": "https://localhost:8080/"
        },
        "id": "88_iq4B_TYQO",
        "outputId": "1b105bad-a51d-482a-be38-5dfe84b6bd86"
      },
      "outputs": [
        {
          "data": {
            "text/plain": [
              "[Parameter containing:\n",
              " tensor([0.3367], requires_grad=True),\n",
              " Parameter containing:\n",
              " tensor([0.1288], requires_grad=True)]"
            ]
          },
          "execution_count": 17,
          "metadata": {},
          "output_type": "execute_result"
        }
      ],
      "source": [
        "list(model_0.parameters())"
      ]
    },
    {
      "cell_type": "code",
      "execution_count": null,
      "metadata": {
        "colab": {
          "base_uri": "https://localhost:8080/"
        },
        "id": "tX-bifg_T3cp",
        "outputId": "49446bea-6554-48b0-992c-c5761a6dd748"
      },
      "outputs": [
        {
          "data": {
            "text/plain": [
              "OrderedDict([('weight', tensor([0.3367])), ('bias', tensor([0.1288]))])"
            ]
          },
          "execution_count": 18,
          "metadata": {},
          "output_type": "execute_result"
        }
      ],
      "source": [
        "# Check out our model's parameters (parameter: a value that the model sets itself)\n",
        "model_0.state_dict()"
      ]
    },
    {
      "cell_type": "code",
      "execution_count": null,
      "metadata": {
        "id": "VMdOdqXDUHaF"
      },
      "outputs": [],
      "source": [
        "from torch import nn\n",
        "# Setup a loss function\n",
        "loss_fn = nn.L1Loss()\n",
        "\n",
        "# Setup an optimizer (stochatic gradient descent)\n",
        "optimizer = torch.optim.SGD(params = model_0.parameters(),\n",
        "                            lr = 0.01) # lr = Learning rate\n",
        "                            #important - hyperparameter: Set yourself\n",
        "                            # Determines how large of a set is taken when adjusting the w & b\n",
        "\n"
      ]
    },
    {
      "cell_type": "markdown",
      "metadata": {
        "id": "4Psd_NusWfiv"
      },
      "source": [
        "Regression Problems:\n",
        "* Loss Fucntion: nn.L1Loss()\n",
        "* Optimizer: torch.optim.SGD()\n",
        "\n",
        "Classification Problems\n",
        "(Classifying whether a picture is a dog or a cat):\n",
        "* Loss Function: nn.SCELoss() (binary cross entropy loss)\n",
        "* Optimizer:"
      ]
    },
    {
      "cell_type": "markdown",
      "metadata": {
        "id": "va8_4o1JX2Tp"
      },
      "source": [
        "### Building a Training Loop & Testing Loop In PyTorch\n",
        "Things we need in a training loop:\n",
        "0. Loop through the data\n",
        "1. Forward pass (this involes data movin through our model's **forward()** function) to make predictions on data\n",
        " * Also called Forward Propagation\n",
        "2. Calculate the loss (compare forward pass predictions to ground truth labels)\n",
        "3. Optimizer Zero Grad\n",
        "4. Loss Backward: Moves backwards through the netwrok to calculate the gradients of each of the parameters of our model with respect to the (**Backpropagation**)\n",
        "5. Optimizer Step: Uses theh optimizer to adjust the model's parameters to try and improve the loss (**Gradient Descent**)\n"
      ]
    },
    {
      "cell_type": "code",
      "execution_count": null,
      "metadata": {
        "colab": {
          "base_uri": "https://localhost:8080/"
        },
        "id": "_UkzZvPyZijE",
        "outputId": "ac8b0310-cc61-4a7f-ed60-c142d7241140"
      },
      "outputs": [
        {
          "name": "stdout",
          "output_type": "stream",
          "text": [
            "Loss 0.31288138031959534\n",
            "Epoch: 0 | Loss: 0.31288138031959534 | Test Loss: 0.48106518387794495\n",
            "OrderedDict([('weight', tensor([0.3406])), ('bias', tensor([0.1388]))])\n",
            "Loss 0.3013603389263153\n",
            "Loss 0.28983935713768005\n",
            "Loss 0.2783183455467224\n",
            "Loss 0.26679736375808716\n",
            "Loss 0.2552763521671295\n",
            "Loss 0.24375534057617188\n",
            "Loss 0.23223432898521423\n",
            "Loss 0.22071333229541779\n",
            "Loss 0.20919232070446014\n",
            "Loss 0.1976713240146637\n",
            "Epoch: 10 | Loss: 0.1976713240146637 | Test Loss: 0.3463551998138428\n",
            "OrderedDict([('weight', tensor([0.3796])), ('bias', tensor([0.2388]))])\n",
            "Loss 0.18615034222602844\n",
            "Loss 0.1746293306350708\n",
            "Loss 0.16310831904411316\n",
            "Loss 0.1515873372554779\n",
            "Loss 0.14006635546684265\n",
            "Loss 0.1285453587770462\n",
            "Loss 0.11702437698841095\n",
            "Loss 0.1060912236571312\n",
            "Loss 0.09681284427642822\n",
            "Loss 0.08908725529909134\n",
            "Epoch: 20 | Loss: 0.08908725529909134 | Test Loss: 0.21729660034179688\n",
            "OrderedDict([('weight', tensor([0.4184])), ('bias', tensor([0.3333]))])\n",
            "Loss 0.08227583020925522\n",
            "Loss 0.07638873159885406\n",
            "Loss 0.07160007208585739\n",
            "Loss 0.06747635453939438\n",
            "Loss 0.06395438313484192\n",
            "Loss 0.06097004935145378\n",
            "Loss 0.05845819041132927\n",
            "Loss 0.05635259300470352\n",
            "Loss 0.0545857772231102\n",
            "Loss 0.053148526698350906\n",
            "Epoch: 30 | Loss: 0.053148526698350906 | Test Loss: 0.14464017748832703\n",
            "OrderedDict([('weight', tensor([0.4512])), ('bias', tensor([0.3768]))])\n",
            "Loss 0.05181945487856865\n",
            "Loss 0.05069301277399063\n",
            "Loss 0.0498228520154953\n",
            "Loss 0.04895269125699997\n",
            "Loss 0.04819351062178612\n",
            "Loss 0.047531817108392715\n",
            "Loss 0.04692792519927025\n",
            "Loss 0.04642331600189209\n",
            "Loss 0.04591871052980423\n",
            "Loss 0.04543796554207802\n",
            "Epoch: 40 | Loss: 0.04543796554207802 | Test Loss: 0.11360953003168106\n",
            "OrderedDict([('weight', tensor([0.4748])), ('bias', tensor([0.3868]))])\n",
            "Loss 0.04503796249628067\n",
            "Loss 0.04463795945048332\n",
            "Loss 0.04423796385526657\n",
            "Loss 0.04383796453475952\n",
            "Loss 0.04343796148896217\n",
            "Loss 0.043074630200862885\n",
            "Loss 0.04272563382983208\n",
            "Loss 0.04237663000822067\n",
            "Loss 0.04202762991189957\n",
            "Loss 0.04167863354086876\n",
            "Epoch: 50 | Loss: 0.04167863354086876 | Test Loss: 0.09919948130846024\n",
            "OrderedDict([('weight', tensor([0.4938])), ('bias', tensor([0.3843]))])\n",
            "Loss 0.04132963344454765\n",
            "Loss 0.04098063334822655\n",
            "Loss 0.04063162952661514\n",
            "Loss 0.040282636880874634\n",
            "Loss 0.039933640509843826\n",
            "Loss 0.03958464413881302\n",
            "Loss 0.03923564404249191\n",
            "Loss 0.03888664394617081\n",
            "Loss 0.0385376438498497\n",
            "Loss 0.03818932920694351\n",
            "Epoch: 60 | Loss: 0.03818932920694351 | Test Loss: 0.08886633068323135\n",
            "OrderedDict([('weight', tensor([0.5116])), ('bias', tensor([0.3788]))])\n",
            "Loss 0.03785243630409241\n",
            "Loss 0.0375034399330616\n",
            "Loss 0.037164121866226196\n",
            "Loss 0.03681822493672371\n",
            "Loss 0.03647511452436447\n",
            "Loss 0.03613303601741791\n",
            "Loss 0.03578609973192215\n",
            "Loss 0.03544783592224121\n",
            "Loss 0.035098835825920105\n",
            "Loss 0.03476089984178543\n",
            "Epoch: 70 | Loss: 0.03476089984178543 | Test Loss: 0.0805937647819519\n",
            "OrderedDict([('weight', tensor([0.5288])), ('bias', tensor([0.3718]))])\n",
            "Loss 0.03441363573074341\n",
            "Loss 0.03407188132405281\n",
            "Loss 0.03372843936085701\n",
            "Loss 0.03338287025690079\n",
            "Loss 0.033043231815099716\n",
            "Loss 0.03269423171877861\n",
            "Loss 0.032357655465602875\n",
            "Loss 0.03200903534889221\n",
            "Loss 0.03166864812374115\n",
            "Loss 0.03132382780313492\n",
            "Epoch: 80 | Loss: 0.03132382780313492 | Test Loss: 0.07232122868299484\n",
            "OrderedDict([('weight', tensor([0.5459])), ('bias', tensor([0.3648]))])\n",
            "Loss 0.030979642644524574\n",
            "Loss 0.030638623982667923\n",
            "Loss 0.0302906334400177\n",
            "Loss 0.029953425750136375\n",
            "Loss 0.02960442565381527\n",
            "Loss 0.029265418648719788\n",
            "Loss 0.028919223695993423\n",
            "Loss 0.028576409444212914\n",
            "Loss 0.028234025463461876\n",
            "Loss 0.02788739837706089\n",
            "Epoch: 90 | Loss: 0.02788739837706089 | Test Loss: 0.06473556160926819\n",
            "OrderedDict([('weight', tensor([0.5629])), ('bias', tensor([0.3573]))])\n",
            "Loss 0.02754882536828518\n",
            "Loss 0.027199819684028625\n",
            "Loss 0.026862185448408127\n",
            "Loss 0.02651461586356163\n",
            "Loss 0.026173178106546402\n",
            "Loss 0.025829419493675232\n",
            "Loss 0.02548416517674923\n",
            "Loss 0.025144213810563087\n",
            "Loss 0.02479521557688713\n",
            "Loss 0.024458957836031914\n",
            "Epoch: 100 | Loss: 0.024458957836031914 | Test Loss: 0.05646304413676262\n",
            "OrderedDict([('weight', tensor([0.5800])), ('bias', tensor([0.3503]))])\n",
            "Loss 0.024110013619065285\n",
            "Loss 0.02376994863152504\n",
            "Loss 0.02342480979859829\n",
            "Loss 0.023080935701727867\n",
            "Loss 0.022739607840776443\n",
            "Loss 0.022391926497220993"
          ]
        }
      ],
      "source": [
        "import numpy as np\n",
        "\n",
        "torch.manual_seed(42)\n",
        "\n",
        "# Epoch: one loop throught the data (hyperparameters: set be ourselves)\n",
        "epochs = 200\n",
        "\n",
        "#Track Different Values\n",
        "epoch_count = []\n",
        "loss_values = []\n",
        "test_loss_values = []\n",
        "\n",
        "### Training\n",
        "# 0. Loop through the data\n",
        "for epoch in range(epochs):\n",
        "\n",
        "  # Set model to training mode\n",
        "  model_0.train() # Train Mode: Sets all paramaters that requires gradient to require gradients\n",
        "\n",
        "  # 1. Forward Pass (Forward Propagation)\n",
        "  y_pred = model_0(X_train)\n",
        "\n",
        "  # 2. Calculate the Loss\n",
        "  loss = loss_fn(y_pred, y_train)\n",
        "  print(f\"Loss {loss}\")\n",
        "\n",
        "  # 3. Optimizer Zero Grad\n",
        "  optimizer.zero_grad()\n",
        "\n",
        "  # 4. Perform Back Propagation on the loss with respect to the parameters of the model\n",
        "  loss.backward()\n",
        "\n",
        "  # 5. Step the Optimizer (Perform Gradient Descent)\n",
        "  optimizer.step() # by default how to optimizer changes will acculumate the loop so...\n",
        "  # we have to 0 them above step 3 for the next interation of the loop\n",
        "\n",
        "  ### Testing\n",
        "  model_0.eval() # Turns off stuff not needed for revaulation/testing (dropout/batchnorm layers)\n",
        "\n",
        "  with torch.inference_mode(): # Turns off gradient tracking and some other stuff\n",
        "  # torch.no_grad() is also the same thing\n",
        "    # a. Do forward pass\n",
        "    test_pred = model_0(X_test)\n",
        "\n",
        "    # b. Calculate the Loss\n",
        "    test_loss = loss_fn(test_pred, y_test)\n",
        "    if epoch % 10 == 0:\n",
        "      epoch_count.append(epoch)\n",
        "      loss_values.append(loss)\n",
        "      test_loss_values.append(test_loss)\n",
        "\n",
        "      # Print Out\n",
        "      print(f\"Epoch: {epoch} | Loss: {loss} | Test Loss: {test_loss}\")\n",
        "      # Print out model state_dict()\n",
        "      print(model_0.state_dict())\n"
      ]
    },
    {
      "cell_type": "code",
      "execution_count": null,
      "metadata": {
        "id": "pyJGfXSh1NxT"
      },
      "outputs": [],
      "source": [
        "epoch_count,np.array(torch.tensor(loss_values).numpy()), test_loss_values"
      ]
    },
    {
      "cell_type": "code",
      "execution_count": null,
      "metadata": {
        "id": "cwGhoVk11ibs"
      },
      "outputs": [],
      "source": [
        "# Plot the Loss Curve\n",
        "plt.plot(epoch_count, np.array(torch.tensor(loss_values).numpy()), label = \"Train Loss\")\n",
        "plt.plot(epoch_count, test_loss_values,label = \"Test Loss\")\n",
        "plt.title(\"Training and Test Loss Curve\")\n",
        "plt.ylabel(\"Loss\")\n",
        "plt.xlabel(\"Epochs\")\n",
        "plt.legend();"
      ]
    },
    {
      "cell_type": "code",
      "execution_count": null,
      "metadata": {
        "id": "K8j29xSKfqd8"
      },
      "outputs": [],
      "source": [
        "with torch.inference_mode():\n",
        "  y_preds_new = model_0(X_test)"
      ]
    },
    {
      "cell_type": "code",
      "execution_count": null,
      "metadata": {
        "id": "umSCMyfjg9oA"
      },
      "outputs": [],
      "source": [
        "model_0.state_dict()"
      ]
    },
    {
      "cell_type": "code",
      "execution_count": null,
      "metadata": {
        "id": "YbpjI2EhgU6h"
      },
      "outputs": [],
      "source": [
        "plot_predictions(predictions = y_preds)"
      ]
    },
    {
      "cell_type": "code",
      "execution_count": null,
      "metadata": {
        "id": "85ZyosKdptDY"
      },
      "outputs": [],
      "source": [
        "plot_predictions(predictions = y_preds_new)"
      ]
    },
    {
      "cell_type": "code",
      "execution_count": null,
      "metadata": {
        "id": "iuf4Uqpmgtqn"
      },
      "outputs": [],
      "source": [
        "weight, bias"
      ]
    },
    {
      "cell_type": "markdown",
      "metadata": {
        "id": "2G5i7O4d9owd"
      },
      "source": [
        "## Saving a Model In PyTorch\n",
        "Three Methods fro saving and loading nn.ModuleList\n",
        "1. `torch.save()`- allows you to save a PyTorch object in Python's pickle format\n",
        "2. `torch.load()`- allows you to load a saved PyTorch object\n",
        "3. `torch.nn.Module.load_state_dict()` - allow you to load a model's saved state dictionary"
      ]
    },
    {
      "cell_type": "code",
      "execution_count": null,
      "metadata": {
        "id": "0X9D0_HO-I_p"
      },
      "outputs": [],
      "source": [
        "model_0.state_dict()"
      ]
    },
    {
      "cell_type": "code",
      "execution_count": null,
      "metadata": {
        "id": "BcWW75Wj--RG"
      },
      "outputs": [],
      "source": [
        "# Saving PyTorch Model\n",
        "from pathlib import Path\n",
        "\n",
        "#1. Create Model directory\n",
        "MODEL_PATH = Path(\"Model\")\n",
        "MODEL_PATH.mkdir(parents=True, exist_ok=True)\n",
        "\n",
        "#2. Create Model Save Path\n",
        "MODEL_NAME = \"01_pytorch_workflow_model_0.pth\"\n",
        "MODEL_SAVE_PATH = MODEL_PATH / MODEL_NAME\n",
        "MODEL_SAVE_PATH\n",
        "\n",
        "# 3. Save  the model state dict\n",
        "print(f\" Saving model to: {MODEL_SAVE_PATH}\")\n",
        "torch.save(obj=model_0.state_dict(), f=MODEL_SAVE_PATH)"
      ]
    },
    {
      "cell_type": "code",
      "execution_count": null,
      "metadata": {
        "id": "CHF11S6IAU14"
      },
      "outputs": [],
      "source": [
        "!ls -l Model"
      ]
    },
    {
      "cell_type": "markdown",
      "metadata": {
        "id": "vc_5703wZCY6"
      },
      "source": [
        "## Loading a PyTorch Model\n",
        "\n",
        "Saved the model's `state_dict()` rather than the entire model, we'll create a new instance of our model class and load the saved `state_dict()` into that."
      ]
    },
    {
      "cell_type": "code",
      "execution_count": null,
      "metadata": {
        "id": "3N5E1yDSZh4u"
      },
      "outputs": [],
      "source": [
        "model_0.state_dict()"
      ]
    },
    {
      "cell_type": "code",
      "execution_count": null,
      "metadata": {
        "id": "R3Bn_jkuZmrl"
      },
      "outputs": [],
      "source": [
        "# to load in a saved state_dict() we have to instantiate a new instance of our model class\n",
        "loaded_model_0 = LinearRegressionModel()\n",
        "\n",
        "# Load the saved state_dict of model_0 (this will update the new instance with updated parameters)\n",
        "loaded_model_0.load_state_dict(torch.load(f=MODEL_SAVE_PATH))\n"
      ]
    },
    {
      "cell_type": "code",
      "execution_count": null,
      "metadata": {
        "id": "cqHtDgYiab2C"
      },
      "outputs": [],
      "source": [
        "loaded_model_0.state_dict()"
      ]
    },
    {
      "cell_type": "code",
      "execution_count": null,
      "metadata": {
        "id": "45AAWuMuagqf"
      },
      "outputs": [],
      "source": [
        "# Make some predictiosn with our loaded model\n",
        "loaded_model_0.eval()\n",
        "with torch.inference_mode():\n",
        "  loaded_model_preds = loaded_model_0(X_test)\n",
        "\n",
        "loaded_model_preds"
      ]
    },
    {
      "cell_type": "code",
      "execution_count": null,
      "metadata": {
        "id": "eQFjj1fudFfd"
      },
      "outputs": [],
      "source": [
        "# Make some models preds\n",
        "model_0.eval()\n",
        "with torch.inference_mode():\n",
        "  y_preds = model_0(X_test)\n",
        "y_preds"
      ]
    },
    {
      "cell_type": "code",
      "execution_count": null,
      "metadata": {
        "id": "WrHbEUpGaz1c"
      },
      "outputs": [],
      "source": [
        "# Compare Loaded Model pred with original model preds\n",
        "y_preds == loaded_model_preds"
      ]
    },
    {
      "cell_type": "markdown",
      "metadata": {
        "id": "jHD0aIHIdY1C"
      },
      "source": [
        "## Putting Everything Together"
      ]
    },
    {
      "cell_type": "code",
      "execution_count": null,
      "metadata": {
        "id": "t_CG5TtndsQg"
      },
      "outputs": [],
      "source": [
        "# Import PyTorch and matplotlib\n",
        "import torch\n",
        "from torch import nn\n",
        "import matplotlib.pyplot as plt\n",
        "\n",
        "torch.__version__"
      ]
    },
    {
      "cell_type": "markdown",
      "metadata": {
        "id": "yr_vjZX4e8Lv"
      },
      "source": [
        "Create device-agnostic code\n",
        "* If there is access to GPU it will use it.\n",
        "* If no GPU it will default to CPU"
      ]
    },
    {
      "cell_type": "code",
      "execution_count": null,
      "metadata": {
        "id": "q52yPNnle0aC"
      },
      "outputs": [],
      "source": [
        "# Setup Device agnostic code\n",
        "\n",
        "device = \"cuda\" if torch.cuda.is_available() else \"cpu\"\n",
        "print(f\"Using Device: {device}\")"
      ]
    },
    {
      "cell_type": "markdown",
      "metadata": {
        "id": "ObMTI01miLlI"
      },
      "source": [
        "### Creating Data"
      ]
    },
    {
      "cell_type": "code",
      "execution_count": null,
      "metadata": {
        "id": "kbOpgMM-iUq1"
      },
      "outputs": [],
      "source": [
        "# Create data using using Linear Regresssion Formula (y = weight * X + bias)\n",
        "weight = 0.7\n",
        "bias = 0.3\n",
        "\n",
        "# Create Range Values\n",
        "start = 0\n",
        "end = 1\n",
        "step = 0.02\n",
        "\n",
        "# Create X and Y\n",
        "X = torch.arange(start, end, step).unsqueeze(dim = 1)\n",
        "y = weight * X + bias\n",
        "X[:10], y[:10]"
      ]
    },
    {
      "cell_type": "code",
      "execution_count": null,
      "metadata": {
        "id": "qejs5WRZE_Vp"
      },
      "outputs": [],
      "source": [
        "# Split Data\n",
        "Split_data = int(0.8 * len(X))\n",
        "x_train, y_train = X[: Split_data], y[: Split_data]\n",
        "x_test, y_test = X[Split_data:], y[Split_data:]\n",
        "len(x_train)"
      ]
    },
    {
      "cell_type": "code",
      "execution_count": null,
      "metadata": {
        "id": "9wk-WrqQHyDH"
      },
      "outputs": [],
      "source": [
        "# Plot Data\n",
        "plot_predictions(X_train.cpu(), y_train.cpu(), X_test.cpu(), y_test.cpu())"
      ]
    },
    {
      "cell_type": "markdown",
      "metadata": {
        "id": "rETQdROaH-2X"
      },
      "source": [
        "### Building PyTorch Linear Model\n",
        "\n"
      ]
    },
    {
      "cell_type": "code",
      "execution_count": null,
      "metadata": {
        "id": "GFWtMH2sIVrN"
      },
      "outputs": [],
      "source": [
        "from torch import nn\n",
        "\n",
        "# Create a linear model by subclassin nn.Module\n",
        "class LinearRegressionModelV2(nn.Module):\n",
        "  def __init__(self):\n",
        "    super().__init__()\n",
        "    # use nn.Linear() for creating the model parameters/ Also called\n",
        "    # Linear Transform, Probing Layer, Fully Connect Layer, Dense Layer\n",
        "    self.linear_layer = nn.Linear(in_features = 1, out_features = 1)\n",
        "  def forward(self, x: torch.Tensor) -> torch.Tensor:\n",
        "    return self.linear_layer(x)\n",
        "\n",
        "  # Set Manual Seed\n",
        "torch.manual_seed(42)\n",
        "model_1 = LinearRegressionModelV2()\n",
        "model_1, model_1.state_dict()\n"
      ]
    },
    {
      "cell_type": "code",
      "execution_count": null,
      "metadata": {
        "id": "OMAEKeKmMzGs"
      },
      "outputs": [],
      "source": [
        "# Check the Model_Current Device\n",
        "next(model_1.parameters()).device"
      ]
    },
    {
      "cell_type": "code",
      "execution_count": null,
      "metadata": {
        "id": "eFTYCfi_NVpL"
      },
      "outputs": [],
      "source": [
        "# Set the model to use the target device\n",
        "model_1.to(device)\n",
        "next(model_1.parameters()).device"
      ]
    },
    {
      "cell_type": "markdown",
      "metadata": {
        "id": "8s5JdT5gNtr9"
      },
      "source": [
        "### Training\n",
        "* Lost Function\n",
        "* Optimizer\n",
        "* Training Loop\n",
        "* Testing Loop"
      ]
    },
    {
      "cell_type": "code",
      "execution_count": null,
      "metadata": {
        "id": "YMGRaBIWNwRP"
      },
      "outputs": [],
      "source": [
        "# Setup lost function\n",
        "loss_fn = nn.L1Loss() # Same as MSE\n",
        "\n",
        "# Setup Optimizer\n",
        "optimizer = torch.optim.SGD(params = model_1.parameters(), lr=0.01)"
      ]
    },
    {
      "cell_type": "code",
      "execution_count": null,
      "metadata": {
        "id": "fKlDn4btORxp"
      },
      "outputs": [],
      "source": [
        "# Write Training Loop\n",
        "torch.manual_seed(42)\n",
        "\n",
        "epochs = 200\n",
        "\n",
        "# Put data on the target device (device agnostic code for data)\n",
        "X_train = X_train.to(device)\n",
        "y_train = y_train.to(device)\n",
        "X_test = X_test.to(device)\n",
        "y_test = y_test.to(device)\n",
        "\n",
        "\n",
        "for epoch in range(epochs):\n",
        "  model_1.train()\n",
        "\n",
        "  #1. Forward pass\n",
        "  y_pred = model_1(X_train)\n",
        "\n",
        "  #2. Calculate the loss\n",
        "  loss = loss_fn(y_pred, y_train)\n",
        "\n",
        "  #3. Optimizer Zero grad\n",
        "  optimizer.zero_grad()\n",
        "\n",
        "  #4. Perform Backpropagation\n",
        "  loss.backward()\n",
        "\n",
        "  #5. Optimizer Setup\n",
        "  optimizer.step()\n",
        "\n",
        "  ## Testing\n",
        "  model_1.eval()\n",
        "  with torch.inference_mode():\n",
        "    test_pred = model_1(X_test)\n",
        "\n",
        "    test_loss = loss_fn(test_pred, y_test)\n",
        "\n",
        "  # Print what's happening\n",
        "  if epoch % 10 == 0:\n",
        "    print(f\"Epoch: {epoch} | Loss: {loss} | Test Loss: {test_loss}\")"
      ]
    },
    {
      "cell_type": "code",
      "execution_count": null,
      "metadata": {
        "id": "gnRvj097WYDp"
      },
      "outputs": [],
      "source": [
        "model_1.state_dict()"
      ]
    },
    {
      "cell_type": "code",
      "execution_count": null,
      "metadata": {
        "id": "Ilwv_DnGWbL5"
      },
      "outputs": [],
      "source": [
        "weight, bias"
      ]
    },
    {
      "cell_type": "markdown",
      "metadata": {
        "id": "rkHhH1pNWiV4"
      },
      "source": [
        "### Making and Evaluating Predictions"
      ]
    },
    {
      "cell_type": "code",
      "execution_count": null,
      "metadata": {
        "id": "RjmhM7x3W2IC"
      },
      "outputs": [],
      "source": [
        "# Turn model into Evaluation Mode\n",
        "model_1.eval()\n",
        "\n",
        "# Make predictions on the test data\n",
        "with torch.inference_mode():\n",
        "  y_preds = model_1(X_test)\n",
        "y_preds"
      ]
    },
    {
      "cell_type": "code",
      "execution_count": null,
      "metadata": {
        "colab": {
          "background_save": true
        },
        "id": "NndR2OY-XKAp",
        "outputId": "3363e708-5c84-4da5-e56e-0bc2665c783e"
      },
      "outputs": [
        {
          "data": {
            "image/png": "[encoded data removed]",
            "text/plain": [
              "<Figure size 1000x700 with 1 Axes>"
            ]
          },
          "metadata": {},
          "output_type": "display_data"
        }
      ],
      "source": [
        "# Check out Model Predictions visually\n",
        "plot_predictions(predictions = y_preds.cpu())"
      ]
    },
    {
      "cell_type": "markdown",
      "metadata": {
        "id": "6uSmLVkaXrDT"
      },
      "source": [
        "### Saving & Loading a Trained Model"
      ]
    },
    {
      "cell_type": "code",
      "execution_count": null,
      "metadata": {
        "colab": {
          "background_save": true
        },
        "id": "-mr6te4zXxBX",
        "outputId": "a00c583c-127c-44fa-fd42-f91c87b8d8e3"
      },
      "outputs": [
        {
          "name": "stdout",
          "output_type": "stream",
          "text": [
            "Saving model to: models/01_pytorch.workflow_model_1.pth\n"
          ]
        }
      ],
      "source": [
        "from pathlib import Path\n",
        "\n",
        "# Create models directory\n",
        "MODEL_PATH = Path(\"models\")\n",
        "MODEL_PATH.mkdir(parents =True, exist_ok = True)\n",
        "\n",
        "# Create Model save path\n",
        "MODEL_NAME = \"01_pytorch.workflow_model_1.pth\"\n",
        "MODEL_SAVE_PATH = MODEL_PATH / MODEL_NAME\n",
        "\n",
        "#3. Save the model state dict\n",
        "print(f\"Saving model to: {MODEL_SAVE_PATH}\")\n",
        "torch.save(obj=model_1.state_dict(), f = MODEL_SAVE_PATH)"
      ]
    },
    {
      "cell_type": "code",
      "execution_count": null,
      "metadata": {
        "colab": {
          "background_save": true
        },
        "id": "dtlfjgZHaDVP",
        "outputId": "30d3e506-ba4b-420e-9beb-8cec7a007fb4"
      },
      "outputs": [
        {
          "data": {
            "text/plain": [
              "OrderedDict([('linear_layer.weight', tensor([[0.6968]])),\n",
              "             ('linear_layer.bias', tensor([0.3025]))])"
            ]
          },
          "execution_count": 52,
          "metadata": {},
          "output_type": "execute_result"
        }
      ],
      "source": [
        "model_1.state_dict()"
      ]
    },
    {
      "cell_type": "code",
      "execution_count": null,
      "metadata": {
        "colab": {
          "background_save": true
        },
        "id": "Zz_JINrkaMtb",
        "outputId": "0920abf9-ea73-4e4f-a3b7-7a86bf644886"
      },
      "outputs": [
        {
          "data": {
            "text/plain": [
              "LinearRegressionModelV2(\n",
              "  (linear_layer): Linear(in_features=1, out_features=1, bias=True)\n",
              ")"
            ]
          },
          "execution_count": 53,
          "metadata": {},
          "output_type": "execute_result"
        }
      ],
      "source": [
        "# Load a PyTorch model\n",
        "\n",
        "# Create a new instance of Linear Regression Model V2\n",
        "loaded_model_1 = LinearRegressionModelV2()\n",
        "\n",
        "# Load the saved model_1 state_dict\n",
        "loaded_model_1.load_state_dict(torch.load(MODEL_SAVE_PATH))\n",
        "\n",
        "# Put the loaded model to device\n",
        "loaded_model_1.to(device)"
      ]
    },
    {
      "cell_type": "code",
      "execution_count": null,
      "metadata": {
        "colab": {
          "background_save": true
        },
        "id": "urvu3zNdaxqj",
        "outputId": "83c3412c-1aab-4818-f75e-c61b98c1ef25"
      },
      "outputs": [
        {
          "data": {
            "text/plain": [
              "device(type='cpu')"
            ]
          },
          "execution_count": 54,
          "metadata": {},
          "output_type": "execute_result"
        }
      ],
      "source": [
        "next(loaded_model_1.parameters()).device"
      ]
    },
    {
      "cell_type": "code",
      "execution_count": null,
      "metadata": {
        "colab": {
          "background_save": true
        },
        "id": "elpiGoJqa2GA",
        "outputId": "65260ffa-3439-4841-8c2f-35ca48a08703"
      },
      "outputs": [
        {
          "data": {
            "text/plain": [
              "OrderedDict([('linear_layer.weight', tensor([[0.6968]])),\n",
              "             ('linear_layer.bias', tensor([0.3025]))])"
            ]
          },
          "execution_count": 55,
          "metadata": {},
          "output_type": "execute_result"
        }
      ],
      "source": [
        "loaded_model_1.state_dict()"
      ]
    },
    {
      "cell_type": "code",
      "execution_count": null,
      "metadata": {
        "colab": {
          "background_save": true
        },
        "id": "quM9VEJBa7dO",
        "outputId": "baf727c8-efe7-4b83-f816-4df9b77547c9"
      },
      "outputs": [
        {
          "data": {
            "text/plain": [
              "tensor([[True],\n",
              "        [True],\n",
              "        [True],\n",
              "        [True],\n",
              "        [True],\n",
              "        [True],\n",
              "        [True],\n",
              "        [True],\n",
              "        [True],\n",
              "        [True]])"
            ]
          },
          "execution_count": 56,
          "metadata": {},
          "output_type": "execute_result"
        }
      ],
      "source": [
        "# Evaulate Loaded Model\n",
        "loaded_model_1.eval()\n",
        "with torch.inference_mode():\n",
        "  loaded_model_1_preds = loaded_model_1(X_test)\n",
        "y_preds == loaded_model_1_preds"
      ]
    }
  ],
  "metadata": {
    "accelerator": "GPU",
    "colab": {
      "gpuType": "T4",
      "provenance": [],
      "authorship_tag": "ABX9TyNviqkZLXjKs9ZY6JQBSTv6",
      "include_colab_link": true
    },
    "kernelspec": {
      "display_name": "Python 3",
      "name": "python3"
    },
    "language_info": {
      "name": "python"
    }
  },
  "nbformat": 4,
  "nbformat_minor": 0
}