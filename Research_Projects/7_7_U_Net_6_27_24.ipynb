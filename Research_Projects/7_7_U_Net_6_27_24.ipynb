{
  "nbformat": 4,
  "nbformat_minor": 0,
  "metadata": {
    "colab": {
      "provenance": [],
      "gpuType": "T4",
      "authorship_tag": "ABX9TyMzdLV3H8vm4nSRidxMFKDM",
      "include_colab_link": true
    },
    "kernelspec": {
      "name": "python3",
      "display_name": "Python 3"
    },
    "language_info": {
      "name": "python"
    },
    "accelerator": "GPU"
  },
  "cells": [
    {
      "cell_type": "markdown",
      "metadata": {
        "id": "view-in-github",
        "colab_type": "text"
      },
      "source": [
        "<a href=\"https://colab.research.google.com/github/EthanW67/Machine-Learning-Research/blob/main/Research_Projects/7_7_U_Net_6_27_24.ipynb\" target=\"_parent\"><img src=\"https://colab.research.google.com/assets/colab-badge.svg\" alt=\"Open In Colab\"/></a>"
      ]
    },
    {
      "cell_type": "code",
      "source": [
        "!pip install torchmetrics"
      ],
      "metadata": {
        "colab": {
          "base_uri": "https://localhost:8080/"
        },
        "id": "9PaaiAMbWbKS",
        "outputId": "51b4cb69-520e-4d07-ee06-d407cbf9d7ab"
      },
      "execution_count": 1,
      "outputs": [
        {
          "output_type": "stream",
          "name": "stdout",
          "text": [
            "Collecting torchmetrics\n",
            "  Downloading torchmetrics-1.4.0.post0-py3-none-any.whl (868 kB)\n",
            "\u001b[2K     \u001b[90m━━━━━━━━━━━━━━━━━━━━━━━━━━━━━━━━━━━━━━━━\u001b[0m \u001b[32m868.8/868.8 kB\u001b[0m \u001b[31m3.3 MB/s\u001b[0m eta \u001b[36m0:00:00\u001b[0m\n",
            "\u001b[?25hRequirement already satisfied: numpy>1.20.0 in /usr/local/lib/python3.10/dist-packages (from torchmetrics) (1.25.2)\n",
            "Requirement already satisfied: packaging>17.1 in /usr/local/lib/python3.10/dist-packages (from torchmetrics) (24.1)\n",
            "Requirement already satisfied: torch>=1.10.0 in /usr/local/lib/python3.10/dist-packages (from torchmetrics) (2.3.0+cu121)\n",
            "Collecting lightning-utilities>=0.8.0 (from torchmetrics)\n",
            "  Downloading lightning_utilities-0.11.2-py3-none-any.whl (26 kB)\n",
            "Requirement already satisfied: setuptools in /usr/local/lib/python3.10/dist-packages (from lightning-utilities>=0.8.0->torchmetrics) (67.7.2)\n",
            "Requirement already satisfied: typing-extensions in /usr/local/lib/python3.10/dist-packages (from lightning-utilities>=0.8.0->torchmetrics) (4.12.2)\n",
            "Requirement already satisfied: filelock in /usr/local/lib/python3.10/dist-packages (from torch>=1.10.0->torchmetrics) (3.15.1)\n",
            "Requirement already satisfied: sympy in /usr/local/lib/python3.10/dist-packages (from torch>=1.10.0->torchmetrics) (1.12.1)\n",
            "Requirement already satisfied: networkx in /usr/local/lib/python3.10/dist-packages (from torch>=1.10.0->torchmetrics) (3.3)\n",
            "Requirement already satisfied: jinja2 in /usr/local/lib/python3.10/dist-packages (from torch>=1.10.0->torchmetrics) (3.1.4)\n",
            "Requirement already satisfied: fsspec in /usr/local/lib/python3.10/dist-packages (from torch>=1.10.0->torchmetrics) (2023.6.0)\n",
            "Collecting nvidia-cuda-nvrtc-cu12==12.1.105 (from torch>=1.10.0->torchmetrics)\n",
            "  Using cached nvidia_cuda_nvrtc_cu12-12.1.105-py3-none-manylinux1_x86_64.whl (23.7 MB)\n",
            "Collecting nvidia-cuda-runtime-cu12==12.1.105 (from torch>=1.10.0->torchmetrics)\n",
            "  Using cached nvidia_cuda_runtime_cu12-12.1.105-py3-none-manylinux1_x86_64.whl (823 kB)\n",
            "Collecting nvidia-cuda-cupti-cu12==12.1.105 (from torch>=1.10.0->torchmetrics)\n",
            "  Using cached nvidia_cuda_cupti_cu12-12.1.105-py3-none-manylinux1_x86_64.whl (14.1 MB)\n",
            "Collecting nvidia-cudnn-cu12==8.9.2.26 (from torch>=1.10.0->torchmetrics)\n",
            "  Using cached nvidia_cudnn_cu12-8.9.2.26-py3-none-manylinux1_x86_64.whl (731.7 MB)\n",
            "Collecting nvidia-cublas-cu12==12.1.3.1 (from torch>=1.10.0->torchmetrics)\n",
            "  Using cached nvidia_cublas_cu12-12.1.3.1-py3-none-manylinux1_x86_64.whl (410.6 MB)\n",
            "Collecting nvidia-cufft-cu12==11.0.2.54 (from torch>=1.10.0->torchmetrics)\n",
            "  Using cached nvidia_cufft_cu12-11.0.2.54-py3-none-manylinux1_x86_64.whl (121.6 MB)\n",
            "Collecting nvidia-curand-cu12==10.3.2.106 (from torch>=1.10.0->torchmetrics)\n",
            "  Using cached nvidia_curand_cu12-10.3.2.106-py3-none-manylinux1_x86_64.whl (56.5 MB)\n",
            "Collecting nvidia-cusolver-cu12==11.4.5.107 (from torch>=1.10.0->torchmetrics)\n",
            "  Using cached nvidia_cusolver_cu12-11.4.5.107-py3-none-manylinux1_x86_64.whl (124.2 MB)\n",
            "Collecting nvidia-cusparse-cu12==12.1.0.106 (from torch>=1.10.0->torchmetrics)\n",
            "  Using cached nvidia_cusparse_cu12-12.1.0.106-py3-none-manylinux1_x86_64.whl (196.0 MB)\n",
            "Collecting nvidia-nccl-cu12==2.20.5 (from torch>=1.10.0->torchmetrics)\n",
            "  Using cached nvidia_nccl_cu12-2.20.5-py3-none-manylinux2014_x86_64.whl (176.2 MB)\n",
            "Collecting nvidia-nvtx-cu12==12.1.105 (from torch>=1.10.0->torchmetrics)\n",
            "  Using cached nvidia_nvtx_cu12-12.1.105-py3-none-manylinux1_x86_64.whl (99 kB)\n",
            "Requirement already satisfied: triton==2.3.0 in /usr/local/lib/python3.10/dist-packages (from torch>=1.10.0->torchmetrics) (2.3.0)\n",
            "Collecting nvidia-nvjitlink-cu12 (from nvidia-cusolver-cu12==11.4.5.107->torch>=1.10.0->torchmetrics)\n",
            "  Downloading nvidia_nvjitlink_cu12-12.5.40-py3-none-manylinux2014_x86_64.whl (21.3 MB)\n",
            "\u001b[2K     \u001b[90m━━━━━━━━━━━━━━━━━━━━━━━━━━━━━━━━━━━━━━━━\u001b[0m \u001b[32m21.3/21.3 MB\u001b[0m \u001b[31m59.7 MB/s\u001b[0m eta \u001b[36m0:00:00\u001b[0m\n",
            "\u001b[?25hRequirement already satisfied: MarkupSafe>=2.0 in /usr/local/lib/python3.10/dist-packages (from jinja2->torch>=1.10.0->torchmetrics) (2.1.5)\n",
            "Requirement already satisfied: mpmath<1.4.0,>=1.1.0 in /usr/local/lib/python3.10/dist-packages (from sympy->torch>=1.10.0->torchmetrics) (1.3.0)\n",
            "Installing collected packages: nvidia-nvtx-cu12, nvidia-nvjitlink-cu12, nvidia-nccl-cu12, nvidia-curand-cu12, nvidia-cufft-cu12, nvidia-cuda-runtime-cu12, nvidia-cuda-nvrtc-cu12, nvidia-cuda-cupti-cu12, nvidia-cublas-cu12, lightning-utilities, nvidia-cusparse-cu12, nvidia-cudnn-cu12, nvidia-cusolver-cu12, torchmetrics\n",
            "Successfully installed lightning-utilities-0.11.2 nvidia-cublas-cu12-12.1.3.1 nvidia-cuda-cupti-cu12-12.1.105 nvidia-cuda-nvrtc-cu12-12.1.105 nvidia-cuda-runtime-cu12-12.1.105 nvidia-cudnn-cu12-8.9.2.26 nvidia-cufft-cu12-11.0.2.54 nvidia-curand-cu12-10.3.2.106 nvidia-cusolver-cu12-11.4.5.107 nvidia-cusparse-cu12-12.1.0.106 nvidia-nccl-cu12-2.20.5 nvidia-nvjitlink-cu12-12.5.40 nvidia-nvtx-cu12-12.1.105 torchmetrics-1.4.0.post0\n"
          ]
        }
      ]
    },
    {
      "cell_type": "code",
      "source": [
        "import torch\n",
        "from torchvision import datasets, transforms\n",
        "from torch.utils.data import DataLoader\n",
        "from torchvision.transforms import Resize\n",
        "\n",
        "# Define the transformations\n",
        "transform_down = transforms.Compose([\n",
        "    transforms.ToTensor(),  # Convert to tensor\n",
        "    Resize((7, 7))  # Resize to 7x7\n",
        "])\n",
        "\n",
        "transform_up = transforms.Compose([\n",
        "    transforms.ToTensor(),  # Convert to tensor\n",
        "    Resize((28, 28))  # Resize back to 28x28\n",
        "])\n",
        "\n",
        "# Load MNIST dataset with the defined transformations\n",
        "train_dataset_down = datasets.MNIST(root='./data', train=True, download=True, transform=transform_down)\n",
        "test_dataset_down = datasets.MNIST(root='./data', train=False, download=True, transform=transform_down)\n",
        "\n",
        "# Load MNIST dataset for the 28x28 resized images\n",
        "train_dataset_up = datasets.MNIST(root='./data', train=True, download=True, transform=transform_up)\n",
        "test_dataset_up = datasets.MNIST(root='./data', train=False, download=True, transform=transform_up)\n",
        "\n",
        "# Create DataLoader instances for both versions of the dataset\n",
        "train_loader_down = DataLoader(dataset=train_dataset_down, batch_size=64, shuffle=True)\n",
        "test_loader_down = DataLoader(dataset=test_dataset_down, batch_size=64, shuffle=False)\n",
        "\n",
        "train_loader_up = DataLoader(dataset=train_dataset_up, batch_size=64, shuffle=True)\n",
        "test_loader_up = DataLoader(dataset=test_dataset_up, batch_size=64, shuffle=False)\n",
        "\n",
        "# Example of iterating through the resized dataset\n",
        "for batch_idx, (data, target) in enumerate(train_loader_down):\n",
        "    # data is now resized images in tensor format (7x7)\n",
        "    # target is the corresponding labels\n",
        "    print(f\"Size of batch {batch_idx + 1}: {data.size()}\")  # Print size of the batch\n",
        "    # Your processing code here\n",
        "    break\n",
        "    pass\n",
        "for batch_idx, (data, target) in enumerate(train_loader_up):\n",
        "    print(f\"Size of batch {batch_idx + 1}: {data.size()}\")  # Print size of the batch\n",
        "    break\n",
        "\n",
        "# Similarly, you can iterate through train_loader_up and test_loader_up for 28x28 images\n"
      ],
      "metadata": {
        "colab": {
          "base_uri": "https://localhost:8080/"
        },
        "id": "tPOGSQOIFKkI",
        "outputId": "c813a2e3-cc4c-4a5f-859c-3cc826a35ea0"
      },
      "execution_count": 19,
      "outputs": [
        {
          "output_type": "stream",
          "name": "stdout",
          "text": [
            "Size of batch 1: torch.Size([64, 1, 7, 7])\n",
            "Size of batch 1: torch.Size([64, 1, 28, 28])\n"
          ]
        }
      ]
    },
    {
      "cell_type": "code",
      "source": [
        "from torchmetrics.image import StructuralSimilarityIndexMeasure, PeakSignalNoiseRatio\n",
        "device = \"cuda\" if torch.cuda.is_available() else \"cpu\"\n",
        "psnr = PeakSignalNoiseRatio()\n",
        "psnr.to(device)\n",
        "ssim = StructuralSimilarityIndexMeasure(data_range=1.0)\n",
        "ssim.to(device)"
      ],
      "metadata": {
        "colab": {
          "base_uri": "https://localhost:8080/"
        },
        "id": "vgOJ49X4XGp4",
        "outputId": "ab9b8fa5-eefd-4823-c071-08d510a1b7fd"
      },
      "execution_count": 20,
      "outputs": [
        {
          "output_type": "execute_result",
          "data": {
            "text/plain": [
              "StructuralSimilarityIndexMeasure()"
            ]
          },
          "metadata": {},
          "execution_count": 20
        }
      ]
    },
    {
      "cell_type": "code",
      "source": [
        "import torch\n",
        "import torch.nn as nn\n",
        "import torch.optim as optim\n",
        "\n",
        "class u_net(nn.Module):\n",
        "    def __init__(self, dropout_rate = 0.5):\n",
        "        super(u_net, self).__init__()\n",
        "        # Encoder\n",
        "        self.conv1 = nn.Conv2d(1, 32, kernel_size=3, padding=1)\n",
        "        self.conv2 = nn.Conv2d(32, 32, kernel_size=3, padding=1)\n",
        "        self.dropout1 = nn.Dropout2d(p=dropout_rate)\n",
        "\n",
        "        self.pool = nn.MaxPool2d(kernel_size=2, stride=2)\n",
        "        self.conv3 = nn.Conv2d(32, 64, kernel_size=3, padding=1)\n",
        "        self.conv4 = nn.Conv2d(64, 64, kernel_size=3, padding=1)\n",
        "        self.dropout2 = nn.Dropout2d(p=dropout_rate)\n",
        "\n",
        "        # Bottleneck\n",
        "        self.bottleneck = nn.Conv2d(64, 128, kernel_size=3, padding=1)\n",
        "        self.bottleneck2 = nn.Conv2d(128, 128, kernel_size=3, padding=1)\n",
        "\n",
        "        # Decoder\n",
        "        self.upconv1 = nn.ConvTranspose2d(128, 64, kernel_size=2, stride=2)\n",
        "        self.conv5 = nn.Conv2d(128, 64, kernel_size=3, padding=1)\n",
        "        self.conv6 = nn.Conv2d(64, 64, kernel_size=3, padding=1)\n",
        "        self.dropout3 = nn.Dropout2d(p=dropout_rate)\n",
        "\n",
        "        self.upconv2 = nn.ConvTranspose2d(64, 32, kernel_size=2, stride=2)\n",
        "        self.conv7 = nn.Conv2d(64, 32, kernel_size=3, padding=1)\n",
        "        self.conv8 = nn.Conv2d(32, 32, kernel_size=3, padding=1)\n",
        "        self.dropout4 = nn.Dropout2d(p=dropout_rate)\n",
        "\n",
        "        # Output Layer\n",
        "        self.outconv = nn.Conv2d(32, 1, kernel_size=3, padding=1)\n",
        "\n",
        "        # ReLU Layer\n",
        "        self.relu = nn.ReLU()\n",
        "\n",
        "    def forward(self, x):\n",
        "        # Encode\n",
        "        x = self.relu(self.conv1(x))\n",
        "        x = self.relu(self.conv2(x))\n",
        "        x = self.dropout1(x)\n",
        "        skip_connection1 = x\n",
        "        x = self.pool(x)\n",
        "\n",
        "        x = self.relu(self.conv3(x))\n",
        "        x = self.relu(self.conv4(x))\n",
        "        x = self.dropout2(x)\n",
        "        skip_connection2 = x\n",
        "        x = self.pool(x)\n",
        "\n",
        "        # Bottleneck\n",
        "        x = self.relu(self.bottleneck(x))\n",
        "        x = self.relu(self.bottleneck2(x))\n",
        "        # Decoder\n",
        "        x = self.upconv1(x)\n",
        "        x = self.relu(self.conv5(torch.cat((skip_connection2, x), 1))) # Concatenate after upsampling\n",
        "        x = self.relu(self.conv6(x))\n",
        "        x = self.dropout3(x)\n",
        "\n",
        "        x = self.upconv2(x)\n",
        "        x = self.relu(self.conv7(torch.cat((skip_connection1, x), 1))) # Concatenate after upsampling\n",
        "        x = self.relu(self.conv8(x))\n",
        "        x = self.dropout4(x)\n",
        "\n",
        "        # Output Layer\n",
        "        x = self.outconv(x)\n",
        "        return x\n",
        "\n",
        "train_loader = upscaled_image\n",
        "device = torch.device(\"cuda\" if torch.cuda.is_available() else \"cpu\")\n",
        "model = u_net().to(device)\n",
        "criterion = nn.MSELoss()\n",
        "optimizer = optim.Adam(model.parameters(), lr=0.001)\n",
        "\n",
        "\n",
        "epoch_numbers = []\n",
        "psnr_values = []\n",
        "ssim_values = []\n",
        "\n",
        "# Define a function to train the model\n",
        "def train(model, criterion, optimizer, num_epochs):\n",
        "    model.train()\n",
        "    for epoch in range(num_epochs):\n",
        "        running_loss = 0.0\n",
        "        for images, _ in train_loader_up:\n",
        "            # Move tensors to the appropriate device\n",
        "            images = images.to(device)\n",
        "\n",
        "            # Zero the parameter gradients\n",
        "            optimizer.zero_grad()\n",
        "\n",
        "            # Forward + backward + optimize\n",
        "            outputs = model(images)\n",
        "            loss = criterion(outputs, images)  # Using the original images as both input and target\n",
        "            loss.backward()\n",
        "            optimizer.step()\n",
        "\n",
        "            running_loss += loss.item()\n",
        "\n",
        "        print(f'Epoch {epoch+1}: Loss {running_loss / len(train_loader_up)}')\n",
        "\n",
        "        PSNR_value, SSIM_value = PSNR_SSIM_Value(model, test_loader_up)\n",
        "\n",
        "        epoch_numbers.append(epoch + 1)\n",
        "        psnr_values.append(PSNR_value)\n",
        "        ssim_values.append(SSIM_value)\n",
        "\n",
        "#Train the model\n",
        "#train(model, criterion, optimizer, num_epochs = 2)\n"
      ],
      "metadata": {
        "id": "5jPUQnhkBS0O"
      },
      "execution_count": 21,
      "outputs": []
    },
    {
      "cell_type": "code",
      "execution_count": 22,
      "metadata": {
        "id": "s6OtTe-kv_cU"
      },
      "outputs": [],
      "source": [
        "import matplotlib.pyplot as plt\n",
        "\n",
        "def validate(model, loader):\n",
        "    model.eval()  # Set the model to evaluation mode\n",
        "    total_loss = 0.0\n",
        "    criterion = nn.MSELoss()\n",
        "    with torch.no_grad():  # No need to track gradients\n",
        "        for images, _ in loader:\n",
        "            images = images.to(device)\n",
        "            high_res_images = images.to(device)\n",
        "\n",
        "            outputs = model(images)\n",
        "            loss = criterion(outputs, high_res_images)\n",
        "            total_loss += loss.item()\n",
        "\n",
        "    avg_loss = total_loss / len(loader)\n",
        "    print(f'Validation Loss: {avg_loss}')\n",
        "    return avg_loss\n",
        "\n",
        "def visualize_results(model, loader):\n",
        "    model.eval()\n",
        "    with torch.inference_mode():\n",
        "        for images, _ in loader:\n",
        "            images = images.to(device)\n",
        "\n",
        "            print(images.shape)\n",
        "            outputs = model(images)\n",
        "            print(outputs.shape)\n",
        "\n",
        "            # Convert first 4 images in the batch from PyTorch tensors to NumPy arrays\n",
        "            input_images = images[:4].cpu().numpy()\n",
        "            reconstructed_images = outputs[:4].cpu().numpy()\n",
        "            # original_images = images[:4].numpy()\n",
        "\n",
        "            PSNR_value = psnr(outputs, images)\n",
        "\n",
        "            print(PSNR_value)\n",
        "            SSIM_value = ssim(outputs, images)\n",
        "\n",
        "            print(SSIM_value)\n",
        "\n",
        "            # Plotting\n",
        "            fig, axes = plt.subplots(2, 4, figsize=(12, 9))\n",
        "            for i in range(4):\n",
        "                # Display original images\n",
        "                ax = axes[0][i]\n",
        "                ax.imshow(input_images[i].reshape(28, 28), cmap='gray', interpolation = 'none')\n",
        "                ax.title.set_text('Original')\n",
        "                ax.axis('off')\n",
        "\n",
        "                # Display reconstructed images\n",
        "                ax = axes[1][i]\n",
        "                ax.imshow(reconstructed_images[i].reshape(28, 28), cmap='gray', interpolation = 'none')\n",
        "                ax.title.set_text('Reconstructed')\n",
        "                ax.axis('off')\n",
        "\n",
        "            plt.show()\n",
        "            break  # Only show one batch of images\n",
        "    return  PSNR_value.item(), SSIM_value.item()\n",
        "\n",
        "epoch = 10\n",
        "def PSNR_SSIM_Value(model, loader):\n",
        "    model.eval()\n",
        "    with torch.inference_mode():\n",
        "        for images, _ in loader:\n",
        "            images = images.to(device)\n",
        "            #print(images.shape)\n",
        "            outputs = model(images)\n",
        "            #print(outputs.shape)\n",
        "            PSNR_value = psnr(outputs, images)\n",
        "            SSIM_value = ssim(outputs, images)\n",
        "            print(PSNR_value)\n",
        "            print(SSIM_value)\n",
        "            break\n",
        "    return  PSNR_value.item(), SSIM_value.item()"
      ]
    },
    {
      "cell_type": "code",
      "source": [
        "# Train the model\n",
        "train(model, criterion, optimizer, num_epochs=2)\n",
        "\n",
        "# Validate the model\n",
        "avg_loss = validate(model, test_loader_up)\n",
        "psnr_value, ssim_value = PSNR_SSIM_Value(model, test_loader_up)\n",
        "\n",
        "\n",
        "# Plot the epoch numbers vs. PSNR and SSIM\n",
        "plt.figure(figsize=(10, 5))\n",
        "plt.subplot(1, 2, 1)\n",
        "plt.plot(epoch_numbers, psnr_values, label='PSNR')\n",
        "print(epoch_numbers)\n",
        "print(psnr_values)\n",
        "plt.xlabel('Epoch Number')\n",
        "plt.ylabel('PSNR')\n",
        "plt.title('Epoch Number vs. PSNR')\n",
        "plt.grid(True)\n",
        "\n",
        "plt.subplot(1, 2, 2)\n",
        "plt.plot(epoch_numbers, ssim_values, label='SSIM')\n",
        "print(ssim_values)\n",
        "plt.xlabel('Epoch Number')\n",
        "plt.ylabel('SSIM')\n",
        "plt.title('Epoch Number vs. SSIM')\n",
        "plt.grid(True)\n",
        "\n",
        "plt.show()\n"
      ],
      "metadata": {
        "colab": {
          "base_uri": "https://localhost:8080/",
          "height": 695
        },
        "outputId": "89926b0d-7503-4e70-fef8-1359840c44ce",
        "id": "g3sBvM2WEMqr"
      },
      "execution_count": 24,
      "outputs": [
        {
          "output_type": "stream",
          "name": "stdout",
          "text": [
            "Epoch 1: Loss 0.007074465388869013\n",
            "tensor(27.5173)\n",
            "tensor(0.9102)\n",
            "Epoch 2: Loss 7.180469424335293e-05\n",
            "tensor(45.6092)\n",
            "tensor(0.9996)\n",
            "Validation Loss: 2.8209796284361013e-05\n",
            "tensor(45.6092)\n",
            "tensor(0.9996)\n",
            "[1, 2]\n",
            "[27.517276763916016, 45.60923767089844]\n",
            "[0.9102423787117004, 0.9996120929718018]\n"
          ]
        },
        {
          "output_type": "display_data",
          "data": {
            "text/plain": [
              "<Figure size 1000x500 with 2 Axes>"
            ],
            "image/png": "[encoded data removed]"
          },
          "metadata": {}
        }
      ]
    }
  ]
}