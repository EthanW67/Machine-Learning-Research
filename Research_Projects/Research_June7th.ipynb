{
  "nbformat": 4,
  "nbformat_minor": 0,
  "metadata": {
    "colab": {
      "provenance": [],
      "gpuType": "T4",
      "authorship_tag": "ABX9TyP9KDNr4C/EuBaPRckgk6fT",
      "include_colab_link": true
    },
    "kernelspec": {
      "name": "python3",
      "display_name": "Python 3"
    },
    "language_info": {
      "name": "python"
    },
    "accelerator": "GPU"
  },
  "cells": [
    {
      "cell_type": "markdown",
      "metadata": {
        "id": "view-in-github",
        "colab_type": "text"
      },
      "source": [
        "<a href=\"https://colab.research.google.com/github/EthanW67/Machine-Learning-Research/blob/main/Research_Projects/Research_June7th.ipynb\" target=\"_parent\"><img src=\"https://colab.research.google.com/assets/colab-badge.svg\" alt=\"Open In Colab\"/></a>"
      ]
    },
    {
      "cell_type": "markdown",
      "source": [
        "### 6/4/2024\n",
        "* Input MNIST (28*28)\n",
        "* Output MNIST (28*28),\n",
        "* To reconstruct the input by using encoder and decoder."
      ],
      "metadata": {
        "id": "fjgddbtmuaGl"
      }
    },
    {
      "cell_type": "code",
      "execution_count": 1,
      "metadata": {
        "id": "hVKfpkHEaNU8"
      },
      "outputs": [],
      "source": [
        "import torch\n",
        "import torchvision\n",
        "import torch.nn as nn\n",
        "from torchvision import transforms\n",
        "import matplotlib.pyplot as plt\n",
        "import numpy as np"
      ]
    },
    {
      "cell_type": "code",
      "source": [
        "transform = transforms.ToTensor()"
      ],
      "metadata": {
        "id": "pT04I0w1YA3n"
      },
      "execution_count": 2,
      "outputs": []
    },
    {
      "cell_type": "code",
      "source": [
        "train_dataset = torchvision.datasets.MNIST(root = \"./data\", train =True, download =True, transform = transform)\n",
        "valid_dataset = torchvision.datasets.MNIST(root = \"./data\", train =False, download =True, transform = transform)"
      ],
      "metadata": {
        "id": "GQXcHQgIYHGQ",
        "colab": {
          "base_uri": "https://localhost:8080/"
        },
        "outputId": "f2f2fa59-95ea-48b9-ea59-b8d27463c58d"
      },
      "execution_count": 3,
      "outputs": [
        {
          "output_type": "stream",
          "name": "stdout",
          "text": [
            "Downloading http://yann.lecun.com/exdb/mnist/train-images-idx3-ubyte.gz\n",
            "Failed to download (trying next):\n",
            "HTTP Error 403: Forbidden\n",
            "\n",
            "Downloading https://ossci-datasets.s3.amazonaws.com/mnist/train-images-idx3-ubyte.gz\n",
            "Downloading https://ossci-datasets.s3.amazonaws.com/mnist/train-images-idx3-ubyte.gz to ./data/MNIST/raw/train-images-idx3-ubyte.gz\n"
          ]
        },
        {
          "output_type": "stream",
          "name": "stderr",
          "text": [
            "100%|██████████| 9912422/9912422 [00:00<00:00, 13129249.37it/s]\n"
          ]
        },
        {
          "output_type": "stream",
          "name": "stdout",
          "text": [
            "Extracting ./data/MNIST/raw/train-images-idx3-ubyte.gz to ./data/MNIST/raw\n",
            "\n",
            "Downloading http://yann.lecun.com/exdb/mnist/train-labels-idx1-ubyte.gz\n",
            "Failed to download (trying next):\n",
            "HTTP Error 403: Forbidden\n",
            "\n",
            "Downloading https://ossci-datasets.s3.amazonaws.com/mnist/train-labels-idx1-ubyte.gz\n",
            "Downloading https://ossci-datasets.s3.amazonaws.com/mnist/train-labels-idx1-ubyte.gz to ./data/MNIST/raw/train-labels-idx1-ubyte.gz\n"
          ]
        },
        {
          "output_type": "stream",
          "name": "stderr",
          "text": [
            "100%|██████████| 28881/28881 [00:00<00:00, 418115.87it/s]\n"
          ]
        },
        {
          "output_type": "stream",
          "name": "stdout",
          "text": [
            "Extracting ./data/MNIST/raw/train-labels-idx1-ubyte.gz to ./data/MNIST/raw\n",
            "\n",
            "Downloading http://yann.lecun.com/exdb/mnist/t10k-images-idx3-ubyte.gz\n",
            "Failed to download (trying next):\n",
            "HTTP Error 403: Forbidden\n",
            "\n",
            "Downloading https://ossci-datasets.s3.amazonaws.com/mnist/t10k-images-idx3-ubyte.gz\n",
            "Downloading https://ossci-datasets.s3.amazonaws.com/mnist/t10k-images-idx3-ubyte.gz to ./data/MNIST/raw/t10k-images-idx3-ubyte.gz\n"
          ]
        },
        {
          "output_type": "stream",
          "name": "stderr",
          "text": [
            "100%|██████████| 1648877/1648877 [00:00<00:00, 3526918.11it/s]\n"
          ]
        },
        {
          "output_type": "stream",
          "name": "stdout",
          "text": [
            "Extracting ./data/MNIST/raw/t10k-images-idx3-ubyte.gz to ./data/MNIST/raw\n",
            "\n",
            "Downloading http://yann.lecun.com/exdb/mnist/t10k-labels-idx1-ubyte.gz\n",
            "Failed to download (trying next):\n",
            "HTTP Error 403: Forbidden\n",
            "\n",
            "Downloading https://ossci-datasets.s3.amazonaws.com/mnist/t10k-labels-idx1-ubyte.gz\n",
            "Downloading https://ossci-datasets.s3.amazonaws.com/mnist/t10k-labels-idx1-ubyte.gz to ./data/MNIST/raw/t10k-labels-idx1-ubyte.gz\n"
          ]
        },
        {
          "output_type": "stream",
          "name": "stderr",
          "text": [
            "100%|██████████| 4542/4542 [00:00<00:00, 8504700.34it/s]"
          ]
        },
        {
          "output_type": "stream",
          "name": "stdout",
          "text": [
            "Extracting ./data/MNIST/raw/t10k-labels-idx1-ubyte.gz to ./data/MNIST/raw\n",
            "\n"
          ]
        },
        {
          "output_type": "stream",
          "name": "stderr",
          "text": [
            "\n"
          ]
        }
      ]
    },
    {
      "cell_type": "code",
      "source": [
        "train_d1 = torch.utils.data.DataLoader(train_dataset, batch_size = 32)\n",
        "\n",
        "print(len(train_d1))"
      ],
      "metadata": {
        "id": "LQfOHsU5YgSZ",
        "colab": {
          "base_uri": "https://localhost:8080/"
        },
        "outputId": "cc934d4b-61af-4816-ea32-d085297ee603"
      },
      "execution_count": 4,
      "outputs": [
        {
          "output_type": "stream",
          "name": "stdout",
          "text": [
            "1875\n"
          ]
        }
      ]
    },
    {
      "cell_type": "code",
      "source": [
        "class Encoder(nn.Module):\n",
        "  def __init__(self, input_size = 28*28, hidden_size1 = 128, hidden_size2 =128, z_dim =2):\n",
        "    super().__init__()\n",
        "    self.fc1 = nn.Linear(input_size, hidden_size1)\n",
        "    self.fc2 = nn.Linear(hidden_size1, hidden_size2)\n",
        "    self.fc3 = nn.Linear(hidden_size2, z_dim)\n",
        "    self.relu = nn.ReLU()\n",
        "\n",
        "  def forward(self, x):\n",
        "    x = self.relu(self.fc1(x))\n",
        "    x = self.relu(self.fc2(x))\n",
        "    x = self.relu(self.fc3(x))\n",
        "    return x"
      ],
      "metadata": {
        "id": "Eq-QDe91Y4pB"
      },
      "execution_count": 5,
      "outputs": []
    },
    {
      "cell_type": "code",
      "source": [
        "class Decoder(nn.Module):\n",
        "  def __init__(self, output_size = 28*28, hidden_size1 = 128, hidden_size2 = 128, z_dim =2):\n",
        "    super().__init__()\n",
        "    self.fc1 = nn.Linear(z_dim, hidden_size2)\n",
        "    self.fc2 = nn.Linear(hidden_size2, hidden_size1)\n",
        "    self.fc3 = nn.Linear(hidden_size1, output_size)\n",
        "    self.relu = nn.ReLU()\n",
        "\n",
        "  def forward(self, x):\n",
        "    x = self.relu(self.fc1(x))\n",
        "    x = self.relu(self.fc2(x))\n",
        "    x = torch.sigmoid(self.fc3(x))\n",
        "    return x"
      ],
      "metadata": {
        "id": "J5wwC909dBF6"
      },
      "execution_count": 6,
      "outputs": []
    },
    {
      "cell_type": "code",
      "source": [
        "device = torch.device(\"cuda\" if torch.cuda.is_available() else \"cpu\")\n",
        "device"
      ],
      "metadata": {
        "id": "94LM9I3tdnZt",
        "colab": {
          "base_uri": "https://localhost:8080/"
        },
        "outputId": "1e2dfc8d-1b4b-4cb5-f394-d9643a646336"
      },
      "execution_count": 7,
      "outputs": [
        {
          "output_type": "execute_result",
          "data": {
            "text/plain": [
              "device(type='cpu')"
            ]
          },
          "metadata": {},
          "execution_count": 7
        }
      ]
    },
    {
      "cell_type": "code",
      "source": [
        "\n",
        "enc = Encoder().to(device)\n",
        "dec = Decoder().to(device)"
      ],
      "metadata": {
        "id": "G1jdqAqNePOV"
      },
      "execution_count": 8,
      "outputs": []
    },
    {
      "cell_type": "code",
      "source": [
        "loss_fn = nn.MSELoss()\n",
        "optimizer_enc = torch.optim.Adam(enc.parameters())\n",
        "optimizer_dec = torch.optim.Adam(dec.parameters())"
      ],
      "metadata": {
        "id": "7qAhE07MeZWY"
      },
      "execution_count": 9,
      "outputs": []
    },
    {
      "cell_type": "code",
      "source": [
        "train_loss = []"
      ],
      "metadata": {
        "id": "3AOksQAhetfa"
      },
      "execution_count": 10,
      "outputs": []
    },
    {
      "cell_type": "code",
      "source": [
        "\"\"\"\n",
        "epochs = 10\n",
        "for epoch in range(epochs):\n",
        "  train_epoch_loss = 0\n",
        "  for (imgs, _) in train_d1:\n",
        "    imgs = imgs.to(device)\n",
        "\n",
        "# 100, 1, 28, 28 --> (100, 28*28)\n",
        "    imgs = imgs.flatten(1)\n",
        "    latents = enc(imgs)\n",
        "    output = dec(latents)\n",
        "    loss = loss_fn(output, imgs)\n",
        "    train_epoch_loss += loss.cpu().detach().numpy()\n",
        "    optimizer_enc.zero_grad()\n",
        "    optimizer_dec.zero_grad()\n",
        "    loss.backward()\n",
        "    optimizer_enc.step()\n",
        "    optimizer_dec.step()\n",
        "  train_loss.append(train_epoch_loss)\n",
        "  \"\"\""
      ],
      "metadata": {
        "id": "jKgffmLqevBp",
        "colab": {
          "base_uri": "https://localhost:8080/",
          "height": 53
        },
        "outputId": "a819e6d9-a7d2-4144-8715-c94281d9a62c"
      },
      "execution_count": 11,
      "outputs": [
        {
          "output_type": "execute_result",
          "data": {
            "text/plain": [
              "'\\nepochs = 10\\nfor epoch in range(epochs):\\n  train_epoch_loss = 0\\n  for (imgs, _) in train_d1:\\n    imgs = imgs.to(device)\\n\\n# 100, 1, 28, 28 --> (100, 28*28)\\n    imgs = imgs.flatten(1)\\n    latents = enc(imgs)\\n    output = dec(latents)\\n    loss = loss_fn(output, imgs)\\n    train_epoch_loss += loss.cpu().detach().numpy()\\n    optimizer_enc.zero_grad()\\n    optimizer_dec.zero_grad()\\n    loss.backward()\\n    optimizer_enc.step()\\n    optimizer_dec.step()\\n  train_loss.append(train_epoch_loss)\\n  '"
            ],
            "application/vnd.google.colaboratory.intrinsic+json": {
              "type": "string"
            }
          },
          "metadata": {},
          "execution_count": 11
        }
      ]
    },
    {
      "cell_type": "code",
      "source": [
        "num_epochs = 100"
      ],
      "metadata": {
        "id": "4R-aAq57mnK6"
      },
      "execution_count": 12,
      "outputs": []
    },
    {
      "cell_type": "code",
      "source": [
        "\"\"\"\n",
        "for epoch in range(num_epochs):\n",
        "  train_epoch_loss = 0\n",
        "  for (imgs , _) in train_d1:\n",
        "    imgs = imgs.to(device)\n",
        "    #100 , 1 , 28 , 28 ---> (100 , 28*28)\n",
        "    imgs = imgs.flatten(1)\n",
        "    latents = enc(imgs)\n",
        "    output = dec(latents)\n",
        "    loss = loss_fn(output , imgs)\n",
        "    train_epoch_loss += loss.cpu().detach().numpy()\n",
        "    optimizer_enc.zero_grad()\n",
        "    optimizer_dec.zero_grad()\n",
        "    loss.backward()\n",
        "    optimizer_enc.step()\n",
        "    optimizer_dec.step()\n",
        "  train_loss.append(train_epoch_loss)\n",
        "  \"\"\""
      ],
      "metadata": {
        "id": "xhkEsbmemmPp",
        "colab": {
          "base_uri": "https://localhost:8080/",
          "height": 53
        },
        "outputId": "62c607fb-2675-4ccb-d175-8395f1244e51"
      },
      "execution_count": 13,
      "outputs": [
        {
          "output_type": "execute_result",
          "data": {
            "text/plain": [
              "'\\nfor epoch in range(num_epochs):\\n  train_epoch_loss = 0\\n  for (imgs , _) in train_d1:\\n    imgs = imgs.to(device)\\n    #100 , 1 , 28 , 28 ---> (100 , 28*28)\\n    imgs = imgs.flatten(1)\\n    latents = enc(imgs)\\n    output = dec(latents)\\n    loss = loss_fn(output , imgs)\\n    train_epoch_loss += loss.cpu().detach().numpy()\\n    optimizer_enc.zero_grad()\\n    optimizer_dec.zero_grad()\\n    loss.backward()\\n    optimizer_enc.step()\\n    optimizer_dec.step()\\n  train_loss.append(train_epoch_loss)\\n  '"
            ],
            "application/vnd.google.colaboratory.intrinsic+json": {
              "type": "string"
            }
          },
          "metadata": {},
          "execution_count": 13
        }
      ]
    },
    {
      "cell_type": "code",
      "source": [
        "for epoch in range(num_epochs):\n",
        "    train_epoch_loss = 0\n",
        "    for imgs, _ in train_d1:\n",
        "        imgs = imgs.to(device).flatten(1)  # Move to device and flatten in one step\n",
        "        latents = enc(imgs)\n",
        "        output = dec(latents)\n",
        "        loss = loss_fn(output, imgs)\n",
        "        train_epoch_loss += loss.item()  # Use .item() to get the value and avoid additional graph tracking\n",
        "        optimizer_enc.zero_grad()\n",
        "        optimizer_dec.zero_grad()\n",
        "        loss.backward()\n",
        "        optimizer_enc.step()\n",
        "        optimizer_dec.step()\n",
        "    train_loss.append(train_epoch_loss)\n"
      ],
      "metadata": {
        "id": "KV6H9najzBoL"
      },
      "execution_count": 14,
      "outputs": []
    },
    {
      "cell_type": "code",
      "source": [
        "plt.plot(train_loss)"
      ],
      "metadata": {
        "id": "Op7IAalBgZqF",
        "colab": {
          "base_uri": "https://localhost:8080/",
          "height": 447
        },
        "outputId": "73700e59-562b-4f19-cf0d-07368ab79c8c"
      },
      "execution_count": 15,
      "outputs": [
        {
          "output_type": "execute_result",
          "data": {
            "text/plain": [
              "[<matplotlib.lines.Line2D at 0x78bdf456c1f0>]"
            ]
          },
          "metadata": {},
          "execution_count": 15
        },
        {
          "output_type": "display_data",
          "data": {
            "text/plain": [
              "<Figure size 640x480 with 1 Axes>"
            ],
            "image/png": "[encoded data removed]"
          },
          "metadata": {}
        }
      ]
    },
    {
      "cell_type": "code",
      "source": [
        "\n",
        "values = None\n",
        "all_labels = []\n",
        "\n",
        "with torch.no_grad():\n",
        "  for (imgs , labels) in train_d1:\n",
        "    imgs = imgs.to(device)\n",
        "    imgs = imgs.flatten(1)\n",
        "    all_labels.extend(list(labels.numpy()))\n",
        "    latents = enc(imgs)\n",
        "    if values is None:\n",
        "      values = latents.cpu()\n",
        "    else:\n",
        "      values = torch.vstack([values , latents.cpu()])"
      ],
      "metadata": {
        "id": "3TOD94qftUPA"
      },
      "execution_count": 16,
      "outputs": []
    },
    {
      "cell_type": "code",
      "source": [
        "values.shape"
      ],
      "metadata": {
        "id": "lIWB3Fp3iO8O",
        "colab": {
          "base_uri": "https://localhost:8080/"
        },
        "outputId": "c9a09081-9820-4f48-8848-3cd54ad2b816"
      },
      "execution_count": 17,
      "outputs": [
        {
          "output_type": "execute_result",
          "data": {
            "text/plain": [
              "torch.Size([60000, 2])"
            ]
          },
          "metadata": {},
          "execution_count": 17
        }
      ]
    },
    {
      "cell_type": "code",
      "source": [
        "#all_labels"
      ],
      "metadata": {
        "id": "mRuTdSvNi8x2"
      },
      "execution_count": 18,
      "outputs": []
    },
    {
      "cell_type": "code",
      "source": [
        "cmap = plt.get_cmap('viridis', 10)\n",
        "cmap"
      ],
      "metadata": {
        "id": "wlGgIKgMi-gn",
        "colab": {
          "base_uri": "https://localhost:8080/",
          "height": 122
        },
        "outputId": "2ef692e9-cfa2-4d44-9bc0-6df0ee98233d"
      },
      "execution_count": 19,
      "outputs": [
        {
          "output_type": "execute_result",
          "data": {
            "text/plain": [
              "<matplotlib.colors.ListedColormap at 0x78bdf45ded70>"
            ],
            "text/html": [
              "<div style=\"vertical-align: middle;\"><strong>viridis</strong> </div><div class=\"cmap\"><img alt=\"viridis colormap\" title=\"viridis\" style=\"border: 1px solid #555;\" src=\"data:image/png;base64,iVBORw0KGgoAAAANSUhEUgAAAgAAAABACAYAAABsv8+/AAAAFnRFWHRUaXRsZQB2aXJpZGlzIGNvbG9ybWFwrE0mCwAAABx0RVh0RGVzY3JpcHRpb24AdmlyaWRpcyBjb2xvcm1hcAtjl3IAAAAwdEVYdEF1dGhvcgBNYXRwbG90bGliIHYzLjcuMSwgaHR0cHM6Ly9tYXRwbG90bGliLm9yZyqv+E0AAAAydEVYdFNvZnR3YXJlAE1hdHBsb3RsaWIgdjMuNy4xLCBodHRwczovL21hdHBsb3RsaWIub3JnBAlnagAAAXVJREFUeJzt1rFJg2EUQFF/tUoj2AQMWCg4gwNYZAA3dwFHEEEkNnGJDx94z5nglnd72V7PF//I1dPjdMIy3w+30wnLfN5fTycs83XYphOWOR1+phOW2d99TCcs87x/n05Y5njzNp2wzHF3mk5Y6nI6AAD4ewYAAIIMAAAEGQAACDIAABBkAAAgyAAAQJABAIAgAwAAQQYAAIIMAAAEGQAACDIAABBkAAAgyAAAQJABAIAgAwAAQQYAAIIMAAAEGQAACDIAABBkAAAgyAAAQJABAIAgAwAAQQYAAIIMAAAEGQAACDIAABBkAAAgyAAAQJABAIAgAwAAQQYAAIIMAAAEGQAACDIAABBkAAAgyAAAQJABAIAgAwAAQQYAAIIMAAAEGQAACDIAABBkAAAgyAAAQJABAIAgAwAAQQYAAIIMAAAEGQAACDIAABBkAAAgyAAAQJABAIAgAwAAQQYAAIIMAAAEGQAACDIAABBkAAAgyAAAQNAvR6IMh3Xa0vIAAAAASUVORK5CYII=\"></div><div style=\"vertical-align: middle; max-width: 514px; display: flex; justify-content: space-between;\"><div style=\"float: left;\"><div title=\"#440154ff\" style=\"display: inline-block; width: 1em; height: 1em; margin: 0; vertical-align: middle; border: 1px solid #555; background-color: #440154ff;\"></div> under</div><div style=\"margin: 0 auto; display: inline-block;\">bad <div title=\"#00000000\" style=\"display: inline-block; width: 1em; height: 1em; margin: 0; vertical-align: middle; border: 1px solid #555; background-color: #00000000;\"></div></div><div style=\"float: right;\">over <div title=\"#fde725ff\" style=\"display: inline-block; width: 1em; height: 1em; margin: 0; vertical-align: middle; border: 1px solid #555; background-color: #fde725ff;\"></div></div>"
            ],
            "image/png": "[encoded data removed]"
          },
          "metadata": {},
          "execution_count": 19
        }
      ]
    },
    {
      "cell_type": "code",
      "source": [
        "all_labels = np.array(all_labels)\n",
        "values = values.numpy()"
      ],
      "metadata": {
        "id": "veConlBkjIqq"
      },
      "execution_count": 20,
      "outputs": []
    },
    {
      "cell_type": "code",
      "source": [
        "pc = plt.scatter(values[:, 0], values[:,1], c = all_labels, cmap = cmap)\n",
        "plt.colorbar(pc)"
      ],
      "metadata": {
        "id": "07ijg8n2ja_t",
        "colab": {
          "base_uri": "https://localhost:8080/",
          "height": 452
        },
        "outputId": "95542228-c8e4-4224-9ac6-41baf9573448"
      },
      "execution_count": 21,
      "outputs": [
        {
          "output_type": "execute_result",
          "data": {
            "text/plain": [
              "<matplotlib.colorbar.Colorbar at 0x78bdf2457d30>"
            ]
          },
          "metadata": {},
          "execution_count": 21
        },
        {
          "output_type": "display_data",
          "data": {
            "text/plain": [
              "<Figure size 640x480 with 2 Axes>"
            ],
            "image/png": "[encoded data removed]"
          },
          "metadata": {}
        }
      ]
    },
    {
      "cell_type": "code",
      "source": [
        "all_means = {}\n",
        "for i in range(10):\n",
        "  inds = np.argwhere(all_labels == i)\n",
        "  num_latents = values[inds].squeeze()\n",
        "  mean = num_latents.mean(axis = 0)\n",
        "  all_means[i] = (mean[0] , mean[1])"
      ],
      "metadata": {
        "id": "p-lsgdCQtv2D"
      },
      "execution_count": 22,
      "outputs": []
    },
    {
      "cell_type": "code",
      "source": [
        "torch.Tensor(all_means[0])[None, ...].shape"
      ],
      "metadata": {
        "id": "w3L0Bu8tlFeK",
        "colab": {
          "base_uri": "https://localhost:8080/"
        },
        "outputId": "9421a041-71a3-4fb1-be9d-573c7a1e194c"
      },
      "execution_count": 23,
      "outputs": [
        {
          "output_type": "execute_result",
          "data": {
            "text/plain": [
              "torch.Size([1, 2])"
            ]
          },
          "metadata": {},
          "execution_count": 23
        }
      ]
    },
    {
      "cell_type": "code",
      "source": [
        "with torch.no_grad():\n",
        "  pred = dec(torch.Tensor(all_means[1])[None, ...].to(device)).cpu()\n",
        "transforms.ToPILImage()(pred.reshape(1, 28, 28))"
      ],
      "metadata": {
        "id": "-BWeA3ynkbUE",
        "colab": {
          "base_uri": "https://localhost:8080/",
          "height": 45
        },
        "outputId": "1cb314c2-3f12-43bf-aabd-9cca0bce86ea"
      },
      "execution_count": 24,
      "outputs": [
        {
          "output_type": "execute_result",
          "data": {
            "text/plain": [
              "<PIL.Image.Image image mode=L size=28x28>"
            ],
            "image/png": "[encoded data removed]"
          },
          "metadata": {},
          "execution_count": 24
        }
      ]
    }
  ]
}