{
  "nbformat": 4,
  "nbformat_minor": 0,
  "metadata": {
    "colab": {
      "provenance": [],
      "authorship_tag": "ABX9TyMCqgKIDIDtwil91FLdLyKM",
      "include_colab_link": true
    },
    "kernelspec": {
      "name": "python3",
      "display_name": "Python 3"
    },
    "language_info": {
      "name": "python"
    }
  },
  "cells": [
    {
      "cell_type": "markdown",
      "metadata": {
        "id": "view-in-github",
        "colab_type": "text"
      },
      "source": [
        "<a href=\"https://colab.research.google.com/github/EthanW67/Machine-Learning-Research/blob/main/Research_Projects/Revised_Regular_CNN_6_27_24.ipynb\" target=\"_parent\"><img src=\"https://colab.research.google.com/assets/colab-badge.svg\" alt=\"Open In Colab\"/></a>"
      ]
    },
    {
      "cell_type": "markdown",
      "source": [
        "# Using the resized 28x28 to modified Regular CNN architecture.\n",
        "* Resized Original 28x28 NMIST dataset to 7x7 then resized 7x7 → 28x28\n",
        "* Compared and trained resized 28x28 with the original 28x28 NMIST dataset.\n"
      ],
      "metadata": {
        "id": "RnYoMSceWIOV"
      }
    },
    {
      "cell_type": "code",
      "execution_count": null,
      "metadata": {
        "id": "cKMt8h4mWBw7"
      },
      "outputs": [],
      "source": [
        "import torch\n",
        "from torchvision import datasets, transforms\n",
        "from torch.utils.data import DataLoader\n",
        "from torchvision.transforms import Resize\n",
        "from torchmetrics.image import StructuralSimilarityIndexMeasure, PeakSignalNoiseRatio\n",
        "device = \"cuda\" if torch.cuda.is_available() else \"cpu\"\n",
        "psnr = PeakSignalNoiseRatio()\n",
        "psnr.to(device)\n",
        "ssim = StructuralSimilarityIndexMeasure(data_range=1.0)\n",
        "ssim.to(device)"
      ]
    },
    {
      "cell_type": "markdown",
      "source": [
        "## Load and Resize dataset"
      ],
      "metadata": {
        "id": "4gXLrjidWVzO"
      }
    },
    {
      "cell_type": "code",
      "source": [
        "from torchvision import datasets, transforms\n",
        "from torch.utils.data import DataLoader\n",
        "\n",
        "# Define the transformations\n",
        "original_transforms = transforms.Compose([\n",
        "    transforms.ToTensor(), # Convert to tensor\n",
        "    transforms.Resize((28, 28)),\n",
        "])\n",
        "\n",
        "transform_down = transforms.Compose([\n",
        "    transforms.ToTensor(),  # Convert to tensor\n",
        "    transforms.Resize((7, 7))  # Resize to 7x7\n",
        "])\n",
        "\n",
        "transform_up = transforms.Compose([\n",
        "    transforms.Resize((28, 28)),  # Resize back to 28x28\n",
        "])\n",
        "\n",
        "# Regular Dataset\n",
        "train_dataset = datasets.MNIST(root='./data', train=True, download=True, transform=original_transforms)\n",
        "test_dataset = datasets.MNIST(root='./data', train=False, download=True, transform=original_transforms)\n",
        "\n",
        "# Load MNIST dataset and apply the downscale transformation\n",
        "train_dataset_down = datasets.MNIST(root='./data', train=True, download=True, transform=transform_down)\n",
        "test_dataset_down = datasets.MNIST(root='./data', train=False, download=True, transform=transform_down)\n",
        "\n",
        "# Apply the upscale transformation on the already downscaled datasets\n",
        "train_dataset_up = datasets.MNIST(root='./data', train=True, download=True, transform=transforms.Compose([transform_down, transform_up]))\n",
        "test_dataset_up = datasets.MNIST(root='./data', train=False, download=True, transform=transforms.Compose([transform_down, transform_up]))\n",
        "batch_size = 32\n",
        "\n",
        "# Original Dataset\n",
        "train_loader = DataLoader(dataset=train_dataset, batch_size=batch_size, shuffle=False)\n",
        "test_loader = DataLoader(dataset=test_dataset, batch_size=batch_size, shuffle=False)\n",
        "\n",
        "# Create DataLoader instances for the downscaled version\n",
        "train_loader_down = DataLoader(dataset=train_dataset_down, batch_size=batch_size, shuffle=False)\n",
        "test_loader_down = DataLoader(dataset=test_dataset_down, batch_size=batch_size, shuffle=False)\n",
        "\n",
        "# Create DataLoader instances for the upscaled version from downscaled images\n",
        "train_loader_up = DataLoader(dataset=train_dataset_up, batch_size=batch_size, shuffle=False)\n",
        "test_loader_up = DataLoader(dataset=test_dataset_up, batch_size=batch_size, shuffle=False)\n",
        "\n",
        "\n",
        "# Get the dimensions of the original dataset\n",
        "\n",
        "for batch_idx, (data, target) in enumerate(train_loader):\n",
        "    print(data.size())  # Should print torch.Size([64, 1, 28, 28])\n",
        "    break\n",
        "# Example of how you might check the sizes to confirm the process\n",
        "for batch_idx, (data, target) in enumerate(train_loader_down):\n",
        "    print(f\"Size of batch {batch_idx + 1} in train_loader_down: {data.size()}\")  # 7x7 images\n",
        "    break\n",
        "for batch_idx, (data, target) in enumerate(train_loader_up):\n",
        "    print(f\"Size of batch {batch_idx + 1} in train_loader_up: {data.size()}\")  # 28x28 images\n",
        "    break"
      ],
      "metadata": {
        "id": "CtylMPvvWHXa"
      },
      "execution_count": null,
      "outputs": []
    },
    {
      "cell_type": "markdown",
      "source": [
        "## Create CNN Model\n"
      ],
      "metadata": {
        "id": "GReFBUITWfK7"
      }
    },
    {
      "cell_type": "code",
      "source": [
        "import torch\n",
        "import torch.nn as nn\n",
        "import torch.optim as optim\n",
        "\n",
        "\n",
        "# Define a simple super-resolution model using convolutional layers\n",
        "class SuperResolutionModel(nn.Module):\n",
        "    def __init__(self, dropout_rate = 0.5):\n",
        "        super(SuperResolutionModel, self).__init__()\n",
        "        # Encoder\n",
        "        self.conv1 = nn.Conv2d(1, 32, kernel_size=3, padding=1)\n",
        "        self.bn1 = nn.BatchNorm2d(32)\n",
        "        self.conv2 = nn.Conv2d(32, 64, kernel_size=3, padding=1)\n",
        "        self.bn2 = nn.BatchNorm2d(64)\n",
        "        self.dropout1 = nn.Dropout2d(p=dropout_rate)\n",
        "        self.pool1 = nn.MaxPool2d(kernel_size=2, stride=2)\n",
        "\n",
        "        self.conv3 = nn.Conv2d(64, 128, kernel_size=3, padding=1)\n",
        "        self.bn3 = nn.BatchNorm2d(128)\n",
        "        self.conv4 = nn.Conv2d(128, 256, kernel_size=3, padding=1)\n",
        "        self.bn4 = nn.BatchNorm2d(256)\n",
        "        self.dropout2 = nn.Dropout2d(p=dropout_rate)\n",
        "        self.pool2 = nn.MaxPool2d(kernel_size=2, stride=2)\n",
        "\n",
        "        # Instance of ReLU\n",
        "        self.relu = nn.ReLU()\n",
        "\n",
        "        # Decoder\n",
        "        self.upconv1 = nn.ConvTranspose2d(256, 128, kernel_size=2, stride=2)\n",
        "        self.bn5 = nn.BatchNorm2d(128)\n",
        "        self.conv7 = nn.Conv2d(128, 64, kernel_size=3, padding=1)\n",
        "        self.bn6 = nn.BatchNorm2d(64)\n",
        "        self.dropout3 = nn.Dropout2d(p=dropout_rate)\n",
        "\n",
        "        self.upconv2 = nn.ConvTranspose2d(64, 32, kernel_size=2, stride=2)\n",
        "        self.bn7 = nn.BatchNorm2d(32)\n",
        "        self.conv8 = nn.Conv2d(32, 1, kernel_size=3, padding=1)\n",
        "\n",
        "        # Forward\n",
        "\n",
        "    def forward(self, x):\n",
        "        # Encoder\n",
        "        x = self.relu(self.bn1(self.conv1(x)))\n",
        "        x = self.relu(self.bn2(self.conv2(x)))\n",
        "        x = self.dropout1(x)\n",
        "        x = self.pool1(x)\n",
        "\n",
        "        x = self.relu(self.bn3(self.conv3(x)))\n",
        "        x = self.relu(self.bn4(self.conv4(x)))\n",
        "        x = self.dropout2(x)\n",
        "        x = self.pool2(x)\n",
        "\n",
        "        # Decoder\n",
        "        x = self.relu(self.bn5(self.upconv1(x)))\n",
        "        x = self.relu(self.bn6(self.conv7(x)))\n",
        "        x = self.dropout3(x)\n",
        "        x = self.relu(self.bn7(self.upconv2(x)))\n",
        "        x = self.relu(self.conv8(x))\n",
        "        return x"
      ],
      "metadata": {
        "id": "RIRH1koGWgDD"
      },
      "execution_count": null,
      "outputs": []
    },
    {
      "cell_type": "markdown",
      "source": [
        "## CNN Model with more Conv Layers"
      ],
      "metadata": {
        "id": "alkQS5OOWjwv"
      }
    },
    {
      "cell_type": "code",
      "source": [
        "\"\"\"\n",
        "class SuperResolutionModel(nn.Module):\n",
        "    def __init__(self, dropout_rate = 0.5):\n",
        "        super(SuperResolutionModel, self).__init__()\n",
        "        # Encoder\n",
        "        self.conv1 = nn.Conv2d(1, 32, kernel_size=3, padding=1)\n",
        "        self.bn1 = nn.BatchNorm2d(32)\n",
        "        self.conv2 = nn.Conv2d(32, 64, kernel_size=3, padding=1)\n",
        "        self.bn2 = nn.BatchNorm2d(64)\n",
        "        self.conv3 = nn.Conv2d(64, 128, kernel_size=3, padding=1)\n",
        "        self.dropout1 = nn.Dropout2d(p=dropout_rate)\n",
        "        self.pool1 = nn.MaxPool2d(kernel_size=2, stride=2)\n",
        "\n",
        "        self.conv4 = nn.Conv2d(128, 256, kernel_size=3, padding=1)\n",
        "        self.bn3 = nn.BatchNorm2d(256)\n",
        "        self.conv5 = nn.Conv2d(256, 512, kernel_size=3, padding=1)\n",
        "        self.bn4 = nn.BatchNorm2d(512)\n",
        "        self.conv6 = nn.Conv2d(512, 1024, kernel_size=3, padding=1)\n",
        "        self.dropout2 = nn.Dropout2d(p=dropout_rate)\n",
        "        self.pool2 = nn.MaxPool2d(kernel_size=2, stride=2)\n",
        "\n",
        "        # Instance of ReLU\n",
        "        self.relu = nn.ReLU()\n",
        "\n",
        "        # Decoder\n",
        "        self.upconv1 = nn.ConvTranspose2d(1024, 512, kernel_size=2, stride=2)\n",
        "        self.bn5 = nn.BatchNorm2d(512)\n",
        "        self.conv7 = nn.Conv2d(512, 256, kernel_size=3, padding=1)\n",
        "        self.conv8 = nn.Conv2d(256, 128, kernel_size=3, padding=1)\n",
        "        self.bn6 = nn.BatchNorm2d(128)\n",
        "        self.dropout3 = nn.Dropout2d(p=dropout_rate)\n",
        "\n",
        "        self.upconv2 = nn.ConvTranspose2d(128, 64, kernel_size=2, stride=2)\n",
        "        self.bn7 = nn.BatchNorm2d(64)\n",
        "        self.conv9 = nn.Conv2d(64, 32, kernel_size=3, padding=1)\n",
        "        self.dropout4 = nn.Dropout2d(p=dropout_rate)\n",
        "\n",
        "        self.conv10 = nn.Conv2d(32, 1, kernel_size=3, padding=1)\n",
        "\n",
        "        # Forward\n",
        "\n",
        "    def forward(self, x):\n",
        "        # Encoder\n",
        "        x = self.relu(self.bn1(self.conv1(x)))\n",
        "        x = self.relu(self.bn2(self.conv2(x)))\n",
        "        x = self.relu(self.conv3(x))\n",
        "        x = self.dropout1(x)\n",
        "        x = self.pool1(x)\n",
        "\n",
        "        x = self.relu(self.bn3(self.conv4(x)))\n",
        "        x = self.relu(self.bn4(self.conv5(x)))\n",
        "        x = self.relu(self.conv6(x))\n",
        "        x = self.dropout2(x)\n",
        "        x = self.pool2(x)\n",
        "\n",
        "        # Decoder\n",
        "        x = self.relu(self.bn5(self.upconv1(x)))\n",
        "        x = self.relu(self.conv7(x))\n",
        "        x = self.relu(self.bn6(self.conv8(x)))\n",
        "        x = self.dropout3(x)\n",
        "        x = self.relu(self.bn7(self.upconv2(x)))\n",
        "        x = self.relu(self.conv9(x))\n",
        "        x = self.dropout4(x)\n",
        "        x = self.relu(self.conv10(x))\n",
        "        return x\n",
        "\"\"\""
      ],
      "metadata": {
        "id": "Z7U2nnlhWpEC"
      },
      "execution_count": null,
      "outputs": []
    },
    {
      "cell_type": "markdown",
      "source": [
        "## Test and Train Model\n"
      ],
      "metadata": {
        "id": "_aGfT2nkWwkU"
      }
    },
    {
      "cell_type": "code",
      "source": [
        "device = torch.device(\"cuda\" if torch.cuda.is_available() else \"cpu\")\n",
        "# Instantiate the model, loss function, and optimizer\n",
        "model = SuperResolutionModel().to(device)\n",
        "criterion = nn.MSELoss()\n",
        "optimizer = optim.Adam(model.parameters(), lr=0.001)\n",
        "#optimizer = torch.optim.AdamW(model.parameters(), lr=1e-3, weight_decay=1e-5)\n",
        "\n",
        "epoch_numbers = []\n",
        "psnr_values = []\n",
        "ssim_values = []\n",
        "\n",
        "#training\n",
        "def image_up_train(model, criterion, optimizer, num_epochs):\n",
        "    \"\"\"\n",
        "    Compares the results with the original 28x28 MNISt dataset\n",
        "    \"\"\"\n",
        "    model.train()\n",
        "    for epoch in range(num_epochs):\n",
        "        running_loss = 0.0\n",
        "        for (images, _), (images_up, _ ) in zip(train_loader, train_loader_up):\n",
        "            images = images.to(device)\n",
        "            images_up = images.to(device)\n",
        "\n",
        "            # Zero the parameter gradients\n",
        "            optimizer.zero_grad()\n",
        "\n",
        "            # Forward + backward + optimize\n",
        "            outputs = model(images_up)\n",
        "            if outputs.shape != images.shape:\n",
        "                raise ValueError(f\"Output shape {outputs.shape} does not match target shape {images.shape}\")\n",
        "            loss = criterion(outputs, images)\n",
        "            loss.backward()\n",
        "            optimizer.step()\n",
        "\n",
        "            running_loss += loss.item()\n",
        "\n",
        "        print(f'Epoch {epoch + 1}: Loss {running_loss / len(train_loader_up)}')\n",
        "\n",
        "        PSNR_value, SSIM_value = PSNR_SSIM_Value(model, test_loader, test_loader_up)\n",
        "\n",
        "        epoch_numbers.append(epoch + 1)\n",
        "        psnr_values.append(PSNR_value)\n",
        "        ssim_values.append(SSIM_value)\n"
      ],
      "metadata": {
        "id": "oNDH63bhWxke"
      },
      "execution_count": null,
      "outputs": []
    },
    {
      "cell_type": "markdown",
      "source": [
        "##Helpful Functions\n"
      ],
      "metadata": {
        "id": "mZc-chpcW7qn"
      }
    },
    {
      "cell_type": "code",
      "source": [
        "import matplotlib.pyplot as plt\n",
        "\n",
        "\n",
        "def validate(model, loader):\n",
        "    model.eval()  # Set the model to evaluation mode\n",
        "    total_loss = 0.0\n",
        "    criterion = nn.MSELoss()\n",
        "    with torch.no_grad():  # No need to track gradients\n",
        "        for images, _ in loader:\n",
        "            images = images.to(device)\n",
        "\n",
        "            outputs = model(images)\n",
        "            loss = criterion(outputs, images)\n",
        "            total_loss += loss.item()\n",
        "\n",
        "    avg_loss = total_loss / len(loader)\n",
        "    print(f'Validation Loss: {avg_loss}')\n",
        "    return avg_loss\n",
        "\n",
        "\n",
        "\n",
        "\n",
        "def PSNR_SSIM_Value(model, loader, loader_up):\n",
        "    model.eval()\n",
        "    with torch.inference_mode():\n",
        "        for (images, _), (images_up, _) in zip(loader, loader_up):\n",
        "            images = images.to(device)\n",
        "            images_up = images_up.to(device)\n",
        "            #print(images.shape)\n",
        "            outputs = model(images_up)\n",
        "            #print(outputs.shape)\n",
        "            PSNR_value = psnr(outputs, images)\n",
        "            SSIM_value = ssim(outputs, images)\n",
        "            print(PSNR_value)\n",
        "            print(SSIM_value)\n",
        "            break\n",
        "    return  PSNR_value.item(), SSIM_value.item()"
      ],
      "metadata": {
        "id": "HsHphQYVW2Ep"
      },
      "execution_count": null,
      "outputs": []
    },
    {
      "cell_type": "markdown",
      "source": [
        "## Visualize"
      ],
      "metadata": {
        "id": "9A2r-owMXzqk"
      }
    },
    {
      "cell_type": "code",
      "source": [
        "def visualize_results_CNN(model, loader, loader_down, loader_up, criterion, optimizer, num_epochs):\n",
        "\n",
        "    image_up_train(model, criterion, optimizer, num_epochs)\n",
        "\n",
        "    # Plot the epoch numbers vs. PSNR and SSIM\n",
        "    plt.figure(figsize=(10, 5))\n",
        "    plt.subplot(1, 2, 1)\n",
        "    plt.plot(epoch_numbers, psnr_values, label='PSNR')\n",
        "    print(epoch_numbers)\n",
        "    print(psnr_values)\n",
        "    plt.xlabel('Epoch Number')\n",
        "    plt.ylabel('PSNR')\n",
        "    plt.title('Epoch Number vs. PSNR')\n",
        "    plt.grid(True)\n",
        "\n",
        "    plt.subplot(1, 2, 2)\n",
        "    plt.plot(epoch_numbers, ssim_values, label='SSIM')\n",
        "    print(ssim_values)\n",
        "    plt.xlabel('Epoch Number')\n",
        "    plt.ylabel('SSIM')\n",
        "    plt.title('Epoch Number vs. SSIM')\n",
        "    plt.grid(True)\n",
        "\n",
        "\n",
        "\n",
        "\n",
        "    model.eval()\n",
        "    with torch.no_grad():\n",
        "        for (images, _), (images_down, _), (images_up, _) in zip(loader, loader_down, loader_up):\n",
        "\n",
        "            images = images.to(device)\n",
        "            images_down = images_down.to(device)\n",
        "            images_up = images_up.to(device)\n",
        "            output = model(images_up)\n",
        "\n",
        "            print(images.shape)\n",
        "            print(images_down.shape)\n",
        "            print(images_up.shape)\n",
        "            print(output.shape)\n",
        "            # print(transform_down)\n",
        "\n",
        "            # Convert first 4 images in the batch from PyTorch tensors to NumPy arrays\n",
        "            original_images = images[:5].cpu().numpy()\n",
        "            seven_images = images_down[:5].cpu().numpy()\n",
        "            twenty_eight_images = images_up[:5].cpu().numpy()\n",
        "            reconstructed_images = output[:5].cpu().numpy()\n",
        "\n",
        "            # Plotting\n",
        "            fig, axes = plt.subplots(4, 5, figsize=(12, 9))\n",
        "            for i in range(5):\n",
        "                ax = axes[0][i]\n",
        "                ax.imshow(original_images[i][0], cmap='gray', interpolation='none')\n",
        "                ax.title.set_text('Original Image')\n",
        "                ax.axis('off')\n",
        "\n",
        "                ax = axes[1][i]\n",
        "                ax.imshow(seven_images[i][0], cmap='gray', interpolation='none')\n",
        "                ax.title.set_text('7x7 Images')\n",
        "                ax.axis('off')\n",
        "\n",
        "                ax = axes[2][i]\n",
        "                ax.imshow(twenty_eight_images[i][0], cmap='gray', interpolation='none')\n",
        "                ax.title.set_text('28x28 Images')\n",
        "                ax.axis('off')\n",
        "\n",
        "                ax = axes[3][i]\n",
        "                ax.imshow(reconstructed_images[i][0], cmap='gray', interpolation='none')\n",
        "                ax.title.set_text('Result Images')\n",
        "                ax.axis('off')\n",
        "\n",
        "            plt.show()\n",
        "            break  # Only show one batch of images\n",
        "\n",
        "visualize_results_CNN(model, test_loader, test_loader_down, test_loader_up, criterion, optimizer, num_epochs=30)\n"
      ],
      "metadata": {
        "id": "Imea-TL6Xj3M"
      },
      "execution_count": null,
      "outputs": []
    }
  ]
}