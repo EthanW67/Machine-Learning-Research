{
  "nbformat": 4,
  "nbformat_minor": 0,
  "metadata": {
    "colab": {
      "provenance": [],
      "authorship_tag": "ABX9TyO2OECWq8CAB7R8SvwU7iNs",
      "include_colab_link": true
    },
    "kernelspec": {
      "name": "python3",
      "display_name": "Python 3"
    },
    "language_info": {
      "name": "python"
    }
  },
  "cells": [
    {
      "cell_type": "markdown",
      "metadata": {
        "id": "view-in-github",
        "colab_type": "text"
      },
      "source": [
        "<a href=\"https://colab.research.google.com/github/EthanW67/Machine-Learning-Research/blob/main/Research_Projects/Revised_UNet_6_27_24.ipynb\" target=\"_parent\"><img src=\"https://colab.research.google.com/assets/colab-badge.svg\" alt=\"Open In Colab\"/></a>"
      ]
    },
    {
      "cell_type": "markdown",
      "source": [
        "# Using the resized 28x28 to modified UNet architecture.\n",
        "* Resized Original 28x28 NMIST dataset to 7x7 then resized 7x7 → 28x28\n",
        "* Compared and trained resized 28x28 with the original 28x28 NMIST dataset.\n"
      ],
      "metadata": {
        "id": "7eGKIWz8nYbd"
      }
    },
    {
      "cell_type": "code",
      "source": [
        "import torch\n",
        "from torchvision import datasets, transforms\n",
        "from torch.utils.data import DataLoader\n",
        "from torchvision.transforms import Resize\n",
        "from torchmetrics.image import StructuralSimilarityIndexMeasure, PeakSignalNoiseRatio\n",
        "device = \"cuda\" if torch.cuda.is_available() else \"cpu\"\n",
        "psnr = PeakSignalNoiseRatio()\n",
        "psnr.to(device)\n",
        "ssim = StructuralSimilarityIndexMeasure(data_range=1.0)\n",
        "ssim.to(device)\n",
        "import matplotlib.pyplot as plt\n"
      ],
      "metadata": {
        "id": "BvdVzeHgns9A"
      },
      "execution_count": null,
      "outputs": []
    },
    {
      "cell_type": "markdown",
      "source": [
        "\n",
        "\n",
        "## Load Dataset"
      ],
      "metadata": {
        "id": "ylPu2aZ6n6RG"
      }
    },
    {
      "cell_type": "code",
      "source": [
        "from torchvision import datasets, transforms\n",
        "from torch.utils.data import DataLoader\n",
        "\n",
        "# Define the transformations\n",
        "original_transforms = transforms.Compose([\n",
        "    transforms.ToTensor(), # Convert to tensor\n",
        "    transforms.Resize((28, 28)),\n",
        "    transforms.Normalize((0.5,), (0.5,))  # Normalize the image\n",
        "])\n",
        "\n",
        "transform_down = transforms.Compose([\n",
        "    transforms.ToTensor(),  # Convert to tensor\n",
        "    transforms.Resize((7, 7)),  # Resize to 7x7\n",
        "])\n",
        "\n",
        "transform_up = transforms.Compose([\n",
        "    transforms.Resize((28, 28)),  # Resize back to 28x28\n",
        "    transforms.Normalize((0.5,), (0.5,))  # Normalize the image\n",
        "\n",
        "])\n",
        "\n",
        "# Regular Dataset\n",
        "train_dataset = datasets.MNIST(root='./data', train=True, download=True, transform=original_transforms)\n",
        "test_dataset = datasets.MNIST(root='./data', train=False, download=True, transform=original_transforms)\n",
        "\n",
        "# Load MNIST dataset and apply the downscale transformation\n",
        "train_dataset_down = datasets.MNIST(root='./data', train=True, download=True, transform=transform_down)\n",
        "test_dataset_down = datasets.MNIST(root='./data', train=False, download=True, transform=transform_down)\n",
        "\n",
        "# Apply the upscale transformation on the already downscaled datasets\n",
        "train_dataset_up = datasets.MNIST(root='./data', train=True, download=True, transform=transforms.Compose([transform_down, transform_up]))\n",
        "test_dataset_up = datasets.MNIST(root='./data', train=False, download=True, transform=transforms.Compose([transform_down, transform_up]))\n",
        "\n",
        "batch_size = 32\n",
        "\n",
        "# Original Dataset\n",
        "train_loader = DataLoader(dataset=train_dataset, batch_size=batch_size, shuffle=False)\n",
        "test_loader = DataLoader(dataset=test_dataset, batch_size=batch_size, shuffle=False)\n",
        "\n",
        "# Create DataLoader instances for the downscaled version\n",
        "train_loader_down = DataLoader(dataset=train_dataset_down, batch_size=batch_size, shuffle=False)\n",
        "test_loader_down = DataLoader(dataset=test_dataset_down, batch_size=batch_size, shuffle=False)\n",
        "\n",
        "# Create DataLoader instances for the upscaled version from downscaled images\n",
        "train_loader_up = DataLoader(dataset=train_dataset_up, batch_size=batch_size, shuffle=False)\n",
        "test_loader_up = DataLoader(dataset=test_dataset_up, batch_size=batch_size, shuffle=False)\n",
        "\n",
        "\n",
        "# Get the dimensions of the original dataset\n",
        "\n",
        "for batch_idx, (data, target) in enumerate(train_loader):\n",
        "    print(data.size())  # Should print torch.Size([64, 1, 28, 28])\n",
        "    break\n",
        "# Example of how you might check the sizes to confirm the process\n",
        "for batch_idx, (data, target) in enumerate(train_loader_down):\n",
        "    print(f\"Size of batch {batch_idx + 1} in train_loader_down: {data.size()}\")  # 7x7 images\n",
        "    break\n",
        "for batch_idx, (data, target) in enumerate(train_loader_up):\n",
        "    print(f\"Size of batch {batch_idx + 1} in train_loader_up: {data.size()}\")  # 28x28 images\n",
        "    break"
      ],
      "metadata": {
        "id": "pGBTCTFRn8Wi"
      },
      "execution_count": null,
      "outputs": []
    },
    {
      "cell_type": "markdown",
      "source": [
        "## Function to plot images\n"
      ],
      "metadata": {
        "id": "Z9coB-Pen_Uu"
      }
    },
    {
      "cell_type": "code",
      "source": [
        "def plot_images(images, titles):\n",
        "    fig, axes = plt.subplots(1, len(images), figsize=(10, 3))\n",
        "    for ax, img, title in zip(axes, images, titles):\n",
        "        ax.imshow(img.squeeze(), cmap='gray')\n",
        "        ax.set_title(title)\n",
        "        ax.axis('off')\n",
        "    plt.show()\n",
        "\n",
        "# Load a single batch from each DataLoader\n",
        "original_data, _ = next(iter(train_loader))\n",
        "downscaled_data, _ = next(iter(train_loader_down))\n",
        "upscaled_data, _ = next(iter(train_loader_up))\n",
        "\n",
        "# Visualize the first image in the batch\n",
        "plot_images([original_data[0], downscaled_data[0], upscaled_data[0]], ['Original', 'Downscaled', 'Upscaled'])\n",
        "\n",
        "# Calculate and print PSNR and SSIM\n",
        "original_img = original_data[0].unsqueeze(0).to(device)\n",
        "upscaled_img = upscaled_data[0].unsqueeze(0).to(device)\n",
        "\n",
        "psnr_score = psnr(upscaled_img, original_img).item()\n",
        "ssim_score = ssim(upscaled_img, original_img).item()\n",
        "print(f\"PSNR Score: {psnr_score}\")\n",
        "print(f\"SSIM Score: {ssim_score}\")"
      ],
      "metadata": {
        "id": "6DWhpCU_oLSS"
      },
      "execution_count": null,
      "outputs": []
    },
    {
      "cell_type": "markdown",
      "source": [
        "## Create U-Net Model\n"
      ],
      "metadata": {
        "id": "_hZkMRk3oLw4"
      }
    },
    {
      "cell_type": "code",
      "source": [
        "import torch\n",
        "import torch.nn as nn\n",
        "import torch.optim as optim\n",
        "\n",
        "class u_net(nn.Module):\n",
        "    def __init__(self, dropout_rate = 0.5):\n",
        "        super(u_net, self).__init__()\n",
        "        # Encoder\n",
        "        self.conv1 = nn.Conv2d(1, 32, kernel_size=3, padding=1)\n",
        "        self.bn1 = nn.BatchNorm2d(32)\n",
        "        self.conv2 = nn.Conv2d(32, 32, kernel_size=3, padding=1)\n",
        "        self.dropout1 = nn.Dropout2d(p=dropout_rate)\n",
        "\n",
        "        self.pool = nn.MaxPool2d(kernel_size=2, stride=2)\n",
        "        self.conv3 = nn.Conv2d(32, 64, kernel_size=3, padding=1)\n",
        "        self.bn2 = nn.BatchNorm2d(64)\n",
        "        self.conv4 = nn.Conv2d(64, 64, kernel_size=3, padding=1)\n",
        "        self.dropout2 = nn.Dropout2d(p=dropout_rate)\n",
        "\n",
        "        # Bottleneck\n",
        "        self.bottleneck = nn.Conv2d(64, 128, kernel_size=3, padding=1)\n",
        "        self.bn3 = nn.BatchNorm2d(128)\n",
        "        self.bottleneck2 = nn.Conv2d(128, 128, kernel_size=3, padding=1)\n",
        "\n",
        "        # Decoder\n",
        "        self.upconv1 = nn.ConvTranspose2d(128, 64, kernel_size=2, stride=2)\n",
        "        self.conv5 = nn.Conv2d(128, 64, kernel_size=3, padding=1)\n",
        "        self.bn4 = nn.BatchNorm2d(64)\n",
        "        self.conv6 = nn.Conv2d(64, 64, kernel_size=3, padding=1)\n",
        "        self.dropout3 = nn.Dropout2d(p=dropout_rate)\n",
        "\n",
        "        self.upconv2 = nn.ConvTranspose2d(64, 32, kernel_size=2, stride=2)\n",
        "        self.conv7 = nn.Conv2d(64, 32, kernel_size=3, padding=1)\n",
        "        self.bn5 = nn.BatchNorm2d(32)\n",
        "        self.conv8 = nn.Conv2d(32, 32, kernel_size=3, padding=1)\n",
        "        self.dropout4 = nn.Dropout2d(p=dropout_rate)\n",
        "\n",
        "        # Output Layer\n",
        "        self.outconv = nn.Conv2d(32, 1, kernel_size=3, padding=1)\n",
        "\n",
        "        # ReLU Layer\n",
        "        self.relu = nn.ReLU()\n",
        "\n",
        "    def forward(self, x):\n",
        "        # Encode\n",
        "        x = self.relu(self.conv1(x))\n",
        "        x = self.bn1(x)\n",
        "        x = self.relu(self.conv2(x))\n",
        "        x = self.dropout1(x)\n",
        "        skip_connection1 = x\n",
        "        x = self.pool(x)\n",
        "\n",
        "        x = self.relu(self.conv3(x))\n",
        "        x = self.bn2(x)\n",
        "        x = self.relu(self.conv4(x))\n",
        "        x = self.dropout2(x)\n",
        "        skip_connection2 = x\n",
        "        x = self.pool(x)\n",
        "\n",
        "        # Bottleneck\n",
        "        x = self.relu(self.bottleneck(x))\n",
        "        x = self.bn3(x)\n",
        "        x = self.relu(self.bottleneck2(x))\n",
        "        # Decoder\n",
        "        x = self.upconv1(x)\n",
        "        x = self.relu(self.conv5(torch.cat((skip_connection2, x), 1))) # Concatenate after upsampling\n",
        "        x = self.bn4(x)\n",
        "        x = self.relu(self.conv6(x))\n",
        "        x = self.dropout3(x)\n",
        "\n",
        "        x = self.upconv2(x)\n",
        "        x = self.relu(self.conv7(torch.cat((skip_connection1, x), 1))) # Concatenate after upsampling\n",
        "        x = self.bn5(x)\n",
        "        x = self.relu(self.conv8(x))\n",
        "        x = self.dropout4(x)\n",
        "\n",
        "        # Output Layer\n",
        "        x = self.outconv(x)\n",
        "        return x"
      ],
      "metadata": {
        "id": "hcNbPC7KoNjM"
      },
      "execution_count": null,
      "outputs": []
    },
    {
      "cell_type": "markdown",
      "source": [
        "## Train Model"
      ],
      "metadata": {
        "id": "MeN9V_SgobQb"
      }
    },
    {
      "cell_type": "code",
      "source": [
        "device = torch.device(\"cuda\" if torch.cuda.is_available() else \"cpu\")\n",
        "model = u_net().to(device)\n",
        "#criterion = torch.nn.L1Loss()\n",
        "criterion = nn.MSELoss()\n",
        "optimizer = optim.Adam(model.parameters(), lr=0.001)\n",
        "#optimizer = torch.optim.AdamW(model.parameters(), lr=1e-3, weight_decay=1e-5)\n",
        "\n",
        "\n",
        "\n",
        "epoch_numbers = []\n",
        "psnr_values = []\n",
        "ssim_values = []\n",
        "\n",
        "# Define a function to train the model\n",
        "def train(model, criterion, optimizer, num_epochs):\n",
        "    model.train()\n",
        "    for epoch in range(num_epochs):\n",
        "        running_loss = 0.0\n",
        "        for (images, _), (images_up, _) in zip(train_loader, train_loader_up):\n",
        "            # Move tensors to the appropriate device\n",
        "            images = images.to(device)\n",
        "            images_up = images_up.to(device)\n",
        "\n",
        "            # Zero the parameter gradients\n",
        "            optimizer.zero_grad()\n",
        "\n",
        "            # Forward + backward + optimize\n",
        "            outputs = model(images_up)\n",
        "            loss = criterion(outputs, images)  # Using the original images as both input and target\n",
        "            loss.backward()\n",
        "            optimizer.step()\n",
        "\n",
        "            running_loss += loss.item()\n",
        "\n",
        "        print(f'Epoch {epoch+1}: Loss {running_loss / len(train_loader)}')\n",
        "\n",
        "        PSNR_value, SSIM_value = PSNR_SSIM_Value(model, train_loader, train_loader_up)\n",
        "\n",
        "        epoch_numbers.append(epoch + 1)\n",
        "        psnr_values.append(PSNR_value)\n",
        "        ssim_values.append(SSIM_value)\n",
        "\n",
        "# Train the model\n",
        "#train(model, criterion, optimizer, num_epochs = 2)"
      ],
      "metadata": {
        "id": "YDTafgZGogJT"
      },
      "execution_count": null,
      "outputs": []
    },
    {
      "cell_type": "markdown",
      "source": [
        "## Useful Functions"
      ],
      "metadata": {
        "id": "GEcgqAf5ogrT"
      }
    },
    {
      "cell_type": "code",
      "source": [
        "def validate(model, loader):\n",
        "    model.eval()  # Set the model to evaluation mode\n",
        "    total_loss = 0.0\n",
        "    criterion = nn.MSELoss()\n",
        "    with torch.no_grad():  # No need to track gradients\n",
        "        for images, _ in loader:\n",
        "            images = images.to(device)\n",
        "            high_res_images = images.to(device)\n",
        "\n",
        "            outputs = model(images)\n",
        "            loss = criterion(outputs, high_res_images)\n",
        "            total_loss += loss.item()\n",
        "\n",
        "    avg_loss = total_loss / len(loader)\n",
        "    print(f'Validation Loss: {avg_loss}')\n",
        "    return avg_loss\n",
        "\n",
        "\n",
        "def PSNR_SSIM_Value(model, loader, loader_up):\n",
        "    model.eval()\n",
        "    with torch.inference_mode():\n",
        "        for (images, _), (images_up, _) in zip(loader, loader_up):\n",
        "            images = images.to(device)\n",
        "            images_up = images_up.to(device)\n",
        "            #print(images.shape)\n",
        "            outputs = model(images_up)\n",
        "            #print(outputs.shape)\n",
        "            PSNR_value = psnr(outputs, images)\n",
        "            SSIM_value = ssim(outputs, images)\n",
        "            print(PSNR_value)\n",
        "            print(SSIM_value)\n",
        "            break\n",
        "    return  PSNR_value.item(), SSIM_value.item()\n"
      ],
      "metadata": {
        "id": "R-u4NzQZom1p"
      },
      "execution_count": null,
      "outputs": []
    },
    {
      "cell_type": "markdown",
      "source": [
        "## Visualize"
      ],
      "metadata": {
        "id": "m5FwMCxjonXi"
      }
    },
    {
      "cell_type": "code",
      "source": [
        "def visualize_results_UNet(model, loader, loader_down, loader_up, criterion, optimizer, num_epochs):\n",
        "    train(model, criterion, optimizer, num_epochs)\n",
        "\n",
        "    # Plot the epoch numbers vs. PSNR and SSIM\n",
        "    plt.figure(figsize=(10, 5))\n",
        "    plt.subplot(1, 2, 1)\n",
        "    plt.plot(epoch_numbers, psnr_values, label='PSNR')\n",
        "    print(epoch_numbers)\n",
        "    print(psnr_values)\n",
        "    plt.xlabel('Epoch Number')\n",
        "    plt.ylabel('PSNR')\n",
        "    plt.title('Epoch Number vs. PSNR')\n",
        "    plt.grid(True)\n",
        "\n",
        "    plt.subplot(1, 2, 2)\n",
        "    plt.plot(epoch_numbers, ssim_values, label='SSIM')\n",
        "    print(ssim_values)\n",
        "    plt.xlabel('Epoch Number')\n",
        "    plt.ylabel('SSIM')\n",
        "    plt.title('Epoch Number vs. SSIM')\n",
        "    plt.grid(True)\n",
        "\n",
        "    plt.show()\n",
        "\n",
        "    model.eval()\n",
        "    with torch.no_grad():\n",
        "        for (images, _), (images_down, _), (images_up, _) in zip(loader, loader_down, loader_up):\n",
        "\n",
        "            images = images.to(device)\n",
        "            images_down = images_down.to(device)\n",
        "            images_up = images_up.to(device)\n",
        "            output = model(images_up)\n",
        "\n",
        "            print(images.shape)\n",
        "            print(images_down.shape)\n",
        "            print(images_up.shape)\n",
        "            print(output.shape)\n",
        "            # print(transform_down)\n",
        "\n",
        "            # Convert first 4 images in the batch from PyTorch tensors to NumPy arrays\n",
        "            original_images = images[:5].cpu().numpy()\n",
        "            seven_images = images_down[:5].cpu().numpy()\n",
        "            twenty_eight_images = images_up[:5].cpu().numpy()\n",
        "            reconstructed_images = output[:5].cpu().numpy()\n",
        "\n",
        "            # Plotting\n",
        "            fig, axes = plt.subplots(4, 5, figsize=(12, 9))\n",
        "            for i in range(5):\n",
        "                ax = axes[0][i]\n",
        "                ax.imshow(original_images[i][0], cmap='gray', interpolation='none')\n",
        "                ax.title.set_text('Original Image')\n",
        "                ax.axis('off')\n",
        "\n",
        "                ax = axes[1][i]\n",
        "                ax.imshow(seven_images[i][0], cmap='gray', interpolation='none')\n",
        "                ax.title.set_text('7x7 Images')\n",
        "                ax.axis('off')\n",
        "\n",
        "                ax = axes[2][i]\n",
        "                ax.imshow(twenty_eight_images[i][0], cmap='gray', interpolation='none')\n",
        "                ax.title.set_text('28x28 Images')\n",
        "                ax.axis('off')\n",
        "\n",
        "                ax = axes[3][i]\n",
        "                ax.imshow(reconstructed_images[i][0], cmap='gray', interpolation='none')\n",
        "                ax.title.set_text('Result Images')\n",
        "                ax.axis('off')\n",
        "\n",
        "            plt.show()\n",
        "            break  # Only show one batch of images\n",
        "\n",
        "visualize_results_UNet(model, test_loader, test_loader_down, test_loader_up, criterion, optimizer, num_epochs=5)\n",
        "\n"
      ],
      "metadata": {
        "id": "gfVhlyIdos8O"
      },
      "execution_count": null,
      "outputs": []
    }
  ]
}